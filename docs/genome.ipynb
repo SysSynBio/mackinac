{
 "cells": [
  {
   "cell_type": "markdown",
   "metadata": {},
   "source": [
    "## Work with PATRIC genomes\n",
    "\n",
    "Mackinac provides functions for working with PATRIC genomes which can be used to reconstruct models using the PATRIC web service, the ModelSEED web service, or with template models.\n",
    "\n",
    "PATRIC updates the annotations for genomes on a regular schedule so the data returned by the genome functions can be different depending on when you get the data. Check the [PATRIC News](https://docs.patricbrc.org/news/index.html) for details on the changes in each PATRIC release."
   ]
  },
  {
   "cell_type": "code",
   "execution_count": 1,
   "metadata": {},
   "outputs": [],
   "source": [
    "import mackinac"
   ]
  },
  {
   "cell_type": "markdown",
   "metadata": {},
   "source": [
    "Get summary information for a PATRIC genome with `get_genome_summary()`. You can [search](https://www.patricbrc.org/view/DataType/Genomes) on the PATRIC website for available organisms. The genome ID [226186.12](https://www.patricbrc.org/view/Genome/226186.12) is for the gram negative bacteria Bacteroides thetaiotaomicron VPI-5482. Note that information available in the summary can be different for different genomes depending on the source of the genome."
   ]
  },
  {
   "cell_type": "code",
   "execution_count": 2,
   "metadata": {},
   "outputs": [
    {
     "data": {
      "text/plain": [
       "{'_version_': 1585509101369032700,\n",
       " 'assembly_accession': 'GCA_000011065.1',\n",
       " 'bioproject_accession': 'PRJNA399',\n",
       " 'biosample_accession': 'SAMN02604314',\n",
       " 'brc1_cds': 0,\n",
       " 'cell_shape': 'Rod',\n",
       " 'chromosomes': 1,\n",
       " 'class': 'Bacteroidia',\n",
       " 'comments': ['Bacteroides thetaiotaomicron strain VPI-5482. This is the type strain for this organism and was isolated from the feces of a healthy adult.'],\n",
       " 'common_name': 'Bacteroides_thetaiotaomicron_VPI-5482',\n",
       " 'completion_date': '2003-03-29T00:00:00Z',\n",
       " 'contigs': 0,\n",
       " 'date_inserted': '2014-12-08T22:10:24.729Z',\n",
       " 'date_modified': '2015-03-16T03:17:09.594Z',\n",
       " 'disease': ['Peritonitis'],\n",
       " 'document_type': 'genome',\n",
       " 'family': 'Bacteroidaceae',\n",
       " 'gc_content': 42.9,\n",
       " 'genbank_accessions': 'AE015928,AY171301',\n",
       " 'genome_id': '226186.12',\n",
       " 'genome_length': 6293399,\n",
       " 'genome_name': 'Bacteroides thetaiotaomicron VPI-5482',\n",
       " 'genome_status': 'Complete',\n",
       " 'genus': 'Bacteroides',\n",
       " 'gram_stain': '-',\n",
       " 'habitat': 'Host-associated',\n",
       " 'isolation_comments': 'isolated from the feces of a healthy adult',\n",
       " 'isolation_source': 'the feces of a healthy adult',\n",
       " 'kingdom': 'Bacteria',\n",
       " 'ncbi_project_id': '399',\n",
       " 'optimal_temperature': '-',\n",
       " 'order': 'Bacteroidales',\n",
       " 'organism_name': 'Bacteroides thetaiotaomicron VPI-5482',\n",
       " 'owner': 'PATRIC',\n",
       " 'oxygen_requirement': 'Anaerobic',\n",
       " 'p2_genome_id': 70966,\n",
       " 'patric_cds': 4872,\n",
       " 'phylum': 'Bacteroidetes',\n",
       " 'plasmids': 1,\n",
       " 'public': True,\n",
       " 'publication': '12663928,19321416',\n",
       " 'reference_genome': 'Reference',\n",
       " 'refseq_accessions': 'NC_004663,NC_004703',\n",
       " 'refseq_cds': 4816,\n",
       " 'refseq_project_id': '62913',\n",
       " 'sequences': 2,\n",
       " 'sequencing_centers': 'Genome Sequencing Center (GSC) at Washington University (WashU) School of Medicine',\n",
       " 'sequencing_status': 'complete',\n",
       " 'species': 'Bacteroides thetaiotaomicron',\n",
       " 'strain': 'VPI-5482',\n",
       " 'taxon_id': 226186,\n",
       " 'taxon_lineage_ids': ['131567',\n",
       "  '2',\n",
       "  '1783270',\n",
       "  '68336',\n",
       "  '976',\n",
       "  '200643',\n",
       "  '171549',\n",
       "  '815',\n",
       "  '816',\n",
       "  '818',\n",
       "  '226186'],\n",
       " 'taxon_lineage_names': ['cellular organisms',\n",
       "  'Bacteria',\n",
       "  'FCB group',\n",
       "  'Bacteroidetes/Chlorobi group',\n",
       "  'Bacteroidetes',\n",
       "  'Bacteroidia',\n",
       "  'Bacteroidales',\n",
       "  'Bacteroidaceae',\n",
       "  'Bacteroides',\n",
       "  'Bacteroides thetaiotaomicron',\n",
       "  'Bacteroides thetaiotaomicron VPI-5482'],\n",
       " 'temperature_range': 'Mesophilic',\n",
       " 'type_strain': 'Yes'}"
      ]
     },
     "execution_count": 2,
     "metadata": {},
     "output_type": "execute_result"
    }
   ],
   "source": [
    "mackinac.get_genome_summary('226186.12')"
   ]
  },
  {
   "cell_type": "markdown",
   "metadata": {},
   "source": [
    "Get the features for an annotated genome with `get_genome_features()`. Both PATRIC and RefSeq annotations are available. Note that the number of features and details of the features can change as PATRIC updates the annotations."
   ]
  },
  {
   "cell_type": "code",
   "execution_count": 3,
   "metadata": {},
   "outputs": [
    {
     "data": {
      "text/plain": [
       "4965"
      ]
     },
     "execution_count": 3,
     "metadata": {},
     "output_type": "execute_result"
    }
   ],
   "source": [
    "features = mackinac.get_genome_features('226186.12', annotation='PATRIC')\n",
    "len(features)"
   ]
  },
  {
   "cell_type": "markdown",
   "metadata": {},
   "source": [
    "The returned list has detailed information about each feature including the type and DNA sequence. If the feature is a coding sequence, the returned data also includes the amino acid sequence."
   ]
  },
  {
   "cell_type": "code",
   "execution_count": 4,
   "metadata": {},
   "outputs": [
    {
     "data": {
      "text/plain": [
       "{'aa_length': 1052,\n",
       " 'aa_sequence': 'MKIEKFYLFLLACFVAIGAYSQDGQQKMTGDEKSQQQSDAKVKITGQVFDESGEGIPGANVTLKSNPTSGTVTDLDGKFILMASPQKDVLVVSFIGYNTQEFPLKGKTNVTIQLSQNVNELDAVEIVAFGTQKKESVIGSITTLSPKSLRVPSSNMTTALAGQVAGIISYQTSGEPGADDASFFVRGIASFGFNTSPLILIDNIESTSTDLGRLNPDDIESFSIMKDAMATALYGSRGANGVVLVKTKEGERGKTKFDVRIEGSNSRPTSNIELADPVTYMKLHNEAILTRDPSAPVMYSDDKIDRTVPGSGSIIYPTNDWRRQLMKNSTWNGRANMSISGGGNSATYYVSLRYTKDQGLLNVDGKNNFNNNINLQTYQMRANVNINVTKTTQVRVNLSGIFDTYEGPIYSGSDIYKMVMKSNPVLFPAVYPTDEQHKYIKHILFGNSDDGSYLNPYAEMVKGYKEYENTTLLATLGVTQDLNFITKGLKFEGFFNVSRKSYYGQTRQYKPYYYALSSYDFMTEKYSIENINPDSGTEYLDFSPGDKTVNNVMTIETRTSYNQTFGDHSVGGLIVTQYIDSKNPNYKTLQESLPSRNMGVSGRFTYAYSDRYFTEFNFGYNASERFDKKHRWGFFPSVGGGWMISNEPFFQPLSSKITKLKLRASYGLVGNDKIGRVDERFLYLSNVNMNAGGASFGYENKYSRPGVNVSRYANPAIGWEKSRKANFALEASFYGFDLIAEYFTEHRTDILQKRASIPSVMGYQADVYANIGETKGHGVDLDLKYQKNLNKNAFLIVRGNLTYAHSEYLKYEDNTYDKEWWKYKIGYSPNQKWGYIAEGLFIDDAEVANSPVQFGDYKAGDIKYRDMNGDGVINSLDQVPIGHPTSPEINYGFGSTFSYKGFDINFQFHGSAQSSFWIDYDKMSPFFKDSKMSQKTNNQLVKFIANSYWSESNRNRYATWPRLSTTSVANNKELSTWFMRDGSFLRLKLVELGYTVPQKIVSKWGMSNLRLYMSSTNLFVLSKFKDWDVELAGNGLNYPLQRVFNIGVNVSF',\n",
       " 'aa_sequence_md5': '7a4ce145bf65d16f0ff5240e40a33cf9',\n",
       " 'accession': 'NC_004663',\n",
       " 'alt_locus_tag': 'VBIBacThe70966_3018',\n",
       " 'annotation': 'PATRIC',\n",
       " 'date_inserted': '2014-10-20T23:55:52.504Z',\n",
       " 'date_modified': '2014-10-27T18:24:47.095Z',\n",
       " 'end': 3743808,\n",
       " 'feature_id': 'PATRIC.226186.12.NC_004663.CDS.3740650.3743808.rev',\n",
       " 'feature_type': 'CDS',\n",
       " 'figfam_id': 'FIG01260980',\n",
       " 'gene_id': 1075832,\n",
       " 'genome_id': '226186.12',\n",
       " 'genome_name': 'Bacteroides thetaiotaomicron VPI-5482',\n",
       " 'gi': 29348377,\n",
       " 'location': 'complement(3740650..3743808)',\n",
       " 'na_length': 3159,\n",
       " 'na_sequence': 'atgaaaattgaaaagttttatttgtttctgctagcttgctttgtcgcgataggagcatattcgcaagatgggcaacagaaaatgactggtgatgaaaagagtcagcagcaaagtgatgcaaaagttaagattaccgggcaggtctttgatgagagcggtgaaggaatacctggagcgaatgttactcttaaaagtaatcccaccagtggaactgtcacagatctggatggtaagtttattttgatggcttctcctcaaaaggatgtgctggtagtcagctttattggatataacacacaagaatttccactgaaagggaaaacaaacgttaccatccaactctcacaaaacgtaaatgaactggatgcggtggaaattgtggcattcggaacacaaaagaaggagagtgtgattggttctatcactacactttcgccaaagagcctgagagtgccgagcagtaatatgacaactgcattggcaggtcaggtagccggtattatttcttatcagacatcaggagagccgggtgcggacgatgctagcttttttgtacgtggtatcgcatctttcggatttaacaccagtcctttgattctgattgataacattgaatctacaagtacggacttagggcgtttgaatcccgatgatatcgaaagtttttcaatcatgaaagatgccatggcaacggccctttacggttcgagaggagctaatggcgtcgttctagtaaagacaaaagagggagagagaggaaaaactaagtttgatgtaagaatagagggaagtaattctcgtccgaccagtaatattgagttggcagaccctgtcacttacatgaaattgcataatgaagccatcttaacacgtgatccttccgcccctgtcatgtatagtgatgataaaatagacagaaccgttccgggatctggttctatcatttatcctacaaatgactggagaaggcaactaatgaagaactcgacctggaatggaagagccaacatgagcatcagtggcggaggaaattcggctacgtattacgtgtctctgcgatataccaaagaccagggtttgctcaacgtagacggcaagaacaacttcaacaacaatatcaatcttcagacttatcagatgagggctaatgtcaacatcaatgtgacaaaaacgacccaggtaagagtaaacttaagtggaatctttgacacttatgaaggtcctatttattcgggatcggatatttataagatggtaatgaagtctaatcctgtactttttcccgctgtatatcctaccgatgaacaacataaatatatcaaacacattctttttggaaacagcgatgacggaagttatcttaacccgtatgctgaaatggtaaaaggatataaggaatatgagaatacgactcttcttgctacattaggtgttacgcaggacttgaactttatcactaaaggtttgaaatttgaaggtttcttcaacgtttctcgtaaatcatattacggtcagaccagacaatataagccatattactatgctttaagttcttatgatttcatgacagagaaatattctatcgaaaacatcaatcctgactccggaacggaataccttgattttagtcccggtgacaagactgtcaacaatgtaatgacaatcgaaacgagaaccagttataatcagactttcggtgatcattccgtaggtggtcttatcgttactcagtatatcgacagtaagaatccaaactacaaaactttgcaggagagcttgccttcaagaaatatgggtgtgtcgggacgttttacttatgcctatagtgaccgctatttcacggagttcaattttggatacaatgcttccgaacgctttgataagaaacacagatggggattctttccgtccgtcggtggtggctggatgatttcgaacgaaccattcttccaaccgctcagttcaaaaattacgaaattgaaactaagagcctcatacggtttggtgggaaatgataagattggcagagtcgatgaacgtttcttatatctgtctaatgtgaatatgaatgcaggtggagcatctttcgggtatgaaaacaaatatagcagaccgggcgtaaatgtttcacgttatgctaatcctgccattggatgggaaaaatcccgtaaagctaatttcgcattggaagcttctttctacggatttgacctgatagctgaatatttcacagaacatcgtactgacatattacagaaaagagccagtattccaagcgtaatgggatatcaggcagacgtatatgctaacattggcgagaccaaaggacacggtgtggatcttgatttaaagtatcaaaagaaccttaacaaaaacgcttttttgatagtacgcggaaacttaacctatgcgcatagtgaatatctgaaatatgaagataacacgtatgataaggaatggtggaaatacaaaataggctactcgcccaaccagaagtggggatacattgcggaagggctatttatagacgatgcggaagtggccaactctcctgtacagtttggtgattataaagccggagatatcaaataccgggatatgaatggagatggagtaattaattcattggatcaagttcctattggacatccgactagtccggaaatcaactatggctttggatcaacatttagctataaaggttttgacatcaatttccagttccacggctcggcgcagtcttctttctggattgattatgataagatgtctccattctttaaagattcgaagatgtctcagaaaactaataatcaactagtgaaatttattgcaaatagctattggtcggaaagtaaccgcaatcgttatgcaacatggcccagattgtcaaccacttctgttgccaacaataaagaactgagtacatggttcatgagagacggttccttcttacgactgaaattggttgaactgggatatacagtacctcaaaaaattgtgagcaaatggggtatgtccaatctgaggctctatatgtcttctaccaatctttttgttttgagtaagttcaaggattgggatgtggaattggcaggtaatggtcttaattatccgttacaacgtgtattcaatattggtgtaaatgtaagtttctaa',\n",
       " 'owner': 'PATRIC',\n",
       " 'p2_feature_id': 21060909,\n",
       " 'patric_id': 'fig|226186.12.peg.3018',\n",
       " 'pgfam_id': 'PGF_02755714',\n",
       " 'plfam_id': 'PLF_816_00024336',\n",
       " 'pos_group': 'NC_004663:3740650:-',\n",
       " 'product': 'Outer membrane TonB-dependent transporter, utilization system for glycans and polysaccharides (PUL), SusC family',\n",
       " 'protein_id': 'NP_811880.1',\n",
       " 'public': True,\n",
       " 'refseq_locus_tag': 'BT_2968',\n",
       " 'segments': ['3740650..3743808'],\n",
       " 'sequence_id': 'NC_004663',\n",
       " 'start': 3740650,\n",
       " 'strand': '-',\n",
       " 'taxon_id': 226186,\n",
       " 'uniprotkb_accession': ['Q8A3I6']}"
      ]
     },
     "execution_count": 4,
     "metadata": {},
     "output_type": "execute_result"
    }
   ],
   "source": [
    "features[100]"
   ]
  }
 ],
 "metadata": {
  "kernelspec": {
   "display_name": "python36",
   "language": "python",
   "name": "python36"
  },
  "language_info": {
   "codemirror_mode": {
    "name": "ipython",
    "version": 3
   },
   "file_extension": ".py",
   "mimetype": "text/x-python",
   "name": "python",
   "nbconvert_exporter": "python",
   "pygments_lexer": "ipython3",
   "version": "3.6.1"
  }
 },
 "nbformat": 4,
 "nbformat_minor": 2
}
