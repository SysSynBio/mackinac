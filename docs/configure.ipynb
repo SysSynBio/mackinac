{
 "cells": [
  {
   "cell_type": "markdown",
   "metadata": {},
   "source": [
    "## Get a PATRIC authentication token\n",
    "\n",
    "You need to provide a PATRIC authentiation token to use the ModelSEED or PATRIC web services.\n",
    "\n",
    "Mackinac reconstructs metabolic models from genomes available in the [Pathosystems Resource Integration Center](https://www.patricbrc.org/portal/portal/patric/Home) (PATRIC). If you are not a [registered PATRIC user](http://enews.patricbrc.org/faqs/workspace-faqs/registration-faqs/), you must complete a [new user registration](https://user.patricbrc.org/register/) to work with the ModelSEED and PATRIC web services.\n",
    "\n",
    "After you become a registered user, you need to provide an authentication token with your PATRIC username and password. The `get_token()` function stores the authentication token in the `.patric_config` file in your home directory. You can use the token until it expires. \n",
    "\n",
    "Change `username` in the cell below to your PATRIC username and enter your password when prompted. You only need to run this the first time you use Mackinac or when the token has expired."
   ]
  },
  {
   "cell_type": "code",
   "execution_count": null,
   "metadata": {},
   "outputs": [],
   "source": [
    "mackinac.get_token('username')"
   ]
  },
  {
   "cell_type": "markdown",
   "metadata": {},
   "source": [
    "## Install a search program\n",
    "\n",
    "If you call the likelihood-based gene annotation functions, Mackinac uses a search progam and a search database which requires some additional configuration on your system. Mackinac supports the USEARCH and BLASTP search programs, both of which are free. We recommend USEARCH because it has better performance compared to BLASTP.\n",
    "\n",
    "Follow the directions to install one of the supported search programs and then follow the directions to download the search database. \n",
    "\n",
    "### How to install USEARCH program\n",
    "\n",
    "[USEARCH](http://www.drive5.com/usearch/) is \"a unique sequence analysis tool\" that \"offers search and clustering algorithms that are often orders of magnitude faster than BLAST\". Licenses for the 32-bit USEARCH are free for all users but the license does not allow for re-distribution of the binary. So you must register to download the USEARCH executable and install it on your system.\n",
    "\n",
    "First, [submit a request](http://www.drive5.com/usearch/download.html) to download USEARCH for your system. Linux, Windows, and MacOS are all supported. After submitting the request, you will receive an email with a link that allows you to download the USEARCH program. The USEARCH program is completely self-contained so there is no installer for it.  You can put the USEARCH program in any location on your system. If you are using a virutal environment, you can put the USEARCH program in the \"bin\" folder of the virtual environment. See [Installing USEARCH](http://www.drive5.com/usearch/manual/install.html) for more information and help with common installation problems.\n",
    "\n",
    "Second, set the path to where you installed the USEARCH program. In this example, USEARCH is installed in the user's home directory."
   ]
  },
  {
   "cell_type": "code",
   "execution_count": 1,
   "metadata": {},
   "outputs": [],
   "source": [
    "import mackinac\n",
    "from os.path import expanduser, join, exists\n",
    "from os import makedirs\n",
    "search_program_path = join(expanduser('~'), 'usearch')"
   ]
  },
  {
   "cell_type": "markdown",
   "metadata": {},
   "source": [
    "### How to install BLASTP program\n",
    "\n",
    "[BLASTP](https://blast.ncbi.nlm.nih.gov/Blast.cgi?PROGRAM=blastp&PAGE_TYPE=BlastSearch&LINK_LOC=blasthome) is a component of the BLAST suite for comparing protein sequences. \n",
    "\n",
    "First, download the appropriate version for your system from NCBI. You can put the BLASTP program in any location on your system. If you are using a virutal environment, you can put the BLASTP program in the \"bin\" folder of the virtual environment. \n",
    "\n",
    "Second, set the path to where you installed the BLASTP program. In this example, BLASTP is installed in the user's home directory."
   ]
  },
  {
   "cell_type": "code",
   "execution_count": null,
   "metadata": {},
   "outputs": [],
   "source": [
    "import mackinac\n",
    "from os.path import expanduser, join, exists\n",
    "from os import makedirs\n",
    "search_program_path = join(expanduser('~'), 'blastp')"
   ]
  },
  {
   "cell_type": "markdown",
   "metadata": {},
   "source": [
    "## Download data files and build a search database\n",
    "\n",
    "Likelihood-based gene annotation uses a search database to match genome features to protein sequences with known functions. There are two data files: \n",
    "\n",
    "1. a FASTA file with the known protein sequences \n",
    "2. a file that maps feature IDs from the FASTA file to functional roles from genome annotations\n",
    "\n",
    "Create a folder for storing the data files. Change the value assigned to `data_folder` if you want to use a different location from your home folder."
   ]
  },
  {
   "cell_type": "code",
   "execution_count": 2,
   "metadata": {},
   "outputs": [],
   "source": [
    "data_folder = join(expanduser('~'), 'mackinac_data')\n",
    "if not exists(data_folder):\n",
    "    makedirs(data_folder)"
   ]
  },
  {
   "cell_type": "markdown",
   "metadata": {},
   "source": [
    "Set variables for the locations of the data files. "
   ]
  },
  {
   "cell_type": "code",
   "execution_count": 3,
   "metadata": {},
   "outputs": [],
   "source": [
    "fid_role_path = join(data_folder, 'otu_fid_role.tsv')\n",
    "protein_sequence_path = join(data_folder, 'protein.fasta')\n",
    "search_db_path = join(data_folder, 'protein.udb')"
   ]
  },
  {
   "cell_type": "markdown",
   "metadata": {},
   "source": [
    "Download the files and create the search database. Note this step can take a few minutes, depending on your network connection."
   ]
  },
  {
   "cell_type": "code",
   "execution_count": 4,
   "metadata": {},
   "outputs": [],
   "source": [
    "mackinac.download_data_files(fid_role_path, protein_sequence_path, search_db_path, search_program_path)"
   ]
  }
 ],
 "metadata": {
  "kernelspec": {
   "display_name": "python36",
   "language": "python",
   "name": "python36"
  },
  "language_info": {
   "codemirror_mode": {
    "name": "ipython",
    "version": 3
   },
   "file_extension": ".py",
   "mimetype": "text/x-python",
   "name": "python",
   "nbconvert_exporter": "python",
   "pygments_lexer": "ipython3",
   "version": "3.6.1"
  }
 },
 "nbformat": 4,
 "nbformat_minor": 2
}
