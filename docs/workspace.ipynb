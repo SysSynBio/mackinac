{
 "cells": [
  {
   "cell_type": "markdown",
   "metadata": {},
   "source": [
    "## Work with PATRIC workspace\n",
    "\n",
    "The PATRIC web service and the ModelSEED web service both use the same PATRIC workspace. Mackinac provides functions for managing and working with your PATRIC workspace. The ModelSEED web service stores models in `/<userid>@patricbrc.org/modelseed`. The PATRIC web service stores models in `/<userid>@patricbrc.org/home/models`."
   ]
  },
  {
   "cell_type": "code",
   "execution_count": 1,
   "metadata": {},
   "outputs": [],
   "source": [
    "import mackinac"
   ]
  },
  {
   "cell_type": "markdown",
   "metadata": {},
   "source": [
    "Get a list of objects in a folder in a workspace with `list_workspace_objects()`. For example, get a list of the templates available for reconstructing models with this command:"
   ]
  },
  {
   "cell_type": "code",
   "execution_count": 2,
   "metadata": {},
   "outputs": [
    {
     "name": "stdout",
     "output_type": "stream",
     "text": [
      "Contents of /chenry/public/modelsupport/templates:\n",
      "-rr chenry    \t  27225828\t2016-06-23T15:25:46Z\tmodeltemplate\t/chenry/public/modelsupport/templates/Core.modeltemplate\n",
      "-rr chenry    \t  19776723\t2016-06-27T21:31:36Z\tmodeltemplate\t/chenry/public/modelsupport/templates/newplant.modeltemplate\n",
      "-rr chenry    \t  73533708\t2016-09-08T07:17:41Z\tmodeltemplate\t/chenry/public/modelsupport/templates/FullBiomass.modeltemplate\n",
      "-rr chenry    \t  26559014\t2016-11-16T06:52:49Z\tmodeltemplate\t/chenry/public/modelsupport/templates/GramNegative.modeltemplate\n",
      "-rr chenry    \t  26564644\t2016-11-16T06:55:11Z\tmodeltemplate\t/chenry/public/modelsupport/templates/GramPositive.modeltemplate\n",
      "-rr seaver    \t  20808794\t2017-04-14T19:34:42Z\tmodeltemplate\t/chenry/public/modelsupport/templates/plant.modeltemplate\n",
      "-rr chenry    \t  26564644\t2017-08-10T15:30:06Z\tmodeltemplate\t/chenry/public/modelsupport/templates/GramPosModelTemplate\n",
      "-rr chenry    \t  26559014\t2017-08-10T15:30:25Z\tmodeltemplate\t/chenry/public/modelsupport/templates/GramNegModelTemplate\n",
      "-rr chenry    \t  27225828\t2017-08-10T15:31:17Z\tmodeltemplate\t/chenry/public/modelsupport/templates/CoreModelTemplate\n",
      "-rr seaver    \t  20713372\t2017-08-11T19:29:36Z\tmodeltemplate\t/chenry/public/modelsupport/templates/PlantModelTemplate\n"
     ]
    }
   ],
   "source": [
    "mackinac.list_workspace_objects('/chenry/public/modelsupport/templates', print_output=True)"
   ]
  },
  {
   "cell_type": "markdown",
   "metadata": {},
   "source": [
    "Get the metadata for an object in the workspace with `get_workspace_object_metadata()`. The metadata for an object can include additional information about the contents or attributes of the object. The media available for gap filling a model are in `/chenry/public/modelsupport/media`."
   ]
  },
  {
   "cell_type": "code",
   "execution_count": 3,
   "metadata": {},
   "outputs": [
    {
     "data": {
      "text/plain": [
       "['Nitrogen-Uric-Acid',\n",
       " 'media',\n",
       " '/chenry/public/modelsupport/media/',\n",
       " '2015-05-11T05:39:04Z',\n",
       " '0918D468-F7A0-11E4-AA0D-729D682E0674',\n",
       " 'chenry',\n",
       " 580,\n",
       " {'isDefined': 1,\n",
       "  'isMinimal': 1,\n",
       "  'name': 'Nitrogen-Uric Acid',\n",
       "  'source_id': 'Nitrogen-Uric Acid',\n",
       "  'type': 'biolog'},\n",
       " {'is_folder': 0},\n",
       " 'r',\n",
       " 'r',\n",
       " '']"
      ]
     },
     "execution_count": 3,
     "metadata": {},
     "output_type": "execute_result"
    }
   ],
   "source": [
    "mackinac.get_workspace_object_meta('/chenry/public/modelsupport/media/Nitrogen-Uric-Acid')"
   ]
  },
  {
   "cell_type": "markdown",
   "metadata": {},
   "source": [
    "Get the data in an object with `get_workspace_object_data()`. The data for an object can be large so use caution with this function. By default, the object data is assumed to be in JSON format. Set the `json_data=False` parameter if the object data is not in JSON format."
   ]
  },
  {
   "cell_type": "code",
   "execution_count": 4,
   "metadata": {},
   "outputs": [
    {
     "data": {
      "text/plain": [
       "'id\\tname\\tconcentration\\tminflux\\tmaxflux\\ncpd00027\\tD-Glucose\\t0.001\\t-100\\t5\\ncpd00300\\tUrate\\t0.001\\t-100\\t5\\ncpd00009\\tPhosphate\\t0.001\\t-100\\t5\\ncpd00048\\tSulfate\\t0.001\\t-100\\t5\\ncpd00063\\tCa2+\\t0.001\\t-100\\t100\\ncpd00011\\tCO2\\t0.001\\t-100\\t0\\ncpd10516\\tfe3\\t0.001\\t-100\\t100\\ncpd00067\\tH+\\t0.001\\t-100\\t100\\ncpd00001\\tH2O\\t0.001\\t-100\\t100\\ncpd00205\\tK+\\t0.001\\t-100\\t100\\ncpd00254\\tMg\\t0.001\\t-100\\t100\\ncpd00971\\tNa+\\t0.001\\t-100\\t100\\ncpd00007\\tO2\\t0.001\\t-100\\t100\\ncpd00099\\tCl-\\t0.001\\t-100\\t100\\ncpd00058\\tCu2+\\t0.001\\t-100\\t100\\ncpd00149\\tCo2+\\t0.001\\t-100\\t100\\ncpd00030\\tMn2+\\t0.001\\t-100\\t100\\ncpd00034\\tZn2+\\t0.001\\t-100\\t100\\ncpd10515\\tFe2+\\t0.001\\t-100\\t100\\n'"
      ]
     },
     "execution_count": 4,
     "metadata": {},
     "output_type": "execute_result"
    }
   ],
   "source": [
    "mackinac.get_workspace_object_data('/chenry/public/modelsupport/media/Nitrogen-Uric-Acid', json_data=False)"
   ]
  }
 ],
 "metadata": {
  "kernelspec": {
   "display_name": "python36",
   "language": "python",
   "name": "python36"
  },
  "language_info": {
   "codemirror_mode": {
    "name": "ipython",
    "version": 3
   },
   "file_extension": ".py",
   "mimetype": "text/x-python",
   "name": "python",
   "nbconvert_exporter": "python",
   "pygments_lexer": "ipython3",
   "version": "3.6.1"
  }
 },
 "nbformat": 4,
 "nbformat_minor": 2
}
