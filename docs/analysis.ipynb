{
 "cells": [
  {
   "cell_type": "markdown",
   "metadata": {},
   "source": [
    "## Analyze models\n",
    "\n",
    "Mackinac enables you to seamlessly work with PATRIC models in COBRApy.\n",
    "\n",
    "The examples below show how to work with two models for Escherichia coli str. K-12 substr. MG1655. The [iJO1366 model](http://bigg.ucsd.edu/models/iJO1366) is a manually curated model that is available from BiGG. You need to download the SBML file to your computer. PATRIC has the [genome 511145.183](https://www.patricbrc.org/view/Genome/511145.183) that can be used to reconstruct a model for the organism.\n",
    "\n",
    "Use the PATRIC web service to reconstruct and gap fill a model from the 511145.183 genome and using a complete medium. Note that it takes a few minutes for the PATRIC web service to reconstruct and gap fill the model."
   ]
  },
  {
   "cell_type": "code",
   "execution_count": 1,
   "metadata": {},
   "outputs": [
    {
     "data": {
      "text/plain": [
       "{'fba_count': 0,\n",
       " 'gapfilled_reactions': 58,\n",
       " 'gene_associated_reactions': 1526,\n",
       " 'genome_ref': '/mmundy@patricbrc.org/home/models/.Ecoli/genome',\n",
       " 'id': 'Ecoli',\n",
       " 'integrated_gapfills': 1,\n",
       " 'name': 'Escherichia coli str. K-12 substr. MG1655',\n",
       " 'num_biomass_compounds': 85,\n",
       " 'num_biomasses': 1,\n",
       " 'num_compartments': 2,\n",
       " 'num_compounds': 1635,\n",
       " 'num_genes': 1010,\n",
       " 'num_reactions': 1584,\n",
       " 'ref': '/mmundy@patricbrc.org/home/models/.Ecoli',\n",
       " 'rundate': '2018-01-31T02:11:19Z',\n",
       " 'source': 'PATRIC',\n",
       " 'source_id': '.Ecoli',\n",
       " 'template_ref': '/chenry/public/modelsupport/templates/GramNegative.modeltemplate',\n",
       " 'type': 'GenomeScale',\n",
       " 'unintegrated_gapfills': 0}"
      ]
     },
     "execution_count": 1,
     "metadata": {},
     "output_type": "execute_result"
    }
   ],
   "source": [
    "import mackinac\n",
    "mackinac.create_patric_model('511145.183', 'Ecoli')"
   ]
  },
  {
   "cell_type": "markdown",
   "metadata": {},
   "source": [
    "Create a COBRA model from the PATRIC model."
   ]
  },
  {
   "cell_type": "code",
   "execution_count": 2,
   "metadata": {},
   "outputs": [],
   "source": [
    "patric_model = mackinac.create_cobra_model_from_patric_model('Ecoli')"
   ]
  },
  {
   "cell_type": "markdown",
   "metadata": {},
   "source": [
    "Analyze the model using the functions in COBRApy. Check the number of reactions and metabolites in the model."
   ]
  },
  {
   "cell_type": "code",
   "execution_count": 3,
   "metadata": {},
   "outputs": [
    {
     "data": {
      "text/plain": [
       "1737"
      ]
     },
     "execution_count": 3,
     "metadata": {},
     "output_type": "execute_result"
    }
   ],
   "source": [
    "len(patric_model.reactions)"
   ]
  },
  {
   "cell_type": "code",
   "execution_count": 4,
   "metadata": {},
   "outputs": [
    {
     "data": {
      "text/plain": [
       "1635"
      ]
     },
     "execution_count": 4,
     "metadata": {},
     "output_type": "execute_result"
    }
   ],
   "source": [
    "len(patric_model.metabolites)"
   ]
  },
  {
   "cell_type": "markdown",
   "metadata": {},
   "source": [
    "Optimize the model to check for growth on a complete medium."
   ]
  },
  {
   "cell_type": "code",
   "execution_count": 5,
   "metadata": {},
   "outputs": [],
   "source": [
    "patric_sol = patric_model.optimize()"
   ]
  },
  {
   "cell_type": "markdown",
   "metadata": {},
   "source": [
    "And get a summary of the optimization to see the metabolites consumed and produced by the organism."
   ]
  },
  {
   "cell_type": "code",
   "execution_count": 6,
   "metadata": {},
   "outputs": [
    {
     "name": "stdout",
     "output_type": "stream",
     "text": [
      "IN FLUXES            OUT FLUXES           OBJECTIVES\n",
      "-------------------  -------------------  ------------\n",
      "cpd00007_e    1e+03  cpd00009_e    1e+03  bio1  373\n",
      "cpd00024_e    1e+03  cpd00011_e    1e+03\n",
      "cpd00080_e    1e+03  cpd00033_e    1e+03\n",
      "cpd00132_e    1e+03  cpd00100_e    1e+03\n",
      "cpd00246_e    1e+03  cpd00309_e    1e+03\n",
      "cpd00276_e    1e+03  cpd00108_e  963\n",
      "cpd00438_e  929      cpd00122_e  899\n",
      "cpd00367_e  846      cpd00182_e  875\n",
      "cpd00054_e  765      cpd00047_e  858\n",
      "cpd00794_e  655      cpd00027_e  800\n",
      "cpd00079_e  500      cpd00041_e  748\n",
      "cpd17041_c  373      cpd00249_e  712\n",
      "cpd17042_c  373      cpd00035_e  596\n",
      "cpd17043_c  373      cpd00106_e  436\n",
      "cpd00137_e  286      cpd11416_c  373\n",
      "cpd00107_e  172      cpd00067_e  314\n",
      "cpd00156_e  131      cpd00129_e  191\n",
      "cpd00039_e  116      cpd00036_e  144\n",
      "cpd00051_e   92.1    cpd00013_e  129\n",
      "cpd00322_e   90.2    cpd00012_e   99.5\n",
      "cpd00277_e   62.4    cpd00092_e   71.1\n",
      "cpd00066_e   57.7\n",
      "cpd03847_e   56\n",
      "cpd11590_e   48.8\n",
      "cpd00069_e   45\n",
      "cpd00154_e   32.7\n",
      "cpd00210_e   31.9\n",
      "cpd01080_e   31.8\n",
      "cpd11584_e   29.6\n",
      "cpd00065_e   17.6\n",
      "cpd00654_e    8.73\n",
      "cpd00184_e    5.88\n",
      "cpd01188_e    4.67\n",
      "cpd11606_e    3.47\n",
      "cpd00028_e    2.31\n",
      "cpd00644_e    2.31\n",
      "cpd00355_e    2.31\n",
      "cpd00030_e    1.16\n",
      "cpd00034_e    1.16\n",
      "cpd00048_e    1.16\n",
      "cpd00058_e    1.16\n",
      "cpd00063_e    1.16\n",
      "cpd00099_e    1.16\n",
      "cpd00149_e    1.16\n",
      "cpd00205_e    1.16\n",
      "cpd00254_e    1.16\n",
      "cpd00264_e    1.16\n",
      "cpd00305_e    1.16\n",
      "cpd10515_e    1.16\n",
      "cpd10516_e    1.16\n",
      "cpd00118_e    1.16\n"
     ]
    }
   ],
   "source": [
    "patric_model.summary(patric_sol)"
   ]
  },
  {
   "cell_type": "markdown",
   "metadata": {},
   "source": [
    "For comparison, load the iJO1366 model from a SBML file. In the cell below, change the input parameter to the path to the SBML file you downloaded from BiGG."
   ]
  },
  {
   "cell_type": "code",
   "execution_count": 7,
   "metadata": {},
   "outputs": [],
   "source": [
    "from cobra.io import read_sbml_model\n",
    "jo_model = read_sbml_model('iJO1366.xml')"
   ]
  },
  {
   "cell_type": "markdown",
   "metadata": {},
   "source": [
    "Check the number of reactions and metabolites in the model."
   ]
  },
  {
   "cell_type": "code",
   "execution_count": 8,
   "metadata": {},
   "outputs": [
    {
     "data": {
      "text/plain": [
       "2583"
      ]
     },
     "execution_count": 8,
     "metadata": {},
     "output_type": "execute_result"
    }
   ],
   "source": [
    "len(jo_model.reactions)"
   ]
  },
  {
   "cell_type": "code",
   "execution_count": 9,
   "metadata": {},
   "outputs": [
    {
     "data": {
      "text/plain": [
       "1805"
      ]
     },
     "execution_count": 9,
     "metadata": {},
     "output_type": "execute_result"
    }
   ],
   "source": [
    "len(jo_model.metabolites)"
   ]
  },
  {
   "cell_type": "markdown",
   "metadata": {},
   "source": [
    "Optimize the model to check for growth on the medium defined in the model."
   ]
  },
  {
   "cell_type": "code",
   "execution_count": 10,
   "metadata": {},
   "outputs": [],
   "source": [
    "jo_sol = jo_model.optimize()"
   ]
  },
  {
   "cell_type": "markdown",
   "metadata": {},
   "source": [
    "And get a summary of the optimization."
   ]
  },
  {
   "cell_type": "code",
   "execution_count": 11,
   "metadata": {},
   "outputs": [
    {
     "name": "stdout",
     "output_type": "stream",
     "text": [
      "IN FLUXES             OUT FLUXES           OBJECTIVES\n",
      "--------------------  -------------------  ----------------------\n",
      "o2_e       17.6       h2o_e     45.6       BIOMASS_Ec_i...  0.982\n",
      "nh4_e      10.6       co2_e     19.7\n",
      "glc__D_e   10         h_e        9.03\n",
      "pi_e        0.948     mththf_c   0.00044\n",
      "so4_e       0.248     5drib_c    0.000221\n",
      "k_e         0.192     4crsol_c   0.000219\n",
      "fe2_e       0.0158    amob_c     1.96e-06\n",
      "mg2_e       0.00852   meoh_e     1.96e-06\n",
      "ca2_e       0.00511\n",
      "cl_e        0.00511\n",
      "cu2_e       0.000697\n",
      "mn2_e       0.000679\n",
      "zn2_e       0.000335\n",
      "ni2_e       0.000317\n",
      "mobd_e      0.000127\n",
      "cobalt2_e   2.46e-05\n"
     ]
    }
   ],
   "source": [
    "jo_model.summary(jo_sol)"
   ]
  }
 ],
 "metadata": {
  "kernelspec": {
   "display_name": "python36",
   "language": "python",
   "name": "python36"
  },
  "language_info": {
   "codemirror_mode": {
    "name": "ipython",
    "version": 3
   },
   "file_extension": ".py",
   "mimetype": "text/x-python",
   "name": "python",
   "nbconvert_exporter": "python",
   "pygments_lexer": "ipython3",
   "version": "3.6.1"
  }
 },
 "nbformat": 4,
 "nbformat_minor": 2
}
