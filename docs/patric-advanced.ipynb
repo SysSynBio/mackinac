{
 "cells": [
  {
   "cell_type": "markdown",
   "metadata": {
    "collapsed": true
   },
   "source": [
    "## Work with PATRIC models\n",
    "\n",
    "Mackinac provides functions for managing and working with your PATRIC models which are stored in the `home/models` folder in your PATRIC workspace. The examples below assume that there is model with ID `Btheta` in your workspace."
   ]
  },
  {
   "cell_type": "code",
   "execution_count": 1,
   "metadata": {},
   "outputs": [],
   "source": [
    "import mackinac"
   ]
  },
  {
   "cell_type": "markdown",
   "metadata": {},
   "source": [
    "Get a list of all of the PATRIC models stored in your workspace with `list_patric_models()`. Remove the `print_output` parameter to return a list of model statistics about your models."
   ]
  },
  {
   "cell_type": "code",
   "execution_count": 2,
   "metadata": {},
   "outputs": [
    {
     "name": "stdout",
     "output_type": "stream",
     "text": [
      "Model /mmundy@patricbrc.org/modelseed/226186.12-pytest for organism Bacteroides thetaiotaomicron VPI-5482 with 1029 reactions and 1191 metabolites\n",
      "Model /mmundy@patricbrc.org/modelseed/411464.8 for organism Desulfovibrio piger ATCC 29098 with 846 reactions and 1058 metabolites\n",
      "Model /mmundy@patricbrc.org/modelseed/bt_likelihood for organism Bacteroides thetaiotaomicron VPI-5482 with 1029 reactions and 1191 metabolites\n",
      "Model /mmundy@patricbrc.org/modelseed/226186.12-0531 for organism Bacteroides thetaiotaomicron VPI-5482 with 1034 reactions and 1202 metabolites\n",
      "Model /mmundy@patricbrc.org/modelseed/1679.26 for organism Bifidobacterium longum subsp. longum strain AH1206 with 994 reactions and 1304 metabolites\n",
      "Model /mmundy@patricbrc.org/modelseed/742823.3 for organism Sutterella wadsworthensis 2_1_59BFAA with 979 reactions and 1306 metabolites\n",
      "Model /mmundy@patricbrc.org/modelseed/742726.3 for organism Barnesiella intestinihominis YIT 11860 with 1026 reactions and 1329 metabolites\n",
      "Model /mmundy@patricbrc.org/modelseed/557855.3 for organism Mitsuaria sp. H24L5A with 1317 reactions and 1593 metabolites\n",
      "Model /mmundy@patricbrc.org/modelseed/484018.6 for organism Bacteroides plebeius DSM 17135 with 1089 reactions and 1363 metabolites\n",
      "Model /mmundy@patricbrc.org/modelseed/717962.3 for organism Coprococcus catus GD/7 with 1097 reactions and 1403 metabolites\n",
      "Model /mmundy@patricbrc.org/modelseed/29354.3 for organism [Clostridium] celerecrescens strain 152B with 1235 reactions and 1483 metabolites\n",
      "Model /mmundy@patricbrc.org/modelseed/1297617.3 for organism Intestinimonas butyriciproducens ER1 with 1074 reactions and 1383 metabolites\n",
      "Model /mmundy@patricbrc.org/modelseed/180332.3 for organism Robinsoniella peoriensis WT with 1219 reactions and 1488 metabolites\n",
      "Model /mmundy@patricbrc.org/modelseed/1156417.3 for organism Caloranaerobacter azorensis H53214 with 935 reactions and 1265 metabolites\n",
      "Model /mmundy@patricbrc.org/modelseed/525362.3 for organism Lactobacillus ruminis ATCC 25644 with 1005 reactions and 1296 metabolites\n",
      "Model /mmundy@patricbrc.org/modelseed/657315.3 for organism Roseburia intestinalis M50/1 with 1120 reactions and 1454 metabolites\n",
      "Model /mmundy@patricbrc.org/modelseed/1414720.3 for organism Clostridium sp. JCC with 1214 reactions and 1509 metabolites\n",
      "Model /mmundy@patricbrc.org/modelseed/1000569.4 for organism Megasphaera sp. UPII 135-E with 844 reactions and 1174 metabolites\n",
      "Model /mmundy@patricbrc.org/modelseed/1469948.3 for organism Clostridium sp. KNHs209 with 1103 reactions and 1419 metabolites\n",
      "Model /mmundy@patricbrc.org/modelseed/1313290.3 for organism Erysipelothrix rhusiopathiae SY1027 with 838 reactions and 1105 metabolites\n",
      "Model /mmundy@patricbrc.org/modelseed/1165092.3 for organism Lachnospiraceae bacterium JC7 with 1097 reactions and 1375 metabolites\n",
      "Model /mmundy@patricbrc.org/modelseed/1235835.3 for organism Anaerotruncus sp. G3(2012) with 968 reactions and 1310 metabolites\n",
      "Model /mmundy@patricbrc.org/modelseed/1367212.3 for organism Clostridium cellulosi CS-4-4 with 1121 reactions and 1372 metabolites\n",
      "Model /mmundy@patricbrc.org/modelseed/511145.183 for organism Escherichia coli str. K-12 substr. MG1655 with 1609 reactions and 1755 metabolites\n",
      "Model /mmundy@patricbrc.org/modelseed/511145.12 for organism Escherichia coli str. K-12 substr. MG1655 with 1565 reactions and 1649 metabolites\n",
      "Model /mmundy@patricbrc.org/modelseed/226186.12-0202 for organism Bacteroides thetaiotaomicron VPI-5482 with 1034 reactions and 1202 metabolites\n",
      "Model /mmundy@patricbrc.org/modelseed/226186.12-new for organism Bacteroides thetaiotaomicron VPI-5482 with 927 reactions and 1026 metabolites\n",
      "Model /mmundy@patricbrc.org/modelseed/220668.9.12-new for organism Lactobacillus plantarum WCFS1 with 992 reactions and 1063 metabolites\n",
      "Model /mmundy@patricbrc.org/modelseed/511145.12-new for organism Escherichia coli str. K-12 substr. MG1655 with 1478 reactions and 1423 metabolites\n",
      "Model /mmundy@patricbrc.org/modelseed/220668.9-pa for organism Lactobacillus plantarum WCFS1 with 992 reactions and 1063 metabolites\n",
      "Model /mmundy@patricbrc.org/modelseed/511145.12-pa for organism Escherichia coli str. K-12 substr. MG1655 with 1478 reactions and 1423 metabolites\n",
      "Model /mmundy@patricbrc.org/modelseed/226186.12-pa for organism Bacteroides thetaiotaomicron VPI-5482 with 1013 reactions and 1069 metabolites\n",
      "Model /mmundy@patricbrc.org/modelseed/264199.4 for organism Streptococcus thermophilus LMG 18311 with 824 reactions and 878 metabolites\n"
     ]
    }
   ],
   "source": [
    "mackinac.list_patric_models(print_output=True)"
   ]
  },
  {
   "cell_type": "markdown",
   "metadata": {},
   "source": [
    "Get current statistics about a PATRIC model with `get_modelseed_model_stats()`. The returned statistics provide a summary of the model."
   ]
  },
  {
   "cell_type": "code",
   "execution_count": 1,
   "metadata": {},
   "outputs": [
    {
     "ename": "NameError",
     "evalue": "name 'mackinac' is not defined",
     "output_type": "error",
     "traceback": [
      "\u001b[0;31m---------------------------------------------------------------------------\u001b[0m",
      "\u001b[0;31mNameError\u001b[0m                                 Traceback (most recent call last)",
      "\u001b[0;32m<ipython-input-1-af14ca7b0b7b>\u001b[0m in \u001b[0;36m<module>\u001b[0;34m()\u001b[0m\n\u001b[0;32m----> 1\u001b[0;31m \u001b[0mmackinac\u001b[0m\u001b[0;34m.\u001b[0m\u001b[0mget_modelseed_model_stats\u001b[0m\u001b[0;34m(\u001b[0m\u001b[0;34m'Btheta'\u001b[0m\u001b[0;34m)\u001b[0m\u001b[0;34m\u001b[0m\u001b[0m\n\u001b[0m",
      "\u001b[0;31mNameError\u001b[0m: name 'mackinac' is not defined"
     ]
    }
   ],
   "source": [
    "mackinac.get_patric_model_stats('Btheta')"
   ]
  },
  {
   "cell_type": "markdown",
   "metadata": {},
   "source": [
    "Get the details of the PATRIC gap fill solutions with `get_patric_gapfill_solutions()`. There can be multiple gap fill solutions for a model and the returned list is sorted from newest to oldest."
   ]
  },
  {
   "cell_type": "code",
   "execution_count": 4,
   "metadata": {},
   "outputs": [],
   "source": [
    "gf_solutions = mackinac.get_modelseed_gapfill_solutions('Btheta')"
   ]
  },
  {
   "cell_type": "markdown",
   "metadata": {
    "collapsed": true
   },
   "source": [
    "Get the number of reactions in a gap fill solution by checking the length of the `reactions` key in a solution."
   ]
  },
  {
   "cell_type": "code",
   "execution_count": 5,
   "metadata": {},
   "outputs": [
    {
     "ename": "IndexError",
     "evalue": "list index out of range",
     "output_type": "error",
     "traceback": [
      "\u001b[0;31m---------------------------------------------------------------------------\u001b[0m",
      "\u001b[0;31mIndexError\u001b[0m                                Traceback (most recent call last)",
      "\u001b[0;32m<ipython-input-5-19abfa686887>\u001b[0m in \u001b[0;36m<module>\u001b[0;34m()\u001b[0m\n\u001b[0;32m----> 1\u001b[0;31m \u001b[0mlen\u001b[0m\u001b[0;34m(\u001b[0m\u001b[0mgf_solutions\u001b[0m\u001b[0;34m[\u001b[0m\u001b[0;36m0\u001b[0m\u001b[0;34m]\u001b[0m\u001b[0;34m[\u001b[0m\u001b[0;34m'reactions'\u001b[0m\u001b[0;34m]\u001b[0m\u001b[0;34m)\u001b[0m\u001b[0;34m\u001b[0m\u001b[0m\n\u001b[0m",
      "\u001b[0;31mIndexError\u001b[0m: list index out of range"
     ]
    }
   ],
   "source": [
    "len(gf_solutions[0]['reactions'])"
   ]
  },
  {
   "cell_type": "markdown",
   "metadata": {},
   "source": [
    "The `reactions` key is a dictionary keyed by reaction ID with details on the reactions added to the model."
   ]
  },
  {
   "cell_type": "code",
   "execution_count": null,
   "metadata": {},
   "outputs": [],
   "source": [
    "gf_solutions[0]['reactions']['rxn00086_c0']"
   ]
  },
  {
   "cell_type": "markdown",
   "metadata": {},
   "source": [
    "Get the details of a PATRIC flux balance analysis solution with `get_patric_fba_solutions()`. There can be multiple fba solutions for a model and the returned list is sorted from newest to oldest."
   ]
  },
  {
   "cell_type": "code",
   "execution_count": 6,
   "metadata": {},
   "outputs": [],
   "source": [
    "fba_solutions = mackinac.get_patric_fba_solutions('Btheta')"
   ]
  },
  {
   "cell_type": "markdown",
   "metadata": {},
   "source": [
    "In an fba solution, the `exchanges` key is a dictionary keyed by metabolite ID of the metabolites that can be exchanged with the boundary. Metabolites with a positive flux are consumed and metabolites with a negative flux are produced."
   ]
  },
  {
   "cell_type": "code",
   "execution_count": 7,
   "metadata": {},
   "outputs": [
    {
     "data": {
      "text/plain": [
       "{'lower_bound': -1000, 'upper_bound': 100, 'x': -630.187}"
      ]
     },
     "execution_count": 7,
     "metadata": {},
     "output_type": "execute_result"
    }
   ],
   "source": [
    "fba_solutions[0]['exchanges']['cpd00001_e0']"
   ]
  },
  {
   "cell_type": "markdown",
   "metadata": {},
   "source": [
    "The `reactions` key is a dictionary keyed by reaction ID with details on the bounds and flux for every reaction in model."
   ]
  },
  {
   "cell_type": "code",
   "execution_count": null,
   "metadata": {},
   "outputs": [],
   "source": [
    "fba_solutions[0]['reactions']['rxn00086_c0']"
   ]
  },
  {
   "cell_type": "markdown",
   "metadata": {},
   "source": [
    "If you no longer need a PATRIC model, delete it from your workspace with `delete_patric_model()`."
   ]
  },
  {
   "cell_type": "code",
   "execution_count": null,
   "metadata": {},
   "outputs": [],
   "source": [
    "mackinac.delete_patric_model('Btheta')"
   ]
  }
 ],
 "metadata": {
  "kernelspec": {
   "display_name": "python36",
   "language": "python",
   "name": "python36"
  },
  "language_info": {
   "codemirror_mode": {
    "name": "ipython",
    "version": 3
   },
   "file_extension": ".py",
   "mimetype": "text/x-python",
   "name": "python",
   "nbconvert_exporter": "python",
   "pygments_lexer": "ipython3",
   "version": "3.6.1"
  }
 },
 "nbformat": 4,
 "nbformat_minor": 2
}
