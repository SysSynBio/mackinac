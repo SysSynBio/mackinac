{
 "cells": [
  {
   "cell_type": "markdown",
   "metadata": {},
   "source": [
    "## Reconstruct a model from a template\n",
    "\n",
    "Mackinac supports creating draft models from an annotated genome and a template model. Annotated genome must come from RAST, PATRIC genomes use newer RAST annotations.\n",
    "\n",
    "Mackinac includes data files for building a template for:\n",
    "\n",
    "* gram negative and gram positive bacteria from the original ModelSEED biochemistry\n",
    "* gram negative and gram positive bacteria from the current expanded ModelSEED biochemistry "
   ]
  },
  {
   "cell_type": "code",
   "execution_count": null,
   "metadata": {
    "collapsed": true
   },
   "outputs": [],
   "source": [
    "import mackinac"
   ]
  },
  {
   "cell_type": "markdown",
   "metadata": {},
   "source": [
    "Mackinac includes the source files needed to build a template model for bacteria. Create a template model"
   ]
  },
  {
   "cell_type": "code",
   "execution_count": null,
   "metadata": {
    "collapsed": true
   },
   "outputs": [],
   "source": [
    "template = mackinac.templates.create_mackinac_template_model('mackinac/data/modelseed/universal', 'mackinac/data/modelseed/bacteria', 'bacteria', 'bacteria')"
   ]
  },
  {
   "cell_type": "markdown",
   "metadata": {},
   "source": [
    "Reconstruct a draft model from the PATRIC genome."
   ]
  },
  {
   "cell_type": "code",
   "execution_count": null,
   "metadata": {
    "collapsed": true
   },
   "outputs": [],
   "source": [
    "data_folder = join(expanduser('~'), 'mackinac_data')\n",
    "fid_role_path = join(data_folder, 'otu_fid_role.tsv')\n",
    "search_db_path = join(data_folder, 'protein.udb')\n",
    "search_program_path = join(expanduser('~'), 'usearch')\n",
    "work_folder = join(expanduser('~'), 'mackinac_work')\n",
    "btheta = mackinac.reconstruct_model(template, '226186.12', 'negbio', search_program_path, search_db_path, fid_role_path, work_folder)\n",
    "btheta.optimize()"
   ]
  }
 ],
 "metadata": {
  "kernelspec": {
   "display_name": "python36",
   "language": "python",
   "name": "python36"
  },
  "language_info": {
   "codemirror_mode": {
    "name": "ipython",
    "version": 3
   },
   "file_extension": ".py",
   "mimetype": "text/x-python",
   "name": "python",
   "nbconvert_exporter": "python",
   "pygments_lexer": "ipython3",
   "version": "3.6.1"
  }
 },
 "nbformat": 4,
 "nbformat_minor": 2
}
