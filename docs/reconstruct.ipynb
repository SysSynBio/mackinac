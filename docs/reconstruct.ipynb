{
 "cells": [
  {
   "cell_type": "markdown",
   "metadata": {},
   "source": [
    "## Create a model from a template model\n",
    "\n",
    "Mackinac supports creating draft models from the features of an annotated genome and a template model using two methods:\n",
    "\n",
    "1. `reconstruct_model_from_features()` uses the ModelSEED algorithm that is based on pattern matching of the features from the genome to the features in the template model that have a known linkage to reactions.\n",
    "2. `reconstruct_model_from_likelihoods()` uses the likelihood-based gene annotation algorithm that is based on sequence similarity to known features in the template model that have a known linkage to reactions.\n",
    "\n",
    "Both methods run locally without using a web service. When using the likelihood-based gene annotation algorithm, you must first install a search program, download data files, and build a search database.\n",
    "\n",
    "\n",
    "The genome must be annotated using RAST. Note that RAST updates its annotations on a regular basis. The updates include both new features and changes to existing features. Reconstructing a draft model using different ModelSEED template models produces different results since the features in the template might not match the RAST annotation of the genome."
   ]
  },
  {
   "cell_type": "code",
   "execution_count": 1,
   "metadata": {
    "collapsed": true
   },
   "outputs": [],
   "source": [
    "import mackinac\n",
    "import pkg_resources\n",
    "from os.path import join, expanduser"
   ]
  },
  {
   "cell_type": "markdown",
   "metadata": {},
   "source": [
    "Create a bacteria template model with `create_template_model()`."
   ]
  },
  {
   "cell_type": "code",
   "execution_count": 3,
   "metadata": {
    "collapsed": true
   },
   "outputs": [],
   "source": [
    "universal_folder = pkg_resources.resource_filename('mackinac', 'data/modelseed/universal')\n",
    "bacteria_folder = pkg_resources.resource_filename('mackinac', 'data/modelseed/bacteria')\n",
    "template = mackinac.create_template_model(universal_folder, bacteria_folder, 'bacteria', 'Bacteria template')"
   ]
  },
  {
   "cell_type": "markdown",
   "metadata": {},
   "source": [
    "Download the summary information and features for an organism. You can [search](https://www.patricbrc.org/view/DataType/Genomes) on the PATRIC website for available organisms. The genome ID [226186.12](https://www.patricbrc.org/view/Genome/226186.12) is for the gram negative bacteria Bacteroides thetaiotaomicron VPI-5482. "
   ]
  },
  {
   "cell_type": "code",
   "execution_count": 4,
   "metadata": {
    "collapsed": true
   },
   "outputs": [],
   "source": [
    "summary = mackinac.get_genome_summary('226186.12')\n",
    "features = mackinac.get_genome_features('226186.12')"
   ]
  },
  {
   "cell_type": "markdown",
   "metadata": {},
   "source": [
    "### Reconstruct draft model from features\n",
    "\n",
    "Reconstruct a draft model from the annotated genome with `reconstruct_model_from_features()`."
   ]
  },
  {
   "cell_type": "code",
   "execution_count": 5,
   "metadata": {
    "collapsed": true
   },
   "outputs": [],
   "source": [
    "feature_model = mackinac.reconstruct_model_from_features(features, template, 'Btheta-feature', 'negbio', gc_content=summary['gc_content'] / 100.0)"
   ]
  },
  {
   "cell_type": "markdown",
   "metadata": {},
   "source": [
    "### Reconstruct draft model from likelihoods\n",
    "\n",
    "Calculate reaction likelihoods from the annotated genome with `calculate_likelihoods()`."
   ]
  },
  {
   "cell_type": "code",
   "execution_count": 6,
   "metadata": {
    "collapsed": true
   },
   "outputs": [],
   "source": [
    "work_folder = join(expanduser('~'), 'mackinac_work')\n",
    "data_folder = join(expanduser('~'), 'mackinac_data')\n",
    "fid_role_path = join(data_folder, 'otu_fid_role.tsv')\n",
    "protein_sequence_path = join(data_folder, 'protein.fasta')\n",
    "search_db_path = join(data_folder, 'protein.udb')\n",
    "search_program_path = join(expanduser('~'), 'usearch')\n",
    "likelihoods = mackinac.calculate_likelihoods('226186.12', features, template, search_program_path=search_program_path, search_db_path=search_db_path, fid_role_path=fid_role_path, work_folder=work_folder)"
   ]
  },
  {
   "cell_type": "markdown",
   "metadata": {},
   "source": [
    "Reconstruct a draft model from likely reactions with `reconstruct_model_from_likelihoods()`. By default, reactions with likelihood greater than 0.1 are included in the draft model. Use the `cutoff` parameter to choose a different likelihood value."
   ]
  },
  {
   "cell_type": "code",
   "execution_count": 7,
   "metadata": {
    "collapsed": true
   },
   "outputs": [],
   "source": [
    "likely_model = mackinac.reconstruct_model_from_likelihoods(likelihoods, template, 'Btheta-likely', 'negbio', gc_content=summary['gc_content'] / 100.0)"
   ]
  }
 ],
 "metadata": {
  "kernelspec": {
   "display_name": "python36",
   "language": "python",
   "name": "python36"
  },
  "language_info": {
   "codemirror_mode": {
    "name": "ipython",
    "version": 3
   },
   "file_extension": ".py",
   "mimetype": "text/x-python",
   "name": "python",
   "nbconvert_exporter": "python",
   "pygments_lexer": "ipython3",
   "version": "3.6.1"
  }
 },
 "nbformat": 4,
 "nbformat_minor": 2
}
