{
 "cells": [
  {
   "cell_type": "markdown",
   "metadata": {},
   "source": [
    "## Create a model using ModelSEED service\n",
    "\n",
    "Mackinac provides functions for creating a model using the ModelSEED web service and creating a COBRA model from the ModelSEED model. The COBRA model contains all of the information from the ModelSEED model, including metabolite data and gene annotations."
   ]
  },
  {
   "cell_type": "code",
   "execution_count": 1,
   "metadata": {},
   "outputs": [],
   "source": [
    "import mackinac"
   ]
  },
  {
   "cell_type": "markdown",
   "metadata": {},
   "source": [
    "There are four main functions to reconstruct a metabolic model using the ModelSEED web service for analysis in cobrapy. \n",
    "\n",
    "Reconstruct a draft model for an organism with `reconstruct_modelseed_model()`. You need to provide a PATRIC genome ID to identify the organism. You can [search](https://www.patricbrc.org/view/DataType/Genomes) on the PATRIC website for available organisms. The genome ID is for the gram negative bacteria Bacteroides thetaiotaomicron VPI-5482.\n",
    "\n",
    "After a model is reconstructed, you refer to it by the specified ID. The returned statistics provide a summary of the model. The created model is stored in your ModelSEED workspace.\n",
    "\n",
    "Note that it takes a few minutes for the ModelSEED web service to run a function and return a result."
   ]
  },
  {
   "cell_type": "code",
   "execution_count": 2,
   "metadata": {},
   "outputs": [
    {
     "data": {
      "text/plain": [
       "{'fba_count': 0,\n",
       " 'gapfilled_reactions': 0,\n",
       " 'gene_associated_reactions': 978,\n",
       " 'genome_ref': '/mmundy@patricbrc.org/modelseed/Btheta/genome',\n",
       " 'id': 'Btheta',\n",
       " 'integrated_gapfills': 0,\n",
       " 'name': 'Bacteroides thetaiotaomicron VPI-5482',\n",
       " 'num_biomass_compounds': 85,\n",
       " 'num_biomasses': 1,\n",
       " 'num_compartments': 2,\n",
       " 'num_compounds': 1154,\n",
       " 'num_genes': 718,\n",
       " 'num_reactions': 978,\n",
       " 'ref': '/mmundy@patricbrc.org/modelseed/Btheta',\n",
       " 'rundate': '2018-06-18T18:25:36Z',\n",
       " 'source': 'ModelSEED',\n",
       " 'source_id': 'Btheta',\n",
       " 'template_ref': '/chenry/public/modelsupport/templates/GramNegModelTemplate',\n",
       " 'type': 'GenomeScale',\n",
       " 'unintegrated_gapfills': 0}"
      ]
     },
     "execution_count": 2,
     "metadata": {},
     "output_type": "execute_result"
    }
   ],
   "source": [
    "mackinac.reconstruct_modelseed_model('226186.12', 'Btheta')"
   ]
  },
  {
   "cell_type": "markdown",
   "metadata": {},
   "source": [
    "Gap fill the model using the ModelSEED algorithm with `gapfill_modelseed_model()`. By default the ModelSEED model is gap filled on complete media. Use the `media_reference` parameter to specify a different media. ModelSEED provides over 500 media in the `/chenry/public/modelsupport/media` folder. This step is optional if you want to use other gap fill algorithms in cobrapy. Note that the number of reactions and compounds in the returned metadata has increased after gap filling although the number of gapfilled reactions is not updated."
   ]
  },
  {
   "cell_type": "code",
   "execution_count": 3,
   "metadata": {},
   "outputs": [
    {
     "data": {
      "text/plain": [
       "{'fba_count': 0,\n",
       " 'gapfilled_reactions': 0,\n",
       " 'gene_associated_reactions': 978,\n",
       " 'genome_ref': '/mmundy@patricbrc.org/modelseed/Btheta/genome',\n",
       " 'id': 'Btheta',\n",
       " 'integrated_gapfills': 1,\n",
       " 'name': 'Bacteroides thetaiotaomicron VPI-5482',\n",
       " 'num_biomass_compounds': 85,\n",
       " 'num_biomasses': 1,\n",
       " 'num_compartments': 2,\n",
       " 'num_compounds': 1224,\n",
       " 'num_genes': 718,\n",
       " 'num_reactions': 1096,\n",
       " 'ref': '/mmundy@patricbrc.org/modelseed/Btheta',\n",
       " 'rundate': '2018-06-18T18:25:36Z',\n",
       " 'source': 'ModelSEED',\n",
       " 'source_id': 'Btheta',\n",
       " 'template_ref': '/chenry/public/modelsupport/templates/GramNegModelTemplate',\n",
       " 'type': 'GenomeScale',\n",
       " 'unintegrated_gapfills': 0}"
      ]
     },
     "execution_count": 3,
     "metadata": {},
     "output_type": "execute_result"
    }
   ],
   "source": [
    "mackinac.gapfill_modelseed_model('Btheta')"
   ]
  },
  {
   "cell_type": "markdown",
   "metadata": {},
   "source": [
    "Run a simulation using the ModelSEED flux balance analysis algorithm with `optimize_modelseed_model()`. Use the `media_reference` parameter to specify a different media for the simulation. This step is optional if you want to run the analysis in cobrapy."
   ]
  },
  {
   "cell_type": "code",
   "execution_count": 4,
   "metadata": {},
   "outputs": [
    {
     "data": {
      "text/plain": [
       "111.633"
      ]
     },
     "execution_count": 4,
     "metadata": {},
     "output_type": "execute_result"
    }
   ],
   "source": [
    "mackinac.optimize_modelseed_model('Btheta')"
   ]
  },
  {
   "cell_type": "markdown",
   "metadata": {},
   "source": [
    "Create a COBRA model from the ModelSEED model with `create_cobra_model_from_modelseed_model()`. Now you can analyze the model using all of the functionality in cobrapy. "
   ]
  },
  {
   "cell_type": "code",
   "execution_count": 5,
   "metadata": {},
   "outputs": [
    {
     "data": {
      "text/plain": [
       "'Btheta'"
      ]
     },
     "execution_count": 5,
     "metadata": {},
     "output_type": "execute_result"
    }
   ],
   "source": [
    "model = mackinac.create_cobra_model_from_modelseed_model('Btheta')\n",
    "model.id"
   ]
  }
 ],
 "metadata": {
  "kernelspec": {
   "display_name": "python36",
   "language": "python",
   "name": "python36"
  },
  "language_info": {
   "codemirror_mode": {
    "name": "ipython",
    "version": 3
   },
   "file_extension": ".py",
   "mimetype": "text/x-python",
   "name": "python",
   "nbconvert_exporter": "python",
   "pygments_lexer": "ipython3",
   "version": "3.6.1"
  }
 },
 "nbformat": 4,
 "nbformat_minor": 1
}
