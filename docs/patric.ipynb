{
 "cells": [
  {
   "cell_type": "markdown",
   "metadata": {},
   "source": [
    "## Create a model using PATRIC service\n",
    "\n",
    "Mackinac provides functions for creating a model using the PATRIC web service and creating a COBRA model from the PATRIC model. The COBRA model contains all of the information from the PATRIC model, including metabolite data and gene annotations."
   ]
  },
  {
   "cell_type": "code",
   "execution_count": 1,
   "metadata": {},
   "outputs": [],
   "source": [
    "import mackinac"
   ]
  },
  {
   "cell_type": "markdown",
   "metadata": {},
   "source": [
    "Reconstruct, gap fill, and optimize a model for an organism with `create_patric_model()`. You need to provide a PATRIC genome ID to identify the organism. You can [search](https://www.patricbrc.org/view/DataType/Genomes) on the PATRIC website for available organisms. The genome ID [226186.12](https://www.patricbrc.org/view/Genome/226186.12) is for the gram negative bacteria Bacteroides thetaiotaomicron VPI-5482.\n",
    "\n",
    "After a model is created, you refer to it by the specified ID. The returned statistics provide a summary of the model. The created model is stored in your PATRIC workspace. \n",
    "\n",
    "Note that it takes a few minutes for the PATRIC web service to run a function and return a result."
   ]
  },
  {
   "cell_type": "code",
   "execution_count": 2,
   "metadata": {},
   "outputs": [
    {
     "data": {
      "text/plain": [
       "{'fba_count': 1,\n",
       " 'gapfilled_reactions': 123,\n",
       " 'gene_associated_reactions': 978,\n",
       " 'genome_ref': '/mmundy@patricbrc.org/home/models/.Btheta/genome',\n",
       " 'id': 'Btheta',\n",
       " 'integrated_gapfills': 1,\n",
       " 'name': 'Bacteroides thetaiotaomicron VPI-5482',\n",
       " 'num_biomass_compounds': 85,\n",
       " 'num_biomasses': 1,\n",
       " 'num_compartments': 2,\n",
       " 'num_compounds': 1229,\n",
       " 'num_genes': 718,\n",
       " 'num_reactions': 1101,\n",
       " 'ref': '/mmundy@patricbrc.org/home/models/.Btheta',\n",
       " 'rundate': '2018-05-08T12:58:12Z',\n",
       " 'source': 'PATRIC',\n",
       " 'source_id': '.Btheta',\n",
       " 'template_ref': '/chenry/public/modelsupport/templates/GramNegative.modeltemplate',\n",
       " 'type': 'GenomeScale',\n",
       " 'unintegrated_gapfills': 0}"
      ]
     },
     "execution_count": 2,
     "metadata": {},
     "output_type": "execute_result"
    }
   ],
   "source": [
    "mackinac.create_patric_model('226186.12', 'Btheta')"
   ]
  },
  {
   "cell_type": "markdown",
   "metadata": {},
   "source": [
    "Create a COBRA model from the PATRIC model with `create_cobra_model_from_patric_model()`. Now you can analyze the model using all of the functionality in cobrapy. "
   ]
  },
  {
   "cell_type": "code",
   "execution_count": 3,
   "metadata": {},
   "outputs": [
    {
     "data": {
      "text/plain": [
       "'Btheta'"
      ]
     },
     "execution_count": 3,
     "metadata": {},
     "output_type": "execute_result"
    }
   ],
   "source": [
    "model = mackinac.create_cobra_model_from_patric_model('Btheta')\n",
    "model.id"
   ]
  }
 ],
 "metadata": {
  "kernelspec": {
   "display_name": "python36",
   "language": "python",
   "name": "python36"
  },
  "language_info": {
   "codemirror_mode": {
    "name": "ipython",
    "version": 3
   },
   "file_extension": ".py",
   "mimetype": "text/x-python",
   "name": "python",
   "nbconvert_exporter": "python",
   "pygments_lexer": "ipython3",
   "version": "3.6.1"
  }
 },
 "nbformat": 4,
 "nbformat_minor": 2
}
