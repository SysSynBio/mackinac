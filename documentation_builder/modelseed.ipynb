{
 "cells": [
  {
   "cell_type": "code",
   "execution_count": 1,
   "metadata": {
    "collapsed": false
   },
   "outputs": [
    {
     "name": "stdout",
     "output_type": "stream",
     "text": [
      "Python 2.7.11 (v2.7.11:6d1b6a68f775, Dec  5 2015, 12:54:16) \n",
      "[GCC 4.2.1 (Apple Inc. build 5666) (dot 3)] on darwin\n"
     ]
    }
   ],
   "source": [
    "import sys\n",
    "print('Python %s on %s' % (sys.version, sys.platform))\n",
    "sys.path.extend(['/Users/m097749/Source/cobrapy', '/Users/m097749/Source/cobrapy-modelseed'])"
   ]
  },
  {
   "cell_type": "markdown",
   "metadata": {},
   "source": [
    "## ModelSEED for cobrapy\n",
    "\n",
    "ModelSEED for cobrapy provides support for creating a COBRA model from a ModelSEED model and using the ModelSEED web service to create draft models from genomes available in the [Pathosystems Resource Integration Center](https://www.patricbrc.org/portal/portal/patric/Home) (PATRIC). If you are not a [registered PATRIC user](http://enews.patricbrc.org/faqs/workspace-faqs/registration-faqs/), you must complete a [new user registration](https://user.patricbrc.org/register/) to work with the ModelSEED web service.\n",
    "\n",
    "Before using ModelSEED functions, you must first get an authentication token with your PATRIC username and password. The `get_token()` function stores the authentication token in the `.patric_config` file in your home directory. You only need to get an authentication token the first time you use the ModelSEED functions. Change `username` in the cell below to your PATRIC username and enter your password when prompted. The returned user ID identifies your ModelSEED workspace.\n"
   ]
  },
  {
   "cell_type": "code",
   "execution_count": 2,
   "metadata": {
    "collapsed": false
   },
   "outputs": [
    {
     "name": "stdout",
     "output_type": "stream",
     "text": [
      "patric password: ········\n"
     ]
    },
    {
     "data": {
      "text/plain": [
       "u'mmundy@patricbrc.org'"
      ]
     },
     "execution_count": 2,
     "metadata": {},
     "output_type": "execute_result"
    }
   ],
   "source": [
    "import modelseed\n",
    "modelseed.get_token('username')"
   ]
  },
  {
   "cell_type": "markdown",
   "metadata": {},
   "source": [
    "First, reconstruct a draft model for an organism with `reconstruct_modelseed_model()`. You need to provide a PATRIC genome ID to identify the organism. You can [search for genomes](https://www.patricbrc.org/portal/portal/patric/Genomes) on the PATRIC website from the thousands of bacterial organisms available. After a model is reconstructed, you refer to it by ID. By default, the ID of the model is the genome ID. You can give a model a different ID with the `model_id` parameter. Note that it takes a minute or two for the ModelSEED web service to run a function and return a result."
   ]
  },
  {
   "cell_type": "code",
   "execution_count": 3,
   "metadata": {
    "collapsed": false
   },
   "outputs": [
    {
     "data": {
      "text/plain": [
       "{'fba_count': 0,\n",
       " 'gapfilled_reactions': 0,\n",
       " 'gene_associated_reactions': 1034,\n",
       " 'genome_ref': u'/mmundy@patricbrc.org/modelseed/226186.12/genome',\n",
       " 'id': u'226186.12',\n",
       " 'integrated_gapfills': 0,\n",
       " 'name': u'Bacteroides thetaiotaomicron VPI-5482',\n",
       " 'num_biomass_compounds': 85,\n",
       " 'num_biomasses': 1,\n",
       " 'num_compartments': 2,\n",
       " 'num_compounds': 1202,\n",
       " 'num_genes': 739,\n",
       " 'num_reactions': 1034,\n",
       " 'ref': u'/mmundy@patricbrc.org/modelseed/226186.12',\n",
       " 'rundate': u'2016-12-12T17:21:01',\n",
       " 'source': u'ModelSEED',\n",
       " 'source_id': u'226186.12',\n",
       " 'template_ref': u'/chenry/public/modelsupport/templates/GramNegative.modeltemplate',\n",
       " 'type': u'GenomeScale',\n",
       " 'unintegrated_gapfills': 0}"
      ]
     },
     "execution_count": 3,
     "metadata": {},
     "output_type": "execute_result"
    }
   ],
   "source": [
    "modelseed.reconstruct_modelseed_model('226186.12')"
   ]
  },
  {
   "cell_type": "markdown",
   "metadata": {},
   "source": [
    "Next, gap fill using the ModelSEED algorithm with `gapfill_modelseed_model()`. By default the ModelSEED model is gap filled on complete media. Use the `media_reference` parameter to specify a different media. ModelSEED provides over 500 media in the `/chenry/public/modelsupport/media` folder (see below for how to show all of the available media). This step is optional if you want to use other gap fill algorithms in cobrapy."
   ]
  },
  {
   "cell_type": "code",
   "execution_count": 4,
   "metadata": {
    "collapsed": false
   },
   "outputs": [
    {
     "data": {
      "text/plain": [
       "{'fba_count': 0,\n",
       " 'gapfilled_reactions': 0,\n",
       " 'gene_associated_reactions': 1034,\n",
       " 'genome_ref': u'/mmundy@patricbrc.org/modelseed/226186.12/genome',\n",
       " 'id': u'226186.12',\n",
       " 'integrated_gapfills': 1,\n",
       " 'name': u'Bacteroides thetaiotaomicron VPI-5482',\n",
       " 'num_biomass_compounds': 85,\n",
       " 'num_biomasses': 1,\n",
       " 'num_compartments': 2,\n",
       " 'num_compounds': 1253,\n",
       " 'num_genes': 739,\n",
       " 'num_reactions': 1129,\n",
       " 'ref': u'/mmundy@patricbrc.org/modelseed/226186.12',\n",
       " 'rundate': u'2016-12-12T17:21:01',\n",
       " 'source': u'ModelSEED',\n",
       " 'source_id': u'226186.12',\n",
       " 'template_ref': u'/chenry/public/modelsupport/templates/GramNegative.modeltemplate',\n",
       " 'type': u'GenomeScale',\n",
       " 'unintegrated_gapfills': 0}"
      ]
     },
     "execution_count": 4,
     "metadata": {},
     "output_type": "execute_result"
    }
   ],
   "source": [
    "modelseed.gapfill_modelseed_model('226186.12')"
   ]
  },
  {
   "cell_type": "markdown",
   "metadata": {},
   "source": [
    "Next, run a simulation using the ModelSEED flux balance analysis algorithm with `optimize_modelseed_model()`. Use the `media_reference` parameter to specify a different media for the simulation. This step is optional if you want to run the analysis in cobrapy."
   ]
  },
  {
   "cell_type": "code",
   "execution_count": 5,
   "metadata": {
    "collapsed": false
   },
   "outputs": [
    {
     "data": {
      "text/plain": [
       "99.9203"
      ]
     },
     "execution_count": 5,
     "metadata": {},
     "output_type": "execute_result"
    }
   ],
   "source": [
    "modelseed.optimize_modelseed_model('226186.12')"
   ]
  },
  {
   "cell_type": "markdown",
   "metadata": {},
   "source": [
    "Finally, create a COBRA model from the ModelSEED model with `create_cobra_model_from_modelseed_model()`. It is possible for duplicate metabolites to be removed when creating the COBRA model. Now you can analyze the model using all of the functionality in cobrapy. "
   ]
  },
  {
   "cell_type": "code",
   "execution_count": 6,
   "metadata": {
    "collapsed": false
   },
   "outputs": [
    {
     "data": {
      "text/plain": [
       "u'226186.12'"
      ]
     },
     "execution_count": 6,
     "metadata": {},
     "output_type": "execute_result"
    }
   ],
   "source": [
    "model = modelseed.create_cobra_model_from_modelseed_model('226186.12')\n",
    "model.id"
   ]
  },
  {
   "cell_type": "markdown",
   "metadata": {},
   "source": [
    "### Managing your ModelSEED models and workspace\n",
    "\n",
    "There are more functions for managing your ModelSEED models and workspace. Get current statistics about a ModelSEED model with `get_modelseed_model_stats()`."
   ]
  },
  {
   "cell_type": "code",
   "execution_count": 7,
   "metadata": {
    "collapsed": false
   },
   "outputs": [
    {
     "data": {
      "text/plain": [
       "{'fba_count': 0,\n",
       " 'gapfilled_reactions': 0,\n",
       " 'gene_associated_reactions': 1034,\n",
       " 'genome_ref': u'/mmundy@patricbrc.org/modelseed/226186.12/genome',\n",
       " 'id': u'226186.12',\n",
       " 'integrated_gapfills': 1,\n",
       " 'name': u'Bacteroides thetaiotaomicron VPI-5482',\n",
       " 'num_biomass_compounds': 85,\n",
       " 'num_biomasses': 1,\n",
       " 'num_compartments': 2,\n",
       " 'num_compounds': 1253,\n",
       " 'num_genes': 739,\n",
       " 'num_reactions': 1129,\n",
       " 'ref': u'/mmundy@patricbrc.org/modelseed/226186.12',\n",
       " 'rundate': u'2016-12-12T17:21:01',\n",
       " 'source': u'ModelSEED',\n",
       " 'source_id': u'226186.12',\n",
       " 'template_ref': u'/chenry/public/modelsupport/templates/GramNegative.modeltemplate',\n",
       " 'type': u'GenomeScale',\n",
       " 'unintegrated_gapfills': 0}"
      ]
     },
     "execution_count": 7,
     "metadata": {},
     "output_type": "execute_result"
    }
   ],
   "source": [
    "modelseed.get_modelseed_model_stats('226186.12')"
   ]
  },
  {
   "cell_type": "markdown",
   "metadata": {},
   "source": [
    "Get the details of the ModelSEED gap fill solutions with `get_modelseed_gapfill_solutions()`. There can be multiple gap fill solutions for a model and the returned list is sorted from newest to oldest."
   ]
  },
  {
   "cell_type": "code",
   "execution_count": 8,
   "metadata": {
    "collapsed": false
   },
   "outputs": [],
   "source": [
    "gf_solutions = modelseed.get_modelseed_gapfill_solutions('226186.12')"
   ]
  },
  {
   "cell_type": "markdown",
   "metadata": {},
   "source": [
    "Get the number of reactions in a gap fill solution by checking the length of the `reactions` key in a solution. "
   ]
  },
  {
   "cell_type": "code",
   "execution_count": 9,
   "metadata": {
    "collapsed": false
   },
   "outputs": [
    {
     "data": {
      "text/plain": [
       "97"
      ]
     },
     "execution_count": 9,
     "metadata": {},
     "output_type": "execute_result"
    }
   ],
   "source": [
    "len(gf_solutions[0]['reactions'])"
   ]
  },
  {
   "cell_type": "markdown",
   "metadata": {},
   "source": [
    "The `reactions` key is a dictionary keyed by reaction ID with details on the reactions added to the model."
   ]
  },
  {
   "cell_type": "code",
   "execution_count": 10,
   "metadata": {
    "collapsed": false
   },
   "outputs": [
    {
     "data": {
      "text/plain": [
       "{u'compartment': u'c0',\n",
       " u'direction': u'>',\n",
       " u'reaction': u'~/fbamodel/template/reactions/id/rxn00737_c'}"
      ]
     },
     "execution_count": 10,
     "metadata": {},
     "output_type": "execute_result"
    }
   ],
   "source": [
    "gf_solutions[0]['reactions']['rxn00737_c0']"
   ]
  },
  {
   "cell_type": "markdown",
   "metadata": {},
   "source": [
    "Get the details of a ModelSEED flux balance analysis solution with `get_modelseed_fba_solutions()`. There can be multiple fba solutions for a model and the returned list is sorted from newest to oldest."
   ]
  },
  {
   "cell_type": "code",
   "execution_count": 11,
   "metadata": {
    "collapsed": false
   },
   "outputs": [],
   "source": [
    "fba_solutions = modelseed.get_modelseed_fba_solutions('226186.12')"
   ]
  },
  {
   "cell_type": "markdown",
   "metadata": {},
   "source": [
    "In an fba solution, the `exchanges` key is a dictionary keyed by metabolite ID of the metabolites that can be exchanged with the boundary. Metabolites with a positive flux are consumed and metabolites with a negative flux are produced."
   ]
  },
  {
   "cell_type": "code",
   "execution_count": 12,
   "metadata": {
    "collapsed": false
   },
   "outputs": [
    {
     "data": {
      "text/plain": [
       "{'lower_bound': -1000, 'upper_bound': 100, 'x': -830.615}"
      ]
     },
     "execution_count": 12,
     "metadata": {},
     "output_type": "execute_result"
    }
   ],
   "source": [
    "fba_solutions[0]['exchanges']['cpd00001_e0']"
   ]
  },
  {
   "cell_type": "markdown",
   "metadata": {},
   "source": [
    "The `reactions` key is a dictionary keyed by reaction ID with details on the bounds and flux for every reaction in model."
   ]
  },
  {
   "cell_type": "code",
   "execution_count": 13,
   "metadata": {
    "collapsed": false
   },
   "outputs": [
    {
     "data": {
      "text/plain": [
       "{'lower_bound': 0, 'upper_bound': 1000, 'x': 32.6722}"
      ]
     },
     "execution_count": 13,
     "metadata": {},
     "output_type": "execute_result"
    }
   ],
   "source": [
    "fba_solutions[0]['reactions']['rxn00737_c0']"
   ]
  },
  {
   "cell_type": "markdown",
   "metadata": {},
   "source": [
    "Get a list of all of the ModelSEED models stored in your ModelSEED workspace with `list_modelseed_models()`.  Remove the `print_output` parameter to return a list of model statistics about your models."
   ]
  },
  {
   "cell_type": "code",
   "execution_count": 14,
   "metadata": {
    "collapsed": false
   },
   "outputs": [
    {
     "name": "stdout",
     "output_type": "stream",
     "text": [
      "Model /mmundy@patricbrc.org/modelseed/226186.12 for organism Bacteroides thetaiotaomicron VPI-5482 with 1129 reactions and 1253 metabolites\n"
     ]
    }
   ],
   "source": [
    "modelseed.list_modelseed_models(print_output=True)"
   ]
  },
  {
   "cell_type": "markdown",
   "metadata": {},
   "source": [
    "If you no longer need a ModelSEED model, delete it from your ModelSEED workspace with `delete_modelseed_model()`."
   ]
  },
  {
   "cell_type": "code",
   "execution_count": 15,
   "metadata": {
    "collapsed": true
   },
   "outputs": [],
   "source": [
    "modelseed.delete_modelseed_model('226186.12')"
   ]
  },
  {
   "cell_type": "markdown",
   "metadata": {},
   "source": [
    "Get a list of objects in a folder in a ModelSEED workspace with `list_workspace_objects()`. For example, get a list of all of the media available for gap filling with this command:"
   ]
  },
  {
   "cell_type": "code",
   "execution_count": 16,
   "metadata": {
    "collapsed": false
   },
   "outputs": [
    {
     "name": "stdout",
     "output_type": "stream",
     "text": [
      "Contents of /chenry/public/modelsupport/media:\n",
      "-rr chenry    \t       605\t2015-05-11T05:39:01\tmedia       \t/chenry/public/modelsupport/media/Sulfate-N-Acetyl-D-galactosamine\n",
      "-rr chenry    \t       590\t2015-05-11T05:39:01\tmedia       \t/chenry/public/modelsupport/media/Sulfate-L-Arabitol\n",
      "-rr chenry    \t       584\t2015-05-11T05:39:01\tmedia       \t/chenry/public/modelsupport/media/Carbon-tricarballylate\n",
      "-rr chenry    \t       584\t2015-05-11T05:39:01\tmedia       \t/chenry/public/modelsupport/media/Sulfate-Cystathionine\n",
      "-rr chenry    \t       590\t2015-05-11T05:39:01\tmedia       \t/chenry/public/modelsupport/media/Sulfate-Thymidine\n",
      "-rr chenry    \t       582\t2015-05-11T05:39:02\tmedia       \t/chenry/public/modelsupport/media/Phosphate-O-Phospho-L-Serine\n",
      "-rr chenry    \t       583\t2015-05-11T05:39:02\tmedia       \t/chenry/public/modelsupport/media/Sulfate-L-Methionine\n",
      "-rr chenry    \t       590\t2015-05-11T05:39:02\tmedia       \t/chenry/public/modelsupport/media/Sulfate-D-Galactose\n",
      "-rr chenry    \t       587\t2015-05-11T05:39:02\tmedia       \t/chenry/public/modelsupport/media/Phosphate-Adenosine-2-3-Cyclic-Monophosphate\n",
      "-rr chenry    \t       591\t2015-05-11T05:39:02\tmedia       \t/chenry/public/modelsupport/media/Sulfate-Xanthosine\n",
      "-rr chenry    \t       588\t2015-05-11T05:39:03\tmedia       \t/chenry/public/modelsupport/media/Sulfate-Uridine\n",
      "-rr chenry    \t       590\t2015-05-11T05:39:03\tmedia       \t/chenry/public/modelsupport/media/Sulfate-D-Psicose\n",
      "-rr chenry    \t       586\t2015-05-11T05:39:03\tmedia       \t/chenry/public/modelsupport/media/Phosphate-Cytidine-2-Monophosphate\n",
      "-rr chenry    \t       587\t2015-05-11T05:39:04\tmedia       \t/chenry/public/modelsupport/media/Nitrogen-L-Pyroglutamic-Acid\n",
      "-rr chenry    \t       579\t2015-05-11T05:39:04\tmedia       \t/chenry/public/modelsupport/media/Carbon-L-Rhamnose\n",
      "-rr chenry    \t       589\t2015-05-11T05:39:04\tmedia       \t/chenry/public/modelsupport/media/Sulfate-L-Lysine\n",
      "-rr chenry    \t       580\t2015-05-11T05:39:04\tmedia       \t/chenry/public/modelsupport/media/Nitrogen-Uric-Acid\n",
      "-rr chenry    \t       590\t2015-05-11T05:39:04\tmedia       \t/chenry/public/modelsupport/media/Sulfate-D-Arabitol\n",
      "-rr chenry    \t       597\t2015-05-11T05:39:05\tmedia       \t/chenry/public/modelsupport/media/Biolog-C-lac-N-met-l\n",
      "-rr chenry    \t       592\t2015-05-11T05:39:05\tmedia       \t/chenry/public/modelsupport/media/Sulfate-D-Glucuronate\n",
      "-rr chenry    \t       577\t2015-05-11T05:39:05\tmedia       \t/chenry/public/modelsupport/media/Carbon-L-Malic-Acid\n",
      "-rr chenry    \t       578\t2015-05-11T05:39:05\tmedia       \t/chenry/public/modelsupport/media/Carbon-D-Psicose\n",
      "-rr chenry    \t       582\t2015-05-11T05:39:05\tmedia       \t/chenry/public/modelsupport/media/Nitrogen-Nitrite\n",
      "-rr chenry    \t       589\t2015-05-11T05:39:06\tmedia       \t/chenry/public/modelsupport/media/Carbon-N-Acetyl-L-Glutamic-Acid\n",
      "-rr chenry    \t       578\t2015-05-11T05:39:06\tmedia       \t/chenry/public/modelsupport/media/Nitrogen-Xanthine\n",
      "-rr chenry    \t       589\t2015-05-11T05:39:06\tmedia       \t/chenry/public/modelsupport/media/Sulfate-Tyramine\n",
      "-rr chenry    \t       585\t2015-05-11T05:39:06\tmedia       \t/chenry/public/modelsupport/media/Carbon-b-Phenylethylamine\n",
      "-rr chenry    \t       578\t2015-05-11T05:39:06\tmedia       \t/chenry/public/modelsupport/media/Carbon-L-Alanine\n",
      "-rr chenry    \t       583\t2015-05-11T05:39:06\tmedia       \t/chenry/public/modelsupport/media/Nitrogen-Tyramine\n",
      "-rr chenry    \t       578\t2015-05-11T05:39:07\tmedia       \t/chenry/public/modelsupport/media/Phosphate-Phosphate\n",
      "-rr chenry    \t       587\t2015-05-11T05:39:07\tmedia       \t/chenry/public/modelsupport/media/Nitrogen-Ethanolamine\n",
      "-rr chenry    \t       581\t2015-05-11T05:39:07\tmedia       \t/chenry/public/modelsupport/media/Carbon-Mucic-Acid\n",
      "-rr chenry    \t       588\t2015-05-11T05:39:07\tmedia       \t/chenry/public/modelsupport/media/Sulfate-Citrate\n",
      "-rr chenry    \t       591\t2015-05-11T05:39:07\tmedia       \t/chenry/public/modelsupport/media/Carbon-N-Acetyl-D-Glucosamine\n",
      "-rr chenry    \t       592\t2015-05-11T05:39:07\tmedia       \t/chenry/public/modelsupport/media/Sulfate-L-Glutamate\n",
      "-rr chenry    \t       596\t2015-05-11T05:39:08\tmedia       \t/chenry/public/modelsupport/media/Biolog-C-lac-N-glu-l\n",
      "-rr chenry    \t       592\t2015-05-11T05:39:08\tmedia       \t/chenry/public/modelsupport/media/Sulfate-Maltotriose\n",
      "-rr chenry    \t       590\t2015-05-11T05:39:10\tmedia       \t/chenry/public/modelsupport/media/Sulfate-1H-Imidazole-4-ethanamin\n",
      "-rr chenry    \t       590\t2015-05-11T05:39:10\tmedia       \t/chenry/public/modelsupport/media/Sulfate-Glycerone\n",
      "-rr chenry    \t       586\t2015-05-11T05:39:10\tmedia       \t/chenry/public/modelsupport/media/Nitrogen-L-Glutamine\n",
      "-rr chenry    \t       591\t2015-05-11T05:39:10\tmedia       \t/chenry/public/modelsupport/media/Nitrogen-b-Phenylethylamine\n",
      "-rr chenry    \t       581\t2015-05-11T05:39:10\tmedia       \t/chenry/public/modelsupport/media/Sulfate-Cysteamine\n",
      "-rr chenry    \t       574\t2015-05-11T05:39:11\tmedia       \t/chenry/public/modelsupport/media/Sulfate-Glutathione\n",
      "-rr chenry    \t       596\t2015-05-11T05:39:11\tmedia       \t/chenry/public/modelsupport/media/Sulfate-D-Galactosamine\n",
      "-rr chenry    \t       582\t2015-05-11T05:39:11\tmedia       \t/chenry/public/modelsupport/media/Sulfate-D-L-Lipoamide\n",
      "-rr chenry    \t       584\t2015-05-11T05:39:11\tmedia       \t/chenry/public/modelsupport/media/Carbon-Butylamine-sec\n",
      "-rr chenry    \t       589\t2015-05-11T05:39:11\tmedia       \t/chenry/public/modelsupport/media/Sulfate-6-Deoxy-D-galactose\n",
      "-rr chenry    \t      1437\t2015-05-11T05:39:12\tmedia       \t/chenry/public/modelsupport/media/NMS\n",
      "-rr chenry    \t       597\t2015-05-11T05:39:12\tmedia       \t/chenry/public/modelsupport/media/Nitrogen-N-Acetyl-D-L-Glutamic-Acid\n",
      "-rr chenry    \t       589\t2015-05-11T05:39:13\tmedia       \t/chenry/public/modelsupport/media/Sulfate-6-Deoxy-L-galactose\n",
      "-rr chenry    \t       589\t2015-05-11T05:39:13\tmedia       \t/chenry/public/modelsupport/media/Sulfate-Tween-20\n",
      "-rr chenry    \t       579\t2015-05-11T05:39:13\tmedia       \t/chenry/public/modelsupport/media/Nitrogen-D-Glucosamine\n",
      "-rr chenry    \t       573\t2015-05-11T05:39:13\tmedia       \t/chenry/public/modelsupport/media/Carbon-D-Gluconic-Acid\n",
      "-rr chenry    \t       591\t2015-05-11T05:39:14\tmedia       \t/chenry/public/modelsupport/media/Sulfate-N-Acetyl-D-L-Methionine\n",
      "-rr chenry    \t       597\t2015-05-11T05:39:14\tmedia       \t/chenry/public/modelsupport/media/Biolog-C-lac-N-ile-l\n",
      "-rr chenry    \t       588\t2015-05-11T05:39:14\tmedia       \t/chenry/public/modelsupport/media/Sulfate-Ribitol\n",
      "-rr chenry    \t       582\t2015-05-11T05:39:14\tmedia       \t/chenry/public/modelsupport/media/Nitrogen-Uridine\n",
      "-rr chenry    \t       591\t2015-05-11T05:39:14\tmedia       \t/chenry/public/modelsupport/media/Sulfate-D-Fructose\n",
      "-rr chenry    \t       584\t2015-05-11T05:39:15\tmedia       \t/chenry/public/modelsupport/media/Nitrogen-L-Proline\n",
      "-rr chenry    \t       580\t2015-05-11T05:39:15\tmedia       \t/chenry/public/modelsupport/media/Carbon-L-Aspartic-Acid\n",
      "-rr chenry    \t       590\t2015-05-11T05:39:15\tmedia       \t/chenry/public/modelsupport/media/Sulfate-L-Alanine\n",
      "-rr chenry    \t       582\t2015-05-11T05:39:16\tmedia       \t/chenry/public/modelsupport/media/Nitrogen-Glycine\n",
      "-rr chenry    \t       580\t2015-05-11T05:39:16\tmedia       \t/chenry/public/modelsupport/media/Carbon-L-Glutamic-Acid\n",
      "-rr chenry    \t       588\t2015-05-11T05:39:17\tmedia       \t/chenry/public/modelsupport/media/Sulfate-Dextrin\n",
      "-rr chenry    \t       590\t2015-05-11T05:39:17\tmedia       \t/chenry/public/modelsupport/media/Sulfate-L-Cystine\n",
      "-rr chenry    \t       582\t2015-05-11T05:39:18\tmedia       \t/chenry/public/modelsupport/media/Nitrogen-Nitrate\n",
      "-rr chenry    \t       211\t2015-05-11T05:39:18\tmedia       \t/chenry/public/modelsupport/media/MinimalGrowthNoMedia\n",
      "-rr chenry    \t      2121\t2015-05-11T05:39:18\tmedia       \t/chenry/public/modelsupport/media/ArgonneLBMedia\n",
      "-rr chenry    \t       590\t2015-05-11T05:39:18\tmedia       \t/chenry/public/modelsupport/media/Nitrogen-D-Galactosamine\n",
      "-rr chenry    \t       582\t2015-05-11T05:39:18\tmedia       \t/chenry/public/modelsupport/media/Biolog-C-dna\n",
      "-rr chenry    \t       579\t2015-05-11T05:39:19\tmedia       \t/chenry/public/modelsupport/media/Carbon-b-D-Allose\n",
      "-rr chenry    \t       588\t2015-05-11T05:39:19\tmedia       \t/chenry/public/modelsupport/media/Sulfate-Sucrose\n",
      "-rr chenry    \t       583\t2015-05-11T05:39:19\tmedia       \t/chenry/public/modelsupport/media/Nitrogen-L-Lysine\n",
      "-rr chenry    \t       582\t2015-05-11T05:39:19\tmedia       \t/chenry/public/modelsupport/media/Nitrogen-Gly-Gln\n",
      "-rr chenry    \t       588\t2015-05-11T05:39:19\tmedia       \t/chenry/public/modelsupport/media/Sulfate-Ala-His\n",
      "-rr chenry    \t       581\t2015-05-11T05:39:20\tmedia       \t/chenry/public/modelsupport/media/Carbon-L-Asparagine\n",
      "-rr chenry    \t       586\t2015-05-11T05:39:21\tmedia       \t/chenry/public/modelsupport/media/Nitrogen-L-Glutamic-Acid\n",
      "-rr chenry    \t       590\t2015-05-11T05:39:21\tmedia       \t/chenry/public/modelsupport/media/Phosphate-D-2-Phospho-Glyceric-Acid\n",
      "-rr chenry    \t       575\t2015-05-11T05:39:21\tmedia       \t/chenry/public/modelsupport/media/Carbon-Mannan\n",
      "-rr chenry    \t       592\t2015-05-11T05:39:21\tmedia       \t/chenry/public/modelsupport/media/Sulfate-L-Arabinose\n",
      "-rr chenry    \t       577\t2015-05-11T05:39:22\tmedia       \t/chenry/public/modelsupport/media/Carbon-Tyramine\n",
      "-rr chenry    \t       592\t2015-05-11T05:39:22\tmedia       \t/chenry/public/modelsupport/media/Sulfate-Gentiobiose\n",
      "-rr chenry    \t       556\t2015-05-11T05:39:22\tmedia       \t/chenry/public/modelsupport/media/Sulfate-NH3\n",
      "-rr chenry    \t       588\t2015-05-11T05:39:22\tmedia       \t/chenry/public/modelsupport/media/Sulfate-Galactitol\n",
      "-rr chenry    \t        38\t2015-05-11T05:39:22\tmedia       \t/chenry/public/modelsupport/media/Complete\n",
      "-rr chenry    \t       587\t2015-05-11T05:39:22\tmedia       \t/chenry/public/modelsupport/media/Nitrogen-L-Asparagine\n",
      "-rr chenry    \t       587\t2015-05-11T05:39:23\tmedia       \t/chenry/public/modelsupport/media/Sulfate-Biuret\n",
      "-rr chenry    \t       577\t2015-05-11T05:39:23\tmedia       \t/chenry/public/modelsupport/media/Carbon-D-Malic-Acid\n",
      "-rr chenry    \t       576\t2015-05-11T05:39:23\tmedia       \t/chenry/public/modelsupport/media/Carbon-Sucrose\n",
      "-rr chenry    \t       576\t2015-05-11T05:39:23\tmedia       \t/chenry/public/modelsupport/media/Carbon-Maltose\n",
      "-rr chenry    \t       578\t2015-05-11T05:39:23\tmedia       \t/chenry/public/modelsupport/media/Sulfate-Taurine\n",
      "-rr chenry    \t       592\t2015-05-11T05:39:23\tmedia       \t/chenry/public/modelsupport/media/Sulfate-L-Histidine\n",
      "-rr chenry    \t       590\t2015-05-11T05:39:24\tmedia       \t/chenry/public/modelsupport/media/Sulfate-D-Alanine\n",
      "-rr chenry    \t       583\t2015-05-11T05:39:25\tmedia       \t/chenry/public/modelsupport/media/Sulfate-D-Methionine\n",
      "-rr chenry    \t       586\t2015-05-11T05:39:25\tmedia       \t/chenry/public/modelsupport/media/Sulfate-Arbutin\n",
      "-rr chenry    \t       586\t2015-05-11T05:39:25\tmedia       \t/chenry/public/modelsupport/media/Nitrogen-Ala-Asp\n",
      "-rr chenry    \t       585\t2015-05-11T05:39:25\tmedia       \t/chenry/public/modelsupport/media/Nitrogen-L-Tyrosine\n",
      "-rr chenry    \t       593\t2015-05-11T05:39:25\tmedia       \t/chenry/public/modelsupport/media/Carbon-N-Acetyl-D-Galactosamine\n",
      "-rr chenry    \t       586\t2015-05-11T05:39:26\tmedia       \t/chenry/public/modelsupport/media/Carbon-d-Amino-Valeric-Acid\n",
      "-rr chenry    \t       593\t2015-05-11T05:39:26\tmedia       \t/chenry/public/modelsupport/media/Sulfate-L-Isoleucine\n",
      "-rr chenry    \t       589\t2015-05-11T05:39:26\tmedia       \t/chenry/public/modelsupport/media/Sulfate-R-R-Tartaric-Acid\n",
      "-rr chenry    \t       587\t2015-05-11T05:39:26\tmedia       \t/chenry/public/modelsupport/media/Sulfate-Uracil\n",
      "-rr chenry    \t       596\t2015-05-11T05:39:26\tmedia       \t/chenry/public/modelsupport/media/Sulfate-Propane-1-2-diol\n",
      "-rr chenry    \t       589\t2015-05-11T05:39:26\tmedia       \t/chenry/public/modelsupport/media/Sulfate-L-Valine\n",
      "-rr chenry    \t       607\t2015-05-11T05:39:27\tmedia       \t/chenry/public/modelsupport/media/Biolog-C-lac-N-acgam\n",
      "-rr chenry    \t       581\t2015-05-11T05:39:27\tmedia       \t/chenry/public/modelsupport/media/Carbon-D-Melezitose\n",
      "-rr chenry    \t       589\t2015-05-11T05:39:27\tmedia       \t/chenry/public/modelsupport/media/Sulfate-D-Ribose\n",
      "-rr chenry    \t       577\t2015-05-11T05:39:27\tmedia       \t/chenry/public/modelsupport/media/Carbon-D-Ribose\n",
      "-rr chenry    \t       582\t2015-05-11T05:39:27\tmedia       \t/chenry/public/modelsupport/media/Nitrogen-Inosine\n",
      "-rr chenry    \t       576\t2015-05-11T05:39:28\tmedia       \t/chenry/public/modelsupport/media/Carbon-Citric-Acid\n",
      "-rr chenry    \t       581\t2015-05-11T05:39:29\tmedia       \t/chenry/public/modelsupport/media/Phosphate-Tripolyphosphate\n",
      "-rr chenry    \t       587\t2015-05-11T05:39:29\tmedia       \t/chenry/public/modelsupport/media/Nitrogen-L-Methionine\n",
      "-rr chenry    \t       593\t2015-05-11T05:39:29\tmedia       \t/chenry/public/modelsupport/media/Sulfate-D-Asparagine\n",
      "-rr chenry    \t       589\t2015-05-11T05:39:29\tmedia       \t/chenry/public/modelsupport/media/Carbon-D-Lactitol\n",
      "-rr chenry    \t       591\t2015-05-11T05:39:29\tmedia       \t/chenry/public/modelsupport/media/Sulfate-L-Rhamnose\n",
      "-rr chenry    \t       574\t2015-05-11T05:39:30\tmedia       \t/chenry/public/modelsupport/media/Carbon-2-3-Butanone\n",
      "-rr chenry    \t       582\t2015-05-11T05:39:30\tmedia       \t/chenry/public/modelsupport/media/Sulfate-2-Hydroxyethane-Sulfonic-Acid\n",
      "-rr chenry    \t       588\t2015-05-11T05:39:30\tmedia       \t/chenry/public/modelsupport/media/Sulfate-Xylitol\n",
      "-rr chenry    \t       591\t2015-05-11T05:39:30\tmedia       \t/chenry/public/modelsupport/media/Carbon-D-Fructose-6-Phosphate\n",
      "-rr chenry    \t       584\t2015-05-11T05:39:30\tmedia       \t/chenry/public/modelsupport/media/Carbon-L-Alanyl-Glycine\n",
      "-rr chenry    \t       590\t2015-05-11T05:39:31\tmedia       \t/chenry/public/modelsupport/media/Sulfate-Amygdalin\n",
      "-rr chenry    \t       590\t2015-05-11T05:39:31\tmedia       \t/chenry/public/modelsupport/media/Phosphate-D-Mannose-6-Phosphate\n",
      "-rr chenry    \t       584\t2015-05-11T05:39:31\tmedia       \t/chenry/public/modelsupport/media/Nitrogen-Histamine\n",
      "-rr chenry    \t       578\t2015-05-11T05:39:31\tmedia       \t/chenry/public/modelsupport/media/Carbon-Glycyl-L-Proline\n",
      "-rr chenry    \t       594\t2015-05-11T05:39:31\tmedia       \t/chenry/public/modelsupport/media/Biolog-C-lac-N-adn\n",
      "-rr chenry    \t       576\t2015-05-11T05:39:32\tmedia       \t/chenry/public/modelsupport/media/Carbon-Quinic-Acid\n",
      "-rr chenry    \t       590\t2015-05-11T05:39:33\tmedia       \t/chenry/public/modelsupport/media/Sulfate-Guanosine\n",
      "-rr chenry    \t       596\t2015-05-11T05:39:34\tmedia       \t/chenry/public/modelsupport/media/Sulfate-tricarballylate\n",
      "-rr chenry    \t       588\t2015-05-11T05:39:34\tmedia       \t/chenry/public/modelsupport/media/Carbon-D-Glucose-1-Phosphate\n",
      "-rr chenry    \t       576\t2015-05-11T05:39:34\tmedia       \t/chenry/public/modelsupport/media/Carbon-Salicin\n",
      "-rr chenry    \t       576\t2015-05-11T05:39:34\tmedia       \t/chenry/public/modelsupport/media/Carbon-Acetic-Acid\n",
      "-rr chenry    \t       578\t2015-05-11T05:39:34\tmedia       \t/chenry/public/modelsupport/media/Carbon-D-Mannose\n",
      "-rr chenry    \t       590\t2015-05-11T05:39:35\tmedia       \t/chenry/public/modelsupport/media/Sulfate-Acetamide\n",
      "-rr chenry    \t       582\t2015-05-11T05:39:35\tmedia       \t/chenry/public/modelsupport/media/Sulfate-Lanthionine\n",
      "-rr chenry    \t       575\t2015-05-11T05:39:35\tmedia       \t/chenry/public/modelsupport/media/Phosphate-Cytidine-3-Monophosphate\n",
      "-rr chenry    \t       591\t2015-05-11T05:39:35\tmedia       \t/chenry/public/modelsupport/media/Biolog-C-lac-S-cys-l\n",
      "-rr chenry    \t       584\t2015-05-11T05:39:35\tmedia       \t/chenry/public/modelsupport/media/Carbon-m-Tartaric-Acid\n",
      "-rr chenry    \t       576\t2015-05-11T05:39:35\tmedia       \t/chenry/public/modelsupport/media/Carbon-sorbate\n",
      "-rr chenry    \t       554\t2015-05-11T05:39:37\tmedia       \t/chenry/public/modelsupport/media/Biolog-C-lac-N-dna-P-dna\n",
      "-rr chenry    \t       586\t2015-05-11T05:39:37\tmedia       \t/chenry/public/modelsupport/media/Phosphate-O-Phospho-D-Tyrosine\n",
      "-rr chenry    \t       585\t2015-05-11T05:39:37\tmedia       \t/chenry/public/modelsupport/media/Nitrogen-Ethylamine\n",
      "-rr chenry    \t       588\t2015-05-11T05:39:37\tmedia       \t/chenry/public/modelsupport/media/Sulfate-Quinate\n",
      "-rr chenry    \t       603\t2015-05-11T05:39:37\tmedia       \t/chenry/public/modelsupport/media/Sulfate-N-Acetyl-D-glucosamine\n",
      "-rr chenry    \t       590\t2015-05-11T05:39:38\tmedia       \t/chenry/public/modelsupport/media/Sulfate-Stachyose\n",
      "-rr chenry    \t       595\t2015-05-11T05:39:38\tmedia       \t/chenry/public/modelsupport/media/Carbon-a-Methyl-D-Glucoside\n",
      "-rr chenry    \t       578\t2015-05-11T05:39:38\tmedia       \t/chenry/public/modelsupport/media/Phosphate-2-Aminoethyl-Phosphonic-Acid\n",
      "-rr chenry    \t       591\t2015-05-11T05:39:38\tmedia       \t/chenry/public/modelsupport/media/Sulfate-Galactarate\n",
      "-rr chenry    \t       581\t2015-05-11T05:39:38\tmedia       \t/chenry/public/modelsupport/media/Carbon-L-Pyroglutamic-Acid\n",
      "-rr chenry    \t       583\t2015-05-11T05:39:38\tmedia       \t/chenry/public/modelsupport/media/Nitrogen-Cytidine\n",
      "-rr chenry    \t       590\t2015-05-11T05:39:39\tmedia       \t/chenry/public/modelsupport/media/Sulfate-L-Proline\n",
      "-rr chenry    \t       586\t2015-05-11T05:39:39\tmedia       \t/chenry/public/modelsupport/media/Sulfate-p-Amino-Benzene-Sulfonic-Acid\n",
      "-rr chenry    \t       576\t2015-05-11T05:39:39\tmedia       \t/chenry/public/modelsupport/media/Carbon-Oxalic-Acid\n",
      "-rr chenry    \t       589\t2015-05-11T05:39:39\tmedia       \t/chenry/public/modelsupport/media/Phosphate-b-Glycerol-Phosphate\n",
      "-rr chenry    \t       589\t2015-05-11T05:39:39\tmedia       \t/chenry/public/modelsupport/media/Sulfate-Glycerol\n",
      "-rr chenry    \t       577\t2015-05-11T05:39:40\tmedia       \t/chenry/public/modelsupport/media/Carbon-Tween-80\n",
      "-rr chenry    \t       579\t2015-05-11T05:39:41\tmedia       \t/chenry/public/modelsupport/media/Carbon-D-Mannitol\n",
      "-rr chenry    \t       588\t2015-05-11T05:39:41\tmedia       \t/chenry/public/modelsupport/media/Sulfate-Ala-Gln\n",
      "-rr chenry    \t       586\t2015-05-11T05:39:41\tmedia       \t/chenry/public/modelsupport/media/Nitrogen-L-Aspartic-Acid\n",
      "-rr chenry    \t       588\t2015-05-11T05:39:41\tmedia       \t/chenry/public/modelsupport/media/Sulfate-Acetate\n",
      "-rr chenry    \t       788\t2015-05-11T05:39:41\tmedia       \t/chenry/public/modelsupport/media/7H9\n",
      "-rr chenry    \t       586\t2015-05-11T05:39:42\tmedia       \t/chenry/public/modelsupport/media/Phosphate-O-Phospho-D-Serine\n",
      "-rr chenry    \t       578\t2015-05-11T05:39:42\tmedia       \t/chenry/public/modelsupport/media/Carbon-D-L-Carnitine\n",
      "-rr chenry    \t       592\t2015-05-11T05:39:42\tmedia       \t/chenry/public/modelsupport/media/Phosphate-O-Phospho-L-Threonine\n",
      "-rr chenry    \t       587\t2015-05-11T05:39:42\tmedia       \t/chenry/public/modelsupport/media/Sulfate-D-Xylose\n",
      "-rr chenry    \t       580\t2015-05-11T05:39:42\tmedia       \t/chenry/public/modelsupport/media/Carbon-D-Saccharic-Acid\n",
      "-rr chenry    \t       573\t2015-05-11T05:39:43\tmedia       \t/chenry/public/modelsupport/media/Carbon-D-Glucosamine\n",
      "-rr chenry    \t       589\t2015-05-11T05:39:43\tmedia       \t/chenry/public/modelsupport/media/Sulfate-Cytosine\n",
      "-rr chenry    \t       578\t2015-05-11T05:39:43\tmedia       \t/chenry/public/modelsupport/media/Carbon-D-Arabitol\n",
      "-rr chenry    \t       580\t2015-05-11T05:39:43\tmedia       \t/chenry/public/modelsupport/media/Carbon-L-Threonine\n",
      "-rr chenry    \t       588\t2015-05-11T05:39:43\tmedia       \t/chenry/public/modelsupport/media/Sulfate-Maltose\n",
      "-rr chenry    \t       587\t2015-05-11T05:39:43\tmedia       \t/chenry/public/modelsupport/media/Carbon-g-Hydroxy-Butyric-Acid\n",
      "-rr chenry    \t       587\t2015-05-11T05:39:44\tmedia       \t/chenry/public/modelsupport/media/Phosphate-D-3-Phospho-Glyceric-Acid\n",
      "-rr chenry    \t       591\t2015-05-11T05:39:44\tmedia       \t/chenry/public/modelsupport/media/Carbon-N-Acetyl-b-D-Mannosamine\n",
      "-rr chenry    \t       577\t2015-05-11T05:39:45\tmedia       \t/chenry/public/modelsupport/media/Carbon-D-Fucose\n",
      "-rr chenry    \t       588\t2015-05-11T05:39:45\tmedia       \t/chenry/public/modelsupport/media/Sulfate-Adenine\n",
      "-rr chenry    \t       591\t2015-05-11T05:39:45\tmedia       \t/chenry/public/modelsupport/media/Phosphate-Uridine-2-Monophosphate\n",
      "-rr chenry    \t      1333\t2015-05-11T05:39:46\tmedia       \t/chenry/public/modelsupport/media/MinimalGrowthNMS\n",
      "-rr chenry    \t       596\t2015-05-11T05:39:46\tmedia       \t/chenry/public/modelsupport/media/Biolog-C-lac-N-his-l\n",
      "-rr chenry    \t       596\t2015-05-11T05:39:46\tmedia       \t/chenry/public/modelsupport/media/Sulfate-L-alanylglycine\n",
      "-rr chenry    \t       593\t2015-05-11T05:39:46\tmedia       \t/chenry/public/modelsupport/media/Carbon-p-Hydroxy-Phenylacetic-Acid\n",
      "-rr chenry    \t       580\t2015-05-11T05:39:46\tmedia       \t/chenry/public/modelsupport/media/Carbon-L-Glutamine\n",
      "-rr chenry    \t       578\t2015-05-11T05:39:46\tmedia       \t/chenry/public/modelsupport/media/Carbon-D-Melibiose\n",
      "-rr chenry    \t       576\t2015-05-11T05:39:47\tmedia       \t/chenry/public/modelsupport/media/Carbon-Uridine\n",
      "-rr chenry    \t       581\t2015-05-11T05:39:47\tmedia       \t/chenry/public/modelsupport/media/Carbon-D-L-Octopamine\n",
      "-rr chenry    \t       590\t2015-05-11T05:39:48\tmedia       \t/chenry/public/modelsupport/media/Sulfate-L-Ornithine\n",
      "-rr chenry    \t       598\t2015-05-11T05:39:48\tmedia       \t/chenry/public/modelsupport/media/Sulfate-4-Hydroxybenzoate\n",
      "-rr chenry    \t       560\t2015-05-11T05:39:49\tmedia       \t/chenry/public/modelsupport/media/Biolog-C-lac-N-gly\n",
      "-rr chenry    \t       586\t2015-05-11T05:39:49\tmedia       \t/chenry/public/modelsupport/media/Nitrogen-D-Glutamic-Acid\n",
      "-rr chenry    \t       580\t2015-05-11T05:39:49\tmedia       \t/chenry/public/modelsupport/media/Carbon-Capric-Acid\n",
      "-rr chenry    \t       589\t2015-05-11T05:39:49\tmedia       \t/chenry/public/modelsupport/media/Sulfate-Butanoic-Acid\n",
      "-rr chenry    \t       578\t2015-05-11T05:39:49\tmedia       \t/chenry/public/modelsupport/media/Carbon-Glycyl-L-Glutamic-Acid\n",
      "-rr chenry    \t       589\t2015-05-11T05:39:50\tmedia       \t/chenry/public/modelsupport/media/Sulfate-D-Sorbitol\n",
      "-rr chenry    \t       590\t2015-05-11T05:39:50\tmedia       \t/chenry/public/modelsupport/media/Sulfate-Deoxyribose\n",
      "-rr chenry    \t       597\t2015-05-11T05:39:50\tmedia       \t/chenry/public/modelsupport/media/Nitrogen-D-L-a-Amino-N-Butyric-Acid\n",
      "-rr chenry    \t      2134\t2015-05-11T05:39:50\tmedia       \t/chenry/public/modelsupport/media/LB\n",
      "-rr chenry    \t       559\t2015-05-11T05:39:50\tmedia       \t/chenry/public/modelsupport/media/Biolog-C-ser-l-N-ser-l\n",
      "-rr chenry    \t       577\t2015-05-11T05:39:51\tmedia       \t/chenry/public/modelsupport/media/Phosphate-Phosphono-Acetic-Acid\n",
      "-rr chenry    \t       578\t2015-05-11T05:39:51\tmedia       \t/chenry/public/modelsupport/media/Carbon-Thymidine\n",
      "-rr chenry    \t       573\t2015-05-11T05:39:51\tmedia       \t/chenry/public/modelsupport/media/Carbon-2-3-Butanediol\n",
      "-rr chenry    \t       577\t2015-05-11T05:39:51\tmedia       \t/chenry/public/modelsupport/media/Carbon-Glycogen\n",
      "-rr chenry    \t       588\t2015-05-11T05:39:51\tmedia       \t/chenry/public/modelsupport/media/Sulfate-Gelatine\n",
      "-rr chenry    \t       592\t2015-05-11T05:39:52\tmedia       \t/chenry/public/modelsupport/media/Sulfate-D-Glucarate\n",
      "-rr chenry    \t       578\t2015-05-11T05:39:53\tmedia       \t/chenry/public/modelsupport/media/Sulfate-L-Cysteinyl-Glycine\n",
      "-rr chenry    \t       594\t2015-05-11T05:39:53\tmedia       \t/chenry/public/modelsupport/media/Sulfate-D-Mannosamine\n",
      "-rr chenry    \t       584\t2015-05-11T05:39:53\tmedia       \t/chenry/public/modelsupport/media/Nitrogen-Acetamide\n",
      "-rr chenry    \t       600\t2015-05-11T05:39:53\tmedia       \t/chenry/public/modelsupport/media/Biolog-C-lac-N-phe-l\n",
      "-rr chenry    \t       589\t2015-05-11T05:39:54\tmedia       \t/chenry/public/modelsupport/media/Carbon-b-Methyl-D-Glucoside\n",
      "-rr chenry    \t       562\t2015-05-11T05:39:54\tmedia       \t/chenry/public/modelsupport/media/Biolog-C-gln-l-N-gln-l\n",
      "-rr chenry    \t       596\t2015-05-11T05:39:54\tmedia       \t/chenry/public/modelsupport/media/Carbon-4-Hydroxy-L-Proline-trans\n",
      "-rr chenry    \t       576\t2015-05-11T05:39:54\tmedia       \t/chenry/public/modelsupport/media/Carbon-Xylitol\n",
      "-rr chenry    \t       586\t2015-05-11T05:39:55\tmedia       \t/chenry/public/modelsupport/media/Nitrogen-Ala-Glu\n",
      "-rr chenry    \t       597\t2015-05-11T05:39:55\tmedia       \t/chenry/public/modelsupport/media/Nitrogen-N-Acetyl-D-Mannosamine\n",
      "-rr chenry    \t       586\t2015-05-11T05:39:56\tmedia       \t/chenry/public/modelsupport/media/Nitrogen-D-Aspartic-Acid\n",
      "-rr chenry    \t       591\t2015-05-11T05:39:57\tmedia       \t/chenry/public/modelsupport/media/Sulfate-Putrescine\n",
      "-rr chenry    \t       572\t2015-05-11T05:39:58\tmedia       \t/chenry/public/modelsupport/media/Phosphate-Pyrophosphate\n",
      "-rr chenry    \t       573\t2015-05-11T05:39:58\tmedia       \t/chenry/public/modelsupport/media/Phosphate-Guanosine-3-5-Cyclic-Monophosphate\n",
      "-rr chenry    \t       581\t2015-05-11T05:39:58\tmedia       \t/chenry/public/modelsupport/media/Sulfate-L-Cysteic-Acid\n",
      "-rr chenry    \t       588\t2015-05-11T05:39:59\tmedia       \t/chenry/public/modelsupport/media/Sulfate-Nitrite\n",
      "-rr chenry    \t       584\t2015-05-11T05:39:59\tmedia       \t/chenry/public/modelsupport/media/Nitrogen-Adenosine\n",
      "-rr chenry    \t       580\t2015-05-11T05:39:59\tmedia       \t/chenry/public/modelsupport/media/Carbon-Citraconic-Acid\n",
      "-rr chenry    \t       581\t2015-05-11T05:39:59\tmedia       \t/chenry/public/modelsupport/media/Nitrogen-Biuret\n",
      "-rr chenry    \t       576\t2015-05-11T05:40:01\tmedia       \t/chenry/public/modelsupport/media/Carbon-Dextrin\n",
      "-rr chenry    \t       590\t2015-05-11T05:40:02\tmedia       \t/chenry/public/modelsupport/media/Sulfate-D-Mannose\n",
      "-rr chenry    \t       592\t2015-05-11T05:40:03\tmedia       \t/chenry/public/modelsupport/media/Sulfate-L-Glutamine\n",
      "-rr chenry    \t       583\t2015-05-11T05:40:03\tmedia       \t/chenry/public/modelsupport/media/Nitrogen-L-Valine\n",
      "-rr chenry    \t       581\t2015-05-11T05:40:03\tmedia       \t/chenry/public/modelsupport/media/Nitrogen-Uracil\n",
      "-rr chenry    \t       584\t2015-05-11T05:40:04\tmedia       \t/chenry/public/modelsupport/media/Nitrogen-Gly-Glu\n",
      "-rr chenry    \t       582\t2015-05-11T05:40:05\tmedia       \t/chenry/public/modelsupport/media/Carbon-D-Glucosaminic-Acid\n",
      "-rr chenry    \t       578\t2015-05-11T05:40:06\tmedia       \t/chenry/public/modelsupport/media/Sulfate-Sulfate\n",
      "-rr chenry    \t       582\t2015-05-11T05:40:07\tmedia       \t/chenry/public/modelsupport/media/Nitrogen-Ala-His\n",
      "-rr chenry    \t       584\t2015-05-11T05:40:07\tmedia       \t/chenry/public/modelsupport/media/Nitrogen-Gly-Asn\n",
      "-rr chenry    \t       584\t2015-05-11T05:40:07\tmedia       \t/chenry/public/modelsupport/media/Sulfate-Tetrathionate\n",
      "-rr chenry    \t       584\t2015-05-11T05:40:14\tmedia       \t/chenry/public/modelsupport/media/Nitrogen-Formamide\n",
      "-rr chenry    \t       583\t2015-05-11T05:40:14\tmedia       \t/chenry/public/modelsupport/media/Carbon-a-Keto-Glutaric-Acid\n",
      "-rr chenry    \t       584\t2015-05-11T05:40:15\tmedia       \t/chenry/public/modelsupport/media/Nitrogen-Allantoin\n",
      "-rr chenry    \t       585\t2015-05-11T05:40:15\tmedia       \t/chenry/public/modelsupport/media/Sulfate-Acetoin\n",
      "-rr chenry    \t       578\t2015-05-11T05:40:22\tmedia       \t/chenry/public/modelsupport/media/Carbon-L-Proline\n",
      "-rr chenry    \t       587\t2015-05-11T05:40:22\tmedia       \t/chenry/public/modelsupport/media/Biolog-C-cytd\n",
      "-rr chenry    \t       590\t2015-05-11T05:40:22\tmedia       \t/chenry/public/modelsupport/media/Carbon-D-Glucose-6-Phosphate\n",
      "-rr chenry    \t       588\t2015-05-11T05:40:23\tmedia       \t/chenry/public/modelsupport/media/Sulfate-Thymine\n",
      "-rr chenry    \t       588\t2015-05-11T05:40:23\tmedia       \t/chenry/public/modelsupport/media/Phosphate-D-Glucose-1-Phosphate\n",
      "-rr chenry    \t       572\t2015-05-11T05:40:23\tmedia       \t/chenry/public/modelsupport/media/Phosphate-Uridine-5-Monophosphate\n",
      "-rr chenry    \t       589\t2015-05-11T05:40:23\tmedia       \t/chenry/public/modelsupport/media/Carbon-D-L-a-Glycerol-Phosphate\n",
      "-rr chenry    \t       587\t2015-05-11T05:40:25\tmedia       \t/chenry/public/modelsupport/media/Nitrogen-L-Isoleucine\n",
      "-rr chenry    \t       586\t2015-05-11T05:40:25\tmedia       \t/chenry/public/modelsupport/media/Nitrogen-L-Threonine\n",
      "-rr chenry    \t       582\t2015-05-11T05:40:25\tmedia       \t/chenry/public/modelsupport/media/Nitrogen-Ala-Leu\n",
      "-rr chenry    \t       603\t2015-05-11T05:40:26\tmedia       \t/chenry/public/modelsupport/media/Sulfate-N-Acetyl-D-mannosamine\n",
      "-rr chenry    \t       578\t2015-05-11T05:40:26\tmedia       \t/chenry/public/modelsupport/media/Carbon-Adenosine\n",
      "-rr chenry    \t       581\t2015-05-11T05:40:26\tmedia       \t/chenry/public/modelsupport/media/Sulfate-L-Djenkolic-Acid\n",
      "-rr chenry    \t       592\t2015-05-11T05:40:26\tmedia       \t/chenry/public/modelsupport/media/Sulfate-D-Aspartate\n",
      "-rr chenry    \t       572\t2015-05-11T05:40:27\tmedia       \t/chenry/public/modelsupport/media/Phosphate-Guanosine-5-Monophosphate\n",
      "-rr chenry    \t       577\t2015-05-11T05:40:27\tmedia       \t/chenry/public/modelsupport/media/Carbon-L-Xylose\n",
      "-rr chenry    \t       579\t2015-05-11T05:40:27\tmedia       \t/chenry/public/modelsupport/media/Carbon-Palatinose\n",
      "-rr chenry    \t       588\t2015-05-11T05:40:28\tmedia       \t/chenry/public/modelsupport/media/Carbon-a-Hydroxy-Butyric-Acid\n",
      "-rr chenry    \t       573\t2015-05-11T05:40:29\tmedia       \t/chenry/public/modelsupport/media/Carbon-3-Hydroxy-2-Butanone\n",
      "-rr chenry    \t       588\t2015-05-11T05:40:30\tmedia       \t/chenry/public/modelsupport/media/Biolog-C-lac-N-dna\n",
      "-rr chenry    \t       590\t2015-05-11T05:40:31\tmedia       \t/chenry/public/modelsupport/media/Phosphate-D-Glucose-6-Phosphate\n",
      "-rr chenry    \t       582\t2015-05-11T05:40:31\tmedia       \t/chenry/public/modelsupport/media/Sulfate-D-L-Ethionine\n",
      "-rr chenry    \t       578\t2015-05-11T05:40:31\tmedia       \t/chenry/public/modelsupport/media/Carbon-L-Arabitol\n",
      "-rr chenry    \t       578\t2015-05-11T05:40:32\tmedia       \t/chenry/public/modelsupport/media/Carbon-Urocanic-Acid\n",
      "-rr chenry    \t       587\t2015-05-11T05:40:33\tmedia       \t/chenry/public/modelsupport/media/Phosphate-Cytidine-2-3-Cyclic-Monophosphate\n",
      "-rr chenry    \t       577\t2015-05-11T05:40:33\tmedia       \t/chenry/public/modelsupport/media/Carbon-Butyric-Acid\n",
      "-rr chenry    \t       580\t2015-05-11T05:40:34\tmedia       \t/chenry/public/modelsupport/media/Carbon-Caproic-Acid\n",
      "-rr chenry    \t       589\t2015-05-11T05:40:34\tmedia       \t/chenry/public/modelsupport/media/Sulfate-L-Lyxose\n",
      "-rr chenry    \t       572\t2015-05-11T05:40:34\tmedia       \t/chenry/public/modelsupport/media/Phosphate-Cytidine-5-Monophosphate\n",
      "-rr chenry    \t       573\t2015-05-11T05:40:34\tmedia       \t/chenry/public/modelsupport/media/Carbon-D-Cellobiose\n",
      "-rr chenry    \t       590\t2015-05-11T05:40:35\tmedia       \t/chenry/public/modelsupport/media/Nitrogen-L-Phenylalanine\n",
      "-rr chenry    \t       596\t2015-05-11T05:40:35\tmedia       \t/chenry/public/modelsupport/media/Sulfate-L-Phenylalanine\n",
      "-rr chenry    \t       589\t2015-05-11T05:40:36\tmedia       \t/chenry/public/modelsupport/media/Phosphate-Carbamyl-Phosphate\n",
      "-rr chenry    \t       578\t2015-05-11T05:40:37\tmedia       \t/chenry/public/modelsupport/media/Carbon-Dihydroxy-Acetone\n",
      "-rr chenry    \t       584\t2015-05-11T05:40:37\tmedia       \t/chenry/public/modelsupport/media/Nitrogen-L-Alanine\n",
      "-rr chenry    \t       584\t2015-05-11T05:40:37\tmedia       \t/chenry/public/modelsupport/media/Carbon-D-Galacturonic-Acid\n",
      "-rr chenry    \t       589\t2015-05-11T05:40:37\tmedia       \t/chenry/public/modelsupport/media/Sulfate-Cytidine\n",
      "-rr chenry    \t       578\t2015-05-11T05:40:38\tmedia       \t/chenry/public/modelsupport/media/Nitrogen-Ammonia\n",
      "-rr chenry    \t       578\t2015-05-11T05:40:38\tmedia       \t/chenry/public/modelsupport/media/Carbon-L-Leucine\n",
      "-rr chenry    \t       577\t2015-05-11T05:40:38\tmedia       \t/chenry/public/modelsupport/media/Carbon-Pyruvic-Acid\n",
      "-rr chenry    \t       575\t2015-05-11T05:40:39\tmedia       \t/chenry/public/modelsupport/media/Carbon-D-Xylose\n",
      "-rr chenry    \t       589\t2015-05-11T05:40:39\tmedia       \t/chenry/public/modelsupport/media/Sulfate-Pyruvate\n",
      "-rr chenry    \t       578\t2015-05-11T05:40:39\tmedia       \t/chenry/public/modelsupport/media/Carbon-Stachyose\n",
      "-rr chenry    \t       584\t2015-05-11T05:40:40\tmedia       \t/chenry/public/modelsupport/media/Biolog-C-lac-S-gthrd\n",
      "-rr chenry    \t       585\t2015-05-11T05:40:41\tmedia       \t/chenry/public/modelsupport/media/Nitrogen-L-Arginine\n",
      "-rr chenry    \t       578\t2015-05-11T05:40:41\tmedia       \t/chenry/public/modelsupport/media/Carbon-D-Alanine\n",
      "-rr chenry    \t       590\t2015-05-11T05:40:42\tmedia       \t/chenry/public/modelsupport/media/Phosphate-6-Phospho-Gluconic-Acid\n",
      "-rr chenry    \t       579\t2015-05-11T05:40:42\tmedia       \t/chenry/public/modelsupport/media/Nitrogen-Urea\n",
      "-rr chenry    \t       577\t2015-05-11T05:40:42\tmedia       \t/chenry/public/modelsupport/media/Carbon-D-L-Malic-Acid\n",
      "-rr chenry    \t       578\t2015-05-11T05:40:42\tmedia       \t/chenry/public/modelsupport/media/Carbon-Itaconic-Acid\n",
      "-rr chenry    \t       594\t2015-05-11T05:40:43\tmedia       \t/chenry/public/modelsupport/media/Sulfate-2-Amino-2-deoxy-D-glucon\n",
      "-rr chenry    \t       585\t2015-05-11T05:40:49\tmedia       \t/chenry/public/modelsupport/media/Nitrogen-L-Cysteine\n",
      "-rr chenry    \t       546\t2015-05-11T05:40:49\tmedia       \t/chenry/public/modelsupport/media/Phosphate-D-Mannose-1-Phosphate\n",
      "-rr chenry    \t       586\t2015-05-11T05:40:49\tmedia       \t/chenry/public/modelsupport/media/Carbon-D-Galactonic-Acid-g-Lactone\n",
      "-rr chenry    \t       563\t2015-05-11T05:40:49\tmedia       \t/chenry/public/modelsupport/media/Biolog-C-ile-l-N-ile-l\n",
      "-rr chenry    \t       579\t2015-05-11T05:40:49\tmedia       \t/chenry/public/modelsupport/media/Carbon-Glyoxylic-Acid\n",
      "-rr chenry    \t       691\t2015-05-11T05:40:50\tmedia       \t/chenry/public/modelsupport/media/MR1Aerobic\n",
      "-rr chenry    \t       582\t2015-05-11T05:40:50\tmedia       \t/chenry/public/modelsupport/media/Sulfate-Carbon\n",
      "-rr chenry    \t       587\t2015-05-11T05:40:50\tmedia       \t/chenry/public/modelsupport/media/Sulfate-L-Cysteine-Sulfinic-Acid\n",
      "-rr chenry    \t       577\t2015-05-11T05:40:50\tmedia       \t/chenry/public/modelsupport/media/Carbon-D-Raffinose\n",
      "-rr chenry    \t       587\t2015-05-11T05:40:50\tmedia       \t/chenry/public/modelsupport/media/Sulfate-Mannan\n",
      "-rr chenry    \t       588\t2015-05-11T05:40:51\tmedia       \t/chenry/public/modelsupport/media/Sulfate-Ala-Leu\n",
      "-rr chenry    \t       577\t2015-05-11T05:40:51\tmedia       \t/chenry/public/modelsupport/media/Carbon-Fumaric-Acid\n",
      "-rr chenry    \t       548\t2015-05-11T05:40:52\tmedia       \t/chenry/public/modelsupport/media/Biolog-C-dna-P-dna\n",
      "-rr chenry    \t       578\t2015-05-11T05:40:53\tmedia       \t/chenry/public/modelsupport/media/Carbon-Glycolic-Acid\n",
      "-rr chenry    \t       590\t2015-05-11T05:40:53\tmedia       \t/chenry/public/modelsupport/media/Sulfate-L-Sorbose\n",
      "-rr chenry    \t       576\t2015-05-11T05:40:53\tmedia       \t/chenry/public/modelsupport/media/Carbon-Formic-Acid\n",
      "-rr chenry    \t       592\t2015-05-11T05:40:53\tmedia       \t/chenry/public/modelsupport/media/Sulfate-Methylamine\n",
      "-rr chenry    \t       580\t2015-05-11T05:40:54\tmedia       \t/chenry/public/modelsupport/media/Carbon-D-Glucose-Palsson\n",
      "-rr chenry    \t       577\t2015-05-11T05:40:54\tmedia       \t/chenry/public/modelsupport/media/Carbon-L-Tartaric-Acid\n",
      "-rr chenry    \t       584\t2015-05-11T05:40:54\tmedia       \t/chenry/public/modelsupport/media/Sulfate-Xanthine\n",
      "-rr chenry    \t       594\t2015-05-11T05:40:54\tmedia       \t/chenry/public/modelsupport/media/Biolog-C-lac-N-pro-l\n",
      "-rr chenry    \t       583\t2015-05-11T05:40:54\tmedia       \t/chenry/public/modelsupport/media/Carbon-2-Deoxy-Adenosine\n",
      "-rr chenry    \t       596\t2015-05-11T05:40:55\tmedia       \t/chenry/public/modelsupport/media/Carbon-b-Methyl-D-Galactoside\n",
      "-rr chenry    \t       576\t2015-05-11T05:40:55\tmedia       \t/chenry/public/modelsupport/media/Carbon-Gelatin\n",
      "-rr chenry    \t       587\t2015-05-11T05:40:55\tmedia       \t/chenry/public/modelsupport/media/Nitrogen-L-Tryptophan\n",
      "-rr chenry    \t       590\t2015-05-11T05:40:55\tmedia       \t/chenry/public/modelsupport/media/Sulfate-Succinate\n",
      "-rr chenry    \t      1468\t2015-05-11T05:40:55\tmedia       \t/chenry/public/modelsupport/media/ArgonneNMSMedia\n",
      "-rr chenry    \t       588\t2015-05-11T05:40:56\tmedia       \t/chenry/public/modelsupport/media/Sulfate-Gly-Met\n",
      "-rr chenry    \t       576\t2015-05-11T05:40:56\tmedia       \t/chenry/public/modelsupport/media/Carbon-Dulcitol\n",
      "-rr chenry    \t       577\t2015-05-11T05:40:57\tmedia       \t/chenry/public/modelsupport/media/Carbon-D-Serine\n",
      "-rr chenry    \t       579\t2015-05-11T05:40:58\tmedia       \t/chenry/public/modelsupport/media/Nitrogen-g-Amino-N-Butyric-Acid\n",
      "-rr chenry    \t       591\t2015-05-11T05:40:58\tmedia       \t/chenry/public/modelsupport/media/Sulfate-L-Methionine-Sulfoxide\n",
      "-rr chenry    \t       590\t2015-05-11T05:40:58\tmedia       \t/chenry/public/modelsupport/media/Sulfate-Laminarin\n",
      "-rr chenry    \t       573\t2015-05-11T05:40:58\tmedia       \t/chenry/public/modelsupport/media/Carbon-a-D-Lactose\n",
      "-rr chenry    \t       577\t2015-05-11T05:40:58\tmedia       \t/chenry/public/modelsupport/media/Carbon-L-Lysine\n",
      "-rr chenry    \t       588\t2015-05-11T05:40:59\tmedia       \t/chenry/public/modelsupport/media/Nitrogen-Hydroxylamine\n",
      "-rr chenry    \t       583\t2015-05-11T05:40:59\tmedia       \t/chenry/public/modelsupport/media/Sulfate-Taurocholic-Acid\n",
      "-rr chenry    \t       580\t2015-05-11T05:40:59\tmedia       \t/chenry/public/modelsupport/media/Carbon-L-Arabinose\n",
      "-rr chenry    \t       590\t2015-05-11T05:40:59\tmedia       \t/chenry/public/modelsupport/media/Sulfate-S-Lactate\n",
      "-rr chenry    \t       587\t2015-05-11T05:40:59\tmedia       \t/chenry/public/modelsupport/media/Phosphate-Guanosine-2-3-Cyclic-Monophosphate\n",
      "-rr chenry    \t       573\t2015-05-11T05:41:00\tmedia       \t/chenry/public/modelsupport/media/Biolog-C-acgam-N--acgam\n",
      "-rr chenry    \t       584\t2015-05-11T05:41:00\tmedia       \t/chenry/public/modelsupport/media/Nitrogen-Guanosine\n",
      "-rr chenry    \t       588\t2015-05-11T05:41:01\tmedia       \t/chenry/public/modelsupport/media/Sulfate-Oxalate\n",
      "-rr chenry    \t       585\t2015-05-11T05:41:01\tmedia       \t/chenry/public/modelsupport/media/Phosphate-Trimetaphosphate\n",
      "-rr chenry    \t       589\t2015-05-11T05:41:01\tmedia       \t/chenry/public/modelsupport/media/Sulfate-D-Serine\n",
      "-rr chenry    \t       589\t2015-05-11T05:41:01\tmedia       \t/chenry/public/modelsupport/media/Sulfate-Malonate\n",
      "-rr chenry    \t       584\t2015-05-11T05:41:01\tmedia       \t/chenry/public/modelsupport/media/Nitrogen-L-Leucine\n",
      "-rr chenry    \t       577\t2015-05-11T05:41:02\tmedia       \t/chenry/public/modelsupport/media/Sulfate-Thiosulfate\n",
      "-rr chenry    \t       590\t2015-05-11T05:41:02\tmedia       \t/chenry/public/modelsupport/media/Sulfate-Adenosine\n",
      "-rr chenry    \t       587\t2015-05-11T05:41:02\tmedia       \t/chenry/public/modelsupport/media/Sulfate-N-Acetylneuraminate\n",
      "-rr chenry    \t       588\t2015-05-11T05:41:02\tmedia       \t/chenry/public/modelsupport/media/Sulfate-Formate\n",
      "-rr chenry    \t       587\t2015-05-11T05:41:03\tmedia       \t/chenry/public/modelsupport/media/Phosphate-Phospho-Glycolic-Acid\n",
      "-rr chenry    \t       593\t2015-05-11T05:41:03\tmedia       \t/chenry/public/modelsupport/media/Biolog-C-lac-N-ser-l\n",
      "-rr chenry    \t       589\t2015-05-11T05:41:03\tmedia       \t/chenry/public/modelsupport/media/Sulfate-Tween-80\n",
      "-rr chenry    \t       579\t2015-05-11T05:41:03\tmedia       \t/chenry/public/modelsupport/media/Carbon-D-Fructose\n",
      "-rr chenry    \t       583\t2015-05-11T05:41:03\tmedia       \t/chenry/public/modelsupport/media/Nitrogen-D-Lysine\n",
      "-rr chenry    \t       586\t2015-05-11T05:41:04\tmedia       \t/chenry/public/modelsupport/media/Nitrogen-Ala-Thr\n",
      "-rr chenry    \t       595\t2015-05-11T05:41:04\tmedia       \t/chenry/public/modelsupport/media/Biolog-C-lac-N-arg-l\n",
      "-rr chenry    \t       577\t2015-05-11T05:41:04\tmedia       \t/chenry/public/modelsupport/media/Carbon-L-Lyxose\n",
      "-rr chenry    \t       597\t2015-05-11T05:41:05\tmedia       \t/chenry/public/modelsupport/media/Nitrogen-N-Acetyl-D-Glucosamine\n",
      "-rr chenry    \t       584\t2015-05-11T05:41:05\tmedia       \t/chenry/public/modelsupport/media/Nitrogen-Thymidine\n",
      "-rr chenry    \t       586\t2015-05-11T05:41:05\tmedia       \t/chenry/public/modelsupport/media/Carbon-4-Hydroxy-Benzoic-Acid\n",
      "-rr chenry    \t       578\t2015-05-11T05:41:05\tmedia       \t/chenry/public/modelsupport/media/Carbon-Laminarin\n",
      "-rr chenry    \t       581\t2015-05-11T05:41:05\tmedia       \t/chenry/public/modelsupport/media/Carbon-L-Isoleucine\n",
      "-rr chenry    \t       575\t2015-05-11T05:41:06\tmedia       \t/chenry/public/modelsupport/media/Carbon-N-Acetyl-Neuraminic-Acid\n",
      "-rr chenry    \t        38\t2015-05-11T05:41:06\tmedia       \t/chenry/public/modelsupport/media/Empty\n",
      "-rr chenry    \t       581\t2015-05-11T05:41:06\tmedia       \t/chenry/public/modelsupport/media/Carbon-L-Methionine\n",
      "-rr chenry    \t       584\t2015-05-11T05:41:06\tmedia       \t/chenry/public/modelsupport/media/Phosphate-Phosphocreatine\n",
      "-rr chenry    \t       578\t2015-05-11T05:41:06\tmedia       \t/chenry/public/modelsupport/media/Carbon-D-Galactose\n",
      "-rr chenry    \t       585\t2015-05-11T05:41:07\tmedia       \t/chenry/public/modelsupport/media/Sulfate-Urea\n",
      "-rr chenry    \t       594\t2015-05-11T05:41:07\tmedia       \t/chenry/public/modelsupport/media/Biolog-C-lac-N-leu-l\n",
      "-rr chenry    \t       580\t2015-05-11T05:41:07\tmedia       \t/chenry/public/modelsupport/media/Carbon-L-Histidine\n",
      "-rr chenry    \t       588\t2015-05-11T05:41:07\tmedia       \t/chenry/public/modelsupport/media/Sulfate-sorbate\n",
      "-rr chenry    \t       590\t2015-05-11T05:41:08\tmedia       \t/chenry/public/modelsupport/media/Sulfate-Allantoin\n",
      "-rr chenry    \t       594\t2015-05-11T05:41:08\tmedia       \t/chenry/public/modelsupport/media/Biolog-C-lac-N-ala-l\n",
      "-rr chenry    \t       562\t2015-05-11T05:41:09\tmedia       \t/chenry/public/modelsupport/media/Biolog-C-glu-l-N-glu-l\n",
      "-rr chenry    \t       578\t2015-05-11T05:41:09\tmedia       \t/chenry/public/modelsupport/media/Carbon-Glycyl-L-Aspartic-Acid\n",
      "-rr chenry    \t       596\t2015-05-11T05:41:09\tmedia       \t/chenry/public/modelsupport/media/Carbon-a-Methyl-D-Galactoside\n",
      "-rr chenry    \t       584\t2015-05-11T05:41:09\tmedia       \t/chenry/public/modelsupport/media/Carbon-a-Keto-Valeric-Acid\n",
      "-rr chenry    \t       577\t2015-05-11T05:41:09\tmedia       \t/chenry/public/modelsupport/media/Carbon-L-Fucose\n",
      "-rr chenry    \t       592\t2015-05-11T05:41:10\tmedia       \t/chenry/public/modelsupport/media/Sulfate-D-Arabinose\n",
      "-rr chenry    \t       582\t2015-05-11T05:41:10\tmedia       \t/chenry/public/modelsupport/media/Sulfate-Hypotaurine\n",
      "-rr chenry    \t       583\t2015-05-11T05:41:10\tmedia       \t/chenry/public/modelsupport/media/Nitrogen-Cytosine\n",
      "-rr chenry    \t       581\t2015-05-11T05:41:10\tmedia       \t/chenry/public/modelsupport/media/Sulfate-L-Cysteine\n",
      "-rr chenry    \t       585\t2015-05-11T05:41:10\tmedia       \t/chenry/public/modelsupport/media/Nitrogen-Putrescine\n",
      "-rr chenry    \t       583\t2015-05-11T05:41:11\tmedia       \t/chenry/public/modelsupport/media/Nitrogen-L-Serine\n",
      "-rr chenry    \t       578\t2015-05-11T05:41:11\tmedia       \t/chenry/public/modelsupport/media/Carbon-i-Erythritol\n",
      "-rr chenry    \t       597\t2015-05-11T05:41:11\tmedia       \t/chenry/public/modelsupport/media/Biolog-C-lac-N-asn-l\n",
      "-rr chenry    \t       579\t2015-05-11T05:41:11\tmedia       \t/chenry/public/modelsupport/media/Carbon-m-Inositol\n",
      "-rr chenry    \t       589\t2015-05-11T05:41:11\tmedia       \t/chenry/public/modelsupport/media/Sulfate-Sebacic-acid\n",
      "-rr chenry    \t       589\t2015-05-11T05:41:12\tmedia       \t/chenry/public/modelsupport/media/Sulfate-L-Serine\n",
      "-rr chenry    \t       573\t2015-05-11T05:41:12\tmedia       \t/chenry/public/modelsupport/media/Phosphate-Thymidine-5-Monophosphate\n",
      "-rr chenry    \t       591\t2015-05-11T05:41:13\tmedia       \t/chenry/public/modelsupport/media/Sulfate-L-Arginine\n",
      "-rr chenry    \t       593\t2015-05-11T05:41:13\tmedia       \t/chenry/public/modelsupport/media/Sulfate-L-Asparagine\n",
      "-rr chenry    \t       580\t2015-05-11T05:41:13\tmedia       \t/chenry/public/modelsupport/media/Carbon-D-Aspartic-Acid\n",
      "-rr chenry    \t       579\t2015-05-11T05:41:13\tmedia       \t/chenry/public/modelsupport/media/Carbon-Propionic-Acid\n",
      "-rr chenry    \t       589\t2015-05-11T05:41:13\tmedia       \t/chenry/public/modelsupport/media/Sulfate-D-Valine\n",
      "-rr chenry    \t       578\t2015-05-11T05:41:14\tmedia       \t/chenry/public/modelsupport/media/Carbon-2-Deoxy-D-Ribose\n",
      "-rr chenry    \t       588\t2015-05-11T05:41:14\tmedia       \t/chenry/public/modelsupport/media/Phosphate-O-Phosphoryl-Ethanolamine\n",
      "-rr chenry    \t       599\t2015-05-11T05:41:14\tmedia       \t/chenry/public/modelsupport/media/Nitrogen-N-Acetyl-D-Galactosamine\n",
      "-rr chenry    \t       588\t2015-05-11T05:41:14\tmedia       \t/chenry/public/modelsupport/media/Nitrogen-D-Mannosamine\n",
      "-rr chenry    \t       578\t2015-05-11T05:41:14\tmedia       \t/chenry/public/modelsupport/media/Carbon-Lactulose\n",
      "-rr chenry    \t       592\t2015-05-11T05:41:15\tmedia       \t/chenry/public/modelsupport/media/Sulfate-L-Aspartate\n",
      "-rr chenry    \t       575\t2015-05-11T05:41:15\tmedia       \t/chenry/public/modelsupport/media/Phosphate-Uridine-3-Monophosphate\n",
      "-rr chenry    \t       578\t2015-05-11T05:41:15\tmedia       \t/chenry/public/modelsupport/media/Carbon-Succinic-Acid\n",
      "-rr chenry    \t       587\t2015-05-11T05:41:15\tmedia       \t/chenry/public/modelsupport/media/Nitrogen-D-Asparagine\n",
      "-rr chenry    \t       585\t2015-05-11T05:41:15\tmedia       \t/chenry/public/modelsupport/media/Nitrogen-L-Citrulline\n",
      "-rr chenry    \t       572\t2015-05-11T05:41:16\tmedia       \t/chenry/public/modelsupport/media/Phosphate-Adenosine-5-Monophosphate\n",
      "-rr chenry    \t       589\t2015-05-11T05:41:17\tmedia       \t/chenry/public/modelsupport/media/Sulfate-D-Lysine\n",
      "-rr chenry    \t       590\t2015-05-11T05:41:17\tmedia       \t/chenry/public/modelsupport/media/Sulfate-L-Leucine\n",
      "-rr chenry    \t       596\t2015-05-11T05:41:17\tmedia       \t/chenry/public/modelsupport/media/Biolog-C-lac-N-gln-l\n",
      "-rr chenry    \t       579\t2015-05-11T05:41:17\tmedia       \t/chenry/public/modelsupport/media/Carbon-D-Tagatose\n",
      "-rr chenry    \t       589\t2015-05-11T05:41:18\tmedia       \t/chenry/public/modelsupport/media/Sulfate-Glycogen\n",
      "-rr chenry    \t       589\t2015-05-11T05:41:18\tmedia       \t/chenry/public/modelsupport/media/Sulfate-S-Malate\n",
      "-rr chenry    \t       595\t2015-05-11T05:41:18\tmedia       \t/chenry/public/modelsupport/media/Biolog-C-lac-N-ptrc\n",
      "-rr chenry    \t       584\t2015-05-11T05:41:18\tmedia       \t/chenry/public/modelsupport/media/Carbon-L-Phenylalanine\n",
      "-rr chenry    \t       592\t2015-05-11T05:41:18\tmedia       \t/chenry/public/modelsupport/media/Sulfate-2-Methylmaleate\n",
      "-rr chenry    \t       591\t2015-05-11T05:41:18\tmedia       \t/chenry/public/modelsupport/media/Sulfate-Palatinose\n",
      "-rr chenry    \t       583\t2015-05-11T05:41:19\tmedia       \t/chenry/public/modelsupport/media/Nitrogen-D-Valine\n",
      "-rr chenry    \t       573\t2015-05-11T05:41:19\tmedia       \t/chenry/public/modelsupport/media/Carbon-g-Amino-Butyric-Acid\n",
      "-rr chenry    \t       591\t2015-05-11T05:41:19\tmedia       \t/chenry/public/modelsupport/media/Sulfate-Glyoxylate\n",
      "-rr chenry    \t       582\t2015-05-11T05:41:19\tmedia       \t/chenry/public/modelsupport/media/Nitrogen-Guanine\n",
      "-rr chenry    \t       586\t2015-05-11T05:41:19\tmedia       \t/chenry/public/modelsupport/media/Sulfate-Butane-Sulfonic-Acid\n",
      "-rr chenry    \t       601\t2015-05-11T05:41:20\tmedia       \t/chenry/public/modelsupport/media/Sulfate-b-Methyl-D-Glucoside\n",
      "-rr chenry    \t       576\t2015-05-11T05:41:21\tmedia       \t/chenry/public/modelsupport/media/Carbon-Inosine\n",
      "-rr chenry    \t       583\t2015-05-11T05:41:21\tmedia       \t/chenry/public/modelsupport/media/Phosphate-Phosphoryl-Choline\n",
      "-rr chenry    \t       582\t2015-05-11T05:41:21\tmedia       \t/chenry/public/modelsupport/media/Nitrogen-Ala-Gln\n",
      "-rr chenry    \t       577\t2015-05-11T05:41:21\tmedia       \t/chenry/public/modelsupport/media/Carbon-Sebacic-Acid\n",
      "-rr chenry    \t       580\t2015-05-11T05:41:22\tmedia       \t/chenry/public/modelsupport/media/Carbon-D-Arabinose\n",
      "-rr chenry    \t       584\t2015-05-11T05:41:22\tmedia       \t/chenry/public/modelsupport/media/Nitrogen-D-Alanine\n",
      "-rr chenry    \t       601\t2015-05-11T05:41:22\tmedia       \t/chenry/public/modelsupport/media/Sulfate-N-Acetyl-L-glutamate\n",
      "-rr chenry    \t       591\t2015-05-11T05:41:22\tmedia       \t/chenry/public/modelsupport/media/Nitrogen-e-Amino-N-Caproic-Acid\n",
      "-rr chenry    \t       578\t2015-05-11T05:41:22\tmedia       \t/chenry/public/modelsupport/media/Carbon-L-Lactic-Acid\n",
      "-rr chenry    \t       211\t2015-05-11T05:41:23\tmedia       \t/chenry/public/modelsupport/media/NoBounds\n",
      "-rr chenry    \t       587\t2015-05-11T05:41:23\tmedia       \t/chenry/public/modelsupport/media/Biolog-C-lac-S-tsul\n",
      "-rr chenry    \t       583\t2015-05-11T05:41:23\tmedia       \t/chenry/public/modelsupport/media/Nitrogen-D-Serine\n",
      "-rr chenry    \t       579\t2015-05-11T05:41:23\tmedia       \t/chenry/public/modelsupport/media/Carbon-L-Arginine\n",
      "-rr chenry    \t       582\t2015-05-11T05:41:23\tmedia       \t/chenry/public/modelsupport/media/Nitrogen-Adenine\n",
      "-rr chenry    \t       580\t2015-05-11T05:41:23\tmedia       \t/chenry/public/modelsupport/media/Carbon-D-Glucuronic-Acid\n",
      "-rr chenry    \t       585\t2015-05-11T05:41:24\tmedia       \t/chenry/public/modelsupport/media/Phosphate-Adenosine-2-Monophosphate\n",
      "-rr chenry    \t       590\t2015-05-11T05:41:25\tmedia       \t/chenry/public/modelsupport/media/Carbon-Chondroitin-Sulfate-C\n",
      "-rr chenry    \t       580\t2015-05-11T05:41:25\tmedia       \t/chenry/public/modelsupport/media/Carbon-Maltotriose\n",
      "-rr chenry    \t       620\t2015-05-11T05:41:25\tmedia       \t/chenry/public/modelsupport/media/Carbon-D-Glucose\n",
      "-rr chenry    \t       697\t2015-05-11T05:41:25\tmedia       \t/chenry/public/modelsupport/media/MR1Anaerobic\n",
      "-rr chenry    \t       577\t2015-05-11T05:41:25\tmedia       \t/chenry/public/modelsupport/media/Carbon-L-Serine\n",
      "-rr chenry    \t       575\t2015-05-11T05:41:26\tmedia       \t/chenry/public/modelsupport/media/Phosphate-Adenosine-3-Monophosphate\n",
      "-rr chenry    \t       593\t2015-05-11T05:41:26\tmedia       \t/chenry/public/modelsupport/media/Sulfate-Ethanolamine\n",
      "-rr chenry    \t       571\t2015-05-11T05:41:26\tmedia       \t/chenry/public/modelsupport/media/Phosphate-Guanosine-3-Monophosphate\n",
      "-rr chenry    \t       559\t2015-05-11T05:41:26\tmedia       \t/chenry/public/modelsupport/media/Biolog-C-cytd-N-cytd\n",
      "-rr chenry    \t       584\t2015-05-11T05:41:26\tmedia       \t/chenry/public/modelsupport/media/Carbon-a-Keto-Butyric-Acid\n",
      "-rr chenry    \t       591\t2015-05-11T05:41:27\tmedia       \t/chenry/public/modelsupport/media/Sulfate-Mannitol\n",
      "-rr chenry    \t       588\t2015-05-11T05:41:27\tmedia       \t/chenry/public/modelsupport/media/Sulfate-Inosine\n",
      "-rr chenry    \t       588\t2015-05-11T05:41:27\tmedia       \t/chenry/public/modelsupport/media/Phosphate-Phosphoenol-Pyruvate\n",
      "-rr chenry    \t       590\t2015-05-11T05:41:27\tmedia       \t/chenry/public/modelsupport/media/Nitrogen-Ala-Gly\n",
      "-rr chenry    \t       589\t2015-05-11T05:41:27\tmedia       \t/chenry/public/modelsupport/media/Sulfate-Methane-Sulfonic-Acid\n",
      "-rr chenry    \t       584\t2015-05-11T05:41:28\tmedia       \t/chenry/public/modelsupport/media/Nitrogen-L-Ornithine\n",
      "-rr chenry    \t       586\t2015-05-11T05:41:28\tmedia       \t/chenry/public/modelsupport/media/Nitrogen-L-Histidine\n",
      "-rr chenry    \t       587\t2015-05-11T05:41:28\tmedia       \t/chenry/public/modelsupport/media/Phosphate-Uridine-2-3-Cyclic-Monophosphate\n",
      "-rr chenry    \t       584\t2015-05-11T05:41:29\tmedia       \t/chenry/public/modelsupport/media/Phosphate-Phospho-L-Arginine\n",
      "-rr chenry    \t       556\t2015-05-11T05:41:29\tmedia       \t/chenry/public/modelsupport/media/Biolog-C-lac-S-so3\n",
      "-rr chenry    \t       573\t2015-05-11T05:41:29\tmedia       \t/chenry/public/modelsupport/media/Carbon-D-Trehalose\n",
      "-rr chenry    \t       582\t2015-05-11T05:41:30\tmedia       \t/chenry/public/modelsupport/media/Nitrogen-Gly-Met\n",
      "-rr chenry    \t       574\t2015-05-11T05:41:30\tmedia       \t/chenry/public/modelsupport/media/Carbon-Arbutin\n",
      "-rr chenry    \t       588\t2015-05-11T05:41:30\tmedia       \t/chenry/public/modelsupport/media/Sulfate-Gly-Gln\n",
      "-rr chenry    \t       584\t2015-05-11T05:41:30\tmedia       \t/chenry/public/modelsupport/media/Carbon-1-2-Propanediol\n",
      "-rr chenry    \t       579\t2015-05-11T05:41:30\tmedia       \t/chenry/public/modelsupport/media/Sulfate-Thiourea\n",
      "-rr chenry    \t       586\t2015-05-11T05:41:31\tmedia       \t/chenry/public/modelsupport/media/Nitrogen-Methylamine\n",
      "-rr chenry    \t       577\t2015-05-11T05:41:31\tmedia       \t/chenry/public/modelsupport/media/Carbon-Malonic-Acid\n",
      "-rr chenry    \t       593\t2015-05-11T05:41:31\tmedia       \t/chenry/public/modelsupport/media/Sulfate-L-Homoserine\n",
      "-rr chenry    \t       576\t2015-05-11T05:41:32\tmedia       \t/chenry/public/modelsupport/media/Carbon-Adonitol\n",
      "-rr chenry    \t       591\t2015-05-11T05:41:32\tmedia       \t/chenry/public/modelsupport/media/Sulfate-Propanoate\n",
      "-rr chenry    \t       596\t2015-05-11T05:41:33\tmedia       \t/chenry/public/modelsupport/media/Biolog-C-lac-N-thr-l\n",
      "-rr chenry    \t       575\t2015-05-11T05:41:33\tmedia       \t/chenry/public/modelsupport/media/Carbon-Inulin\n",
      "-rr chenry    \t       584\t2015-05-11T05:41:33\tmedia       \t/chenry/public/modelsupport/media/Carbon-D-L-Citramalic-Acid\n",
      "-rr chenry    \t       591\t2015-05-11T05:41:34\tmedia       \t/chenry/public/modelsupport/media/Sulfate-D-Tagatose\n",
      "-rr chenry    \t       591\t2015-05-11T05:41:34\tmedia       \t/chenry/public/modelsupport/media/Sulfate-L-Citrulline\n",
      "-rr chenry    \t       577\t2015-05-11T05:41:34\tmedia       \t/chenry/public/modelsupport/media/Carbon-L-Valine\n",
      "-rr chenry    \t       581\t2015-05-11T05:41:34\tmedia       \t/chenry/public/modelsupport/media/Carbon-L-Homoserine\n",
      "-rr chenry    \t       575\t2015-05-11T05:41:34\tmedia       \t/chenry/public/modelsupport/media/Carbon-2-Hydroxy-Benzoic-Acid\n",
      "-rr chenry    \t       577\t2015-05-11T05:41:35\tmedia       \t/chenry/public/modelsupport/media/Carbon-D-Sorbitol\n",
      "-rr chenry    \t      3649\t2015-05-11T05:41:35\tmedia       \t/chenry/public/modelsupport/media/SP4\n",
      "-rr chenry    \t       577\t2015-05-11T05:41:35\tmedia       \t/chenry/public/modelsupport/media/Carbon-Tween-20\n",
      "-rr chenry    \t       591\t2015-05-11T05:41:35\tmedia       \t/chenry/public/modelsupport/media/Sulfate-Ethylamine\n",
      "-rr chenry    \t       588\t2015-05-11T05:41:35\tmedia       \t/chenry/public/modelsupport/media/Sulfate-Salicin\n",
      "-rr chenry    \t       586\t2015-05-11T05:41:36\tmedia       \t/chenry/public/modelsupport/media/Phosphate-O-Phospho-L-Tyrosine\n",
      "-rr chenry    \t       581\t2015-05-11T05:41:36\tmedia       \t/chenry/public/modelsupport/media/Carbon-Ethanolamine\n",
      "-rr chenry    \t       585\t2015-05-11T05:41:36\tmedia       \t/chenry/public/modelsupport/media/Nitrogen-Xanthosine\n",
      "-rr chenry    \t       589\t2015-05-11T05:41:36\tmedia       \t/chenry/public/modelsupport/media/Sulfate-Fumarate\n",
      "-rr chenry    \t       587\t2015-05-11T05:41:36\tmedia       \t/chenry/public/modelsupport/media/Sulfate-2-1-beta-D-Fructosyl-n\n",
      "-rr chenry    \t       592\t2015-05-11T05:41:36\tmedia       \t/chenry/public/modelsupport/media/Sulfate-L-Threonine\n",
      "-rr chenry    \t       579\t2015-05-11T05:41:37\tmedia       \t/chenry/public/modelsupport/media/Carbon-Putrescine\n",
      "-rr chenry    \t       598\t2015-05-11T05:41:37\tmedia       \t/chenry/public/modelsupport/media/Phosphate-2-Deoxy-D-Glucose-6-Phosphate\n",
      "-rr chenry    \t       580\t2015-05-11T05:41:37\tmedia       \t/chenry/public/modelsupport/media/Carbon-D-Threonine\n",
      "-rr chenry    \t       575\t2015-05-11T05:41:37\tmedia       \t/chenry/public/modelsupport/media/Carbon-Pectin\n",
      "-rr chenry    \t       240\t2015-05-11T05:41:37\tmedia       \t/chenry/public/modelsupport/media/MethanogenMedia\n",
      "-rr chenry    \t       576\t2015-05-11T05:41:38\tmedia       \t/chenry/public/modelsupport/media/Carbon-Glycine\n",
      "-rr chenry    \t       602\t2015-05-11T05:41:38\tmedia       \t/chenry/public/modelsupport/media/Sulfate-D-Glucose-6-phosphate\n",
      "-rr chenry    \t       588\t2015-05-11T05:41:38\tmedia       \t/chenry/public/modelsupport/media/Sulfate-Nitrate\n",
      "-rr chenry    \t       580\t2015-05-11T05:41:38\tmedia       \t/chenry/public/modelsupport/media/Carbon-Gentiobiose\n",
      "-rr chenry    \t       578\t2015-05-11T05:41:39\tmedia       \t/chenry/public/modelsupport/media/Carbon-L-Sorbose\n",
      "-rr chenry    \t       578\t2015-05-11T05:41:39\tmedia       \t/chenry/public/modelsupport/media/Carbon-Acetamide\n",
      "-rr chenry    \t       581\t2015-05-11T05:41:39\tmedia       \t/chenry/public/modelsupport/media/Sulfate-D-Cysteine\n",
      "-rr chenry    \t       520\t2015-05-11T05:41:39\tmedia       \t/chenry/public/modelsupport/media/Biolog-C-dna-N-dna-P-dna\n",
      "-rr chenry    \t       577\t2015-05-11T05:41:39\tmedia       \t/chenry/public/modelsupport/media/Carbon-Glycerol\n",
      "-rr chenry    \t       596\t2015-05-11T05:41:40\tmedia       \t/chenry/public/modelsupport/media/Sulfate-D-Galacturonate\n",
      "-rr chenry    \t       590\t2015-05-11T05:41:40\tmedia       \t/chenry/public/modelsupport/media/Sulfate-Itaconate\n",
      "-rr chenry    \t       578\t2015-05-11T05:41:40\tmedia       \t/chenry/public/modelsupport/media/Carbon-a-D-Glucose\n",
      "-rr chenry    \t       582\t2015-05-11T05:41:41\tmedia       \t/chenry/public/modelsupport/media/Nitrogen-Thymine\n",
      "-rr chenry    \t       585\t2015-05-11T05:41:41\tmedia       \t/chenry/public/modelsupport/media/Phosphate-Cytidine-3-5-Cyclic-Monophosphate\n",
      "-rr chenry    \t       591\t2015-05-11T05:41:42\tmedia       \t/chenry/public/modelsupport/media/Sulfate-L-Tyrosine\n",
      "-rr chenry    \t       584\t2015-05-11T05:41:42\tmedia       \t/chenry/public/modelsupport/media/Carbon-Oxalomalic-Acid\n",
      "-rr chenry    \t       586\t2015-05-11T05:41:42\tmedia       \t/chenry/public/modelsupport/media/Nitrogen-Met-Ala\n",
      "-rr chenry    \t       589\t2015-05-11T05:41:42\tmedia       \t/chenry/public/modelsupport/media/Carbon-b-Hydroxy-Butyric-Acid\n",
      "-rr chenry    \t       587\t2015-05-11T05:41:43\tmedia       \t/chenry/public/modelsupport/media/Sulfate-N-Acetyl-L-Cysteine\n",
      "-rr chenry    \t       596\t2015-05-11T05:41:43\tmedia       \t/chenry/public/modelsupport/media/Biolog-C-lac-N-asp-l\n",
      "-rr chenry    \t       589\t2015-05-11T05:41:43\tmedia       \t/chenry/public/modelsupport/media/Phosphate-D-L-a-Glycerol-Phosphate\n",
      "-rr chenry    \t       578\t2015-05-11T05:41:43\tmedia       \t/chenry/public/modelsupport/media/Carbon-Amygdalin\n",
      "-rr chenry    \t       577\t2015-05-11T05:41:43\tmedia       \t/chenry/public/modelsupport/media/Carbon-D-Tartaric-Acid\n",
      "-rr chenry    \t       587\t2015-05-11T05:41:44\tmedia       \t/chenry/public/modelsupport/media/Sulfate-Pectin\n",
      "-rr chenry    \t       578\t2015-05-11T05:41:45\tmedia       \t/chenry/public/modelsupport/media/Carbon-L-Ornithine\n",
      "-rr chenry    \t       587\t2015-05-11T05:41:45\tmedia       \t/chenry/public/modelsupport/media/Nitrogen-L-Homoserine\n",
      "-rr chenry    \t       588\t2015-05-11T05:41:45\tmedia       \t/chenry/public/modelsupport/media/Sulfate-Glycine\n",
      "-rr chenry    \t       594\t2015-05-11T05:41:45\tmedia       \t/chenry/public/modelsupport/media/Nitrogen-d-Amino-N-Valeric-Acid\n",
      "-rr chenry    \t       585\t2015-05-11T05:41:45\tmedia       \t/chenry/public/modelsupport/media/Sulfate-D-Glucosamine\n",
      "-rr chenry    \t       593\t2015-05-11T05:41:46\tmedia       \t/chenry/public/modelsupport/media/Sulfate-5-Oxoproline\n",
      "-rr chenry    \t       592\t2015-05-11T05:41:46\tmedia       \t/chenry/public/modelsupport/media/Phosphate-D-Glucosamine-6-Phosphate\n",
      "-rr chenry    \t       562\t2015-05-11T05:41:46\tmedia       \t/chenry/public/modelsupport/media/Biolog-C-thr-l-N-thr-l\n",
      "-rr chenry    \t       593\t2015-05-11T05:41:46\tmedia       \t/chenry/public/modelsupport/media/Sulfate-L-Tryptophan\n",
      "-rr chenry    \t       581\t2015-05-11T05:41:46\tmedia       \t/chenry/public/modelsupport/media/Carbon-Acetoacetic-Acid\n",
      "-rr chenry    \t       590\t2015-05-11T05:41:47\tmedia       \t/chenry/public/modelsupport/media/Carbon-Chondroitin\n",
      "-rr chenry    \t       590\t2015-05-11T05:41:47\tmedia       \t/chenry/public/modelsupport/media/Sulfate-Formamide\n",
      "-rr chenry    \t       583\t2015-05-11T05:41:47\tmedia       \t/chenry/public/modelsupport/media/Nitrogen-Agmatine\n",
      "-rr seaver    \t       438\t2016-01-29T22:10:40\tmedia       \t/chenry/public/modelsupport/media/PlantHeterotrophicMedia\n",
      "-rr seaver    \t       438\t2016-01-30T06:24:33\tmedia       \t/chenry/public/modelsupport/media/PlantAutotrophicMedia\n",
      "-rr seaver    \t       354\t2016-08-03T04:25:27\tmedia       \t/chenry/public/modelsupport/media/PlantSandboxMedia\n"
     ]
    }
   ],
   "source": [
    "modelseed.list_workspace_objects('/chenry/public/modelsupport/media', print_output=True)"
   ]
  },
  {
   "cell_type": "markdown",
   "metadata": {},
   "source": [
    "Get the metadata for an object in the workspace with `get_workspace_object_metadata()`. The metadata for an object can include additional information about the contents or attributes of the object."
   ]
  },
  {
   "cell_type": "code",
   "execution_count": 17,
   "metadata": {
    "collapsed": false
   },
   "outputs": [
    {
     "data": {
      "text/plain": [
       "[u'GramNegative.modeltemplate',\n",
       " u'modeltemplate',\n",
       " u'/chenry/public/modelsupport/templates/',\n",
       " u'2016-11-16T06:52:49',\n",
       " u'49A0E23A-ABC9-11E6-87C4-6AEA682E0674',\n",
       " u'chenry',\n",
       " 26559014,\n",
       " {},\n",
       " {u'is_folder': 0},\n",
       " u'r',\n",
       " u'r',\n",
       " u'']"
      ]
     },
     "execution_count": 17,
     "metadata": {},
     "output_type": "execute_result"
    }
   ],
   "source": [
    "modelseed.get_workspace_object_meta('/chenry/public/modelsupport/templates/GramNegative.modeltemplate')"
   ]
  },
  {
   "cell_type": "markdown",
   "metadata": {},
   "source": [
    "### Working with PATRIC genomes\n",
    "\n",
    "Get summary information for a PATRIC genome with `get_genome_summary()`. Note that information available in the summary can be different for different genomes depending on the source of the genome"
   ]
  },
  {
   "cell_type": "code",
   "execution_count": 18,
   "metadata": {
    "collapsed": false
   },
   "outputs": [
    {
     "data": {
      "text/plain": [
       "{u'_version_': 1552608979212828700,\n",
       " u'assembly_accession': u'GCA_000011065.1',\n",
       " u'bioproject_accession': u'PRJNA399',\n",
       " u'biosample_accession': u'SAMN02604314',\n",
       " u'brc1_cds': 0,\n",
       " u'cell_shape': u'Rod',\n",
       " u'chromosomes': 1,\n",
       " u'class': u'Bacteroidia',\n",
       " u'comments': [u'Bacteroides thetaiotaomicron strain VPI-5482. This is the type strain for this organism and was isolated from the feces of a healthy adult.'],\n",
       " u'common_name': u'Bacteroides_thetaiotaomicron_VPI-5482',\n",
       " u'completion_date': u'2003-03-29T00:00:00Z',\n",
       " u'contigs': 0,\n",
       " u'date_inserted': u'2014-12-08T22:10:24.729Z',\n",
       " u'date_modified': u'2015-03-16T03:17:09.594Z',\n",
       " u'disease': [u'Peritonitis'],\n",
       " u'document_type': u'genome',\n",
       " u'family': u'Bacteroidaceae',\n",
       " u'gc_content': 42.9,\n",
       " u'genbank_accessions': u'AE015928,AY171301',\n",
       " u'genome_id': u'226186.12',\n",
       " u'genome_length': 6293399,\n",
       " u'genome_name': u'Bacteroides thetaiotaomicron VPI-5482',\n",
       " u'genome_status': u'Complete',\n",
       " u'genus': u'Bacteroides',\n",
       " u'gram_stain': u'-',\n",
       " u'habitat': u'Host-associated',\n",
       " u'isolation_comments': u'isolated from the feces of a healthy adult',\n",
       " u'isolation_source': u'the feces of a healthy adult',\n",
       " u'kingdom': u'Bacteria',\n",
       " u'ncbi_project_id': u'399',\n",
       " u'optimal_temperature': u'-',\n",
       " u'order': u'Bacteroidales',\n",
       " u'organism_name': u'Bacteroides thetaiotaomicron VPI-5482',\n",
       " u'owner': u'PATRIC',\n",
       " u'oxygen_requirement': u'Anaerobic',\n",
       " u'p2_genome_id': 70966,\n",
       " u'patric_cds': 4872,\n",
       " u'phylum': u'Bacteroidetes',\n",
       " u'plasmids': 1,\n",
       " u'public': True,\n",
       " u'publication': u'12663928,19321416',\n",
       " u'reference_genome': u'Reference',\n",
       " u'refseq_accessions': u'NC_004663,NC_004703',\n",
       " u'refseq_cds': 4816,\n",
       " u'refseq_project_id': u'62913',\n",
       " u'sequences': 2,\n",
       " u'sequencing_centers': u'Genome Sequencing Center (GSC) at Washington University (WashU) School of Medicine',\n",
       " u'sequencing_status': u'complete',\n",
       " u'species': u'Bacteroides thetaiotaomicron',\n",
       " u'strain': u'VPI-5482',\n",
       " u'taxon_id': 226186,\n",
       " u'taxon_lineage_ids': [u'131567',\n",
       "  u'2',\n",
       "  u'1783270',\n",
       "  u'68336',\n",
       "  u'976',\n",
       "  u'200643',\n",
       "  u'171549',\n",
       "  u'815',\n",
       "  u'816',\n",
       "  u'818',\n",
       "  u'226186'],\n",
       " u'taxon_lineage_names': [u'cellular organisms',\n",
       "  u'Bacteria',\n",
       "  u'FCB group',\n",
       "  u'Bacteroidetes/Chlorobi group',\n",
       "  u'Bacteroidetes',\n",
       "  u'Bacteroidia',\n",
       "  u'Bacteroidales',\n",
       "  u'Bacteroidaceae',\n",
       "  u'Bacteroides',\n",
       "  u'Bacteroides thetaiotaomicron',\n",
       "  u'Bacteroides thetaiotaomicron VPI-5482'],\n",
       " u'temperature_range': u'Mesophilic',\n",
       " u'type_strain': u'Yes'}"
      ]
     },
     "execution_count": 18,
     "metadata": {},
     "output_type": "execute_result"
    }
   ],
   "source": [
    "modelseed.get_genome_summary('226186.12')"
   ]
  },
  {
   "cell_type": "markdown",
   "metadata": {},
   "source": [
    "Get the features for an annotated genome with `get_genome_features()`. Both PATRIC and RefSeq annotations are available."
   ]
  },
  {
   "cell_type": "code",
   "execution_count": 19,
   "metadata": {
    "collapsed": false
   },
   "outputs": [
    {
     "data": {
      "text/plain": [
       "{u'accession': u'NC_004663',\n",
       " u'alt_locus_tag': u'VBIBacThe70966_r045',\n",
       " u'annotation': u'PATRIC',\n",
       " u'date_inserted': u'2014-10-21T00:21:20.047Z',\n",
       " u'date_modified': u'2014-10-22T09:01:13.537Z',\n",
       " u'end': 3034136,\n",
       " u'feature_id': u'PATRIC.226186.12.NC_004663.rRNA.3031256.3034136.rev',\n",
       " u'feature_type': u'rRNA',\n",
       " u'gene_id': 0,\n",
       " u'genome_id': u'226186.12',\n",
       " u'genome_name': u'Bacteroides thetaiotaomicron VPI-5482',\n",
       " u'gi': 0,\n",
       " u'location': u'complement(3031256..3034136)',\n",
       " u'na_length': 2881,\n",
       " u'na_sequence': u'aagaaagtaagcaagggcgcatggcggatgccttggctctcggaggcgatgaaggacgtgataagctgcgataagctctgggtaggtgcaaataacctttgatccagagatttccgaatgggacaacccggcattctgaaggaatgtcatccatctttgatggaagctaacgcagggaactgaaacatcttagtacctgtaggaaaagaaaataataatgattcccctagtagtggcgagcgaacggggaatagcccaaaccacccatgttacggcatgtgtggggttgtaggaccacgatgtcgcaagacatttgatgagtagaatcctctggaaagttgaaccatagacggtgatagtccggtatacgaagtcaaattaagcgtagtggtatcctgagtagcgcgggacacgagaaatcttgcgtgaatctgccgggaccatccggtaaggctaaatactcccgagagaccgatagcgaaccagtactgtgaaggaaaggtgaaaagcacttcgaatagaagagtgaaatagtccctgaaaccgtgcgcctacaagcggtcggagctgcttaagcagtgacggcgtgccttttgcataatgaacctacgagttactttttccggcaaggttaagcatcttgagatgtgcagccgaagcgaaagcgagtctgaacagggcgtcgagtcggaaggagtagacgcgaaaccaagtgatctacccttggtcaggttgaaggttaggtaacactaactggaggaccgaaccgataagcgttgaaaagcttccggatgaactgagggtgggggtgaaaggctaatcaaacttggagatagctcgtactccccgaaatgcatttaggtgcagccttgtgagttactaatgtgaggtagagcgactgataagatgcgagggcttcaccgcctatcaagtcttgataaactccgaatgcgcattagttctatcacaggagtgagggcatgggtgctaaggtccatgtcctaaaggagaagaatccagaccatcagctaaggtccccaaataaacactaagttgaactaacgaagtcagattgctaagacagctaggatgttggcttggaagcagccattcatttaaagagtgcgtaacagctcactagtcgaggagtttggcgtggataataatcgggcattaagtgttttaccgaagctatgggatcagtaatgatcggtaggggagcattccactctgcgtcgaaggtgaagcgtgagctttgctggagcgtgtggaaaagcaaatgtaggtataagtaacgataaagggggtgagaaaccccctcgccgaaagactaaggtttcctgatcaacgctaatcggatcagggttagtcgggtcctaaggctcagccgaacggtgaggccgatggcagaacaggttaatattcctgtactaccttaaggagtgacgtggagacggagcagtgacagcgccgcggactgacggaatagtccgttgaagggtgtagatgttgatcatcccaggcaaatccgggatgagagtcgaacctgatagtatggagcgttcttcggaacaatccaatagtgcgtgtaagcatactcccaagaaaatccgctaaacttaatccttaaggtacccgtaccgcaaacggacacacgtagtcgggttgaatatactaaggcgcttgagtgattcacggttaaggaactaggcaaattgaccctgtaacttcgggataaagggtcccaacgagagttgggcgcagagaataggtccaggcaactgtttaacaaaaacacagggctgtgccaaattgaaagattacgtatacagcctgacacctgcccggtgctggaaggttaagaggagatgtcatcgcaagagaagcattgaattgaagccccagtaaacggcggccgtaactataacggtcctaaggtagcgaaattccttgtcgggtaagttccgacctgcacgaatggtgtaatgatctggacactgtctcaaccgtgagctcagtgaaattgtagtatcggtgaagatgccgattacccgcgatgggacgaaaagaccccgtgaacctttactatagcttaacattgaatttgggtaattgatgtgtaggataggccggagacttcgaagcaggtacgccagtatttgtggagtcgctgttgaaatacggccctttgattatttgagttctaactcgtggtacgaggacactgtttggtgggtagtttgactggggtggtcgcctccaaaatagtaacggaggcttctaaaggtgccctcaggacgattggtaaccgtccgtagagtgtaatggcataagggcgcttgactgggagactaacaagtcgatcaggtaggaaactagagcatagtgatccggtgtttccgtatggaagggacatcgctcaaaggataaaaggtactccggggataacaggctgatccctcccaagagctcatatcgacggaggggtttggcacctcgatgtcggctcgtcacatcctggggctggagaaggtcccaagggttgggctgttcgcccattaaagtggcacgcgagctgggttcagaacgtcgtgagacagttcggtctctatctatcgtgggcgtatgaaatttgcgtggctctgacactagtacgagaggaccgtgttggactgaccgctggtttaccagttgtgccgccaggtgcattgctgggtatctaagtcgggattggataagtgctgaaagcatctaagtacgaagccagccacaagattagatttcttagggtcgttaaagacgatgacgttgataggatgcaggtgtaaaggtggtaacatcaaagccgagcattactaattgcccgttcactttctttcgg',\n",
       " u'owner': u'PATRIC',\n",
       " u'p2_feature_id': 21059811,\n",
       " u'patric_id': u'fig|226186.12.rna.45',\n",
       " u'pos_group': u'NC_004663:3031256:-',\n",
       " u'product': u'Large Subunit Ribosomal RNA; lsuRNA; LSU rRNA',\n",
       " u'public': True,\n",
       " u'segments': [u'3031256..3034136'],\n",
       " u'sequence_id': u'NC_004663',\n",
       " u'start': 3031256,\n",
       " u'strand': u'-',\n",
       " u'taxon_id': 226186}"
      ]
     },
     "execution_count": 19,
     "metadata": {},
     "output_type": "execute_result"
    }
   ],
   "source": [
    "features = modelseed.get_genome_features('226186.12', annotation='PATRIC')\n",
    "features[0]"
   ]
  }
 ],
 "metadata": {
  "kernelspec": {
   "display_name": "Python 2",
   "language": "python",
   "name": "python2"
  },
  "language_info": {
   "codemirror_mode": {
    "name": "ipython",
    "version": 2
   },
   "file_extension": ".py",
   "mimetype": "text/x-python",
   "name": "python",
   "nbconvert_exporter": "python",
   "pygments_lexer": "ipython2",
   "version": "2.7.11"
  }
 },
 "nbformat": 4,
 "nbformat_minor": 1
}
