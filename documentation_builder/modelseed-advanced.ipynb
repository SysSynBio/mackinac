{
 "cells": [
  {
   "cell_type": "markdown",
   "metadata": {
    "collapsed": true
   },
   "source": [
    "## Managing your ModelSEED models\n",
    "\n",
    "ModelSEED for cobrapy provides functions for managing and working with your ModelSEED models. Before running this notebook, make sure you have reconstructed, gap filled, and optimized a model with ID \"226186.12\" (see modelseed notebook) or substitute an ID for a model that exists in your workspace."
   ]
  },
  {
   "cell_type": "code",
   "execution_count": 1,
   "metadata": {
    "collapsed": true
   },
   "outputs": [],
   "source": [
    "import modelseed"
   ]
  },
  {
   "cell_type": "markdown",
   "metadata": {},
   "source": [
    "Get a list of all of the ModelSEED models stored in your workspace with `list_modelseed_models()`. Remove the `print_output` parameter to return a list of model statistics about your models."
   ]
  },
  {
   "cell_type": "code",
   "execution_count": 2,
   "metadata": {
    "collapsed": false
   },
   "outputs": [
    {
     "name": "stdout",
     "output_type": "stream",
     "text": [
      "Model /mmundy@patricbrc.org/modelseed/226186.12 for organism Bacteroides thetaiotaomicron VPI-5482 with 1129 reactions and 1253 metabolites\n",
      "Model /mmundy@patricbrc.org/modelseed/264199.4 for organism Streptococcus thermophilus LMG 18311 with 824 reactions and 878 metabolites\n",
      "Model /mmundy@patricbrc.org/modelseed/742823.3 for organism Sutterella wadsworthensis 2_1_59BFAA with 985 reactions and 1161 metabolites\n",
      "Model /mmundy@patricbrc.org/modelseed/717962.3 for organism Coprococcus catus GD/7 with 1098 reactions and 1253 metabolites\n",
      "Model /mmundy@patricbrc.org/modelseed/1156417.3 for organism Caloranaerobacter azorensis H53214 with 836 reactions and 1072 metabolites\n",
      "Model /mmundy@patricbrc.org/modelseed/657315.3 for organism Roseburia intestinalis M50/1 with 1127 reactions and 1305 metabolites\n",
      "Model /mmundy@patricbrc.org/modelseed/29354.3 for organism [Clostridium] celerecrescens strain 152B with 1135 reactions and 1304 metabolites\n",
      "Model /mmundy@patricbrc.org/modelseed/180332.3 for organism Robinsoniella peoriensis WT with 1133 reactions and 1321 metabolites\n",
      "Model /mmundy@patricbrc.org/modelseed/484018.6 for organism Bacteroides plebeius DSM 17135 with 993 reactions and 1181 metabolites\n",
      "Model /mmundy@patricbrc.org/modelseed/1367212.3 for organism Clostridium cellulosi CS-4-4 with 1029 reactions and 1191 metabolites\n",
      "Model /mmundy@patricbrc.org/modelseed/1469948.3 for organism Clostridium sp. KNHs209 with 999 reactions and 1235 metabolites\n",
      "Model /mmundy@patricbrc.org/modelseed/1000569.4 for organism Megasphaera sp. UPII 135-E with 710 reactions and 944 metabolites\n",
      "Model /mmundy@patricbrc.org/modelseed/1165092.3 for organism Lachnospiraceae bacterium JC7 with 989 reactions and 1181 metabolites\n",
      "Model /mmundy@patricbrc.org/modelseed/1414720.3 for organism Clostridium sp. JCC with 1118 reactions and 1328 metabolites\n",
      "Model /mmundy@patricbrc.org/modelseed/742726.3 for organism Barnesiella intestinihominis YIT 11860 with 923 reactions and 1110 metabolites\n",
      "Model /mmundy@patricbrc.org/modelseed/1235835.3 for organism Anaerotruncus sp. G3(2012) with 859 reactions and 1110 metabolites\n",
      "Model /mmundy@patricbrc.org/modelseed/1297617.3 for organism Intestinimonas butyriciproducens ER1 with 982 reactions and 1228 metabolites\n",
      "Model /mmundy@patricbrc.org/modelseed/1313290.3 for organism Erysipelothrix rhusiopathiae SY1027 with 682 reactions and 860 metabolites\n",
      "Model /mmundy@patricbrc.org/modelseed/525362.3 for organism Lactobacillus ruminis ATCC 25644 with 908 reactions and 1111 metabolites\n",
      "Model /mmundy@patricbrc.org/modelseed/557855.3 for organism Mitsuaria sp. H24L5A with 1267 reactions and 1451 metabolites\n"
     ]
    }
   ],
   "source": [
    "modelseed.list_modelseed_models(print_output=True)"
   ]
  },
  {
   "cell_type": "markdown",
   "metadata": {},
   "source": [
    "Get current statistics about a ModelSEED model with `get_modelseed_model_stats()`. The returned statistics provide a summary of the model."
   ]
  },
  {
   "cell_type": "code",
   "execution_count": 3,
   "metadata": {
    "collapsed": false
   },
   "outputs": [
    {
     "data": {
      "text/plain": [
       "{'fba_count': 0,\n",
       " 'gapfilled_reactions': 0,\n",
       " 'gene_associated_reactions': 1034,\n",
       " 'genome_ref': u'/mmundy@patricbrc.org/modelseed/226186.12/genome',\n",
       " 'id': u'226186.12',\n",
       " 'integrated_gapfills': 1,\n",
       " 'name': u'Bacteroides thetaiotaomicron VPI-5482',\n",
       " 'num_biomass_compounds': 85,\n",
       " 'num_biomasses': 1,\n",
       " 'num_compartments': 2,\n",
       " 'num_compounds': 1253,\n",
       " 'num_genes': 739,\n",
       " 'num_reactions': 1129,\n",
       " 'ref': u'/mmundy@patricbrc.org/modelseed/226186.12',\n",
       " 'rundate': u'2017-01-19T21:51:12',\n",
       " 'source': u'ModelSEED',\n",
       " 'source_id': u'226186.12',\n",
       " 'template_ref': u'/chenry/public/modelsupport/templates/GramNegative.modeltemplate',\n",
       " 'type': u'GenomeScale',\n",
       " 'unintegrated_gapfills': 0}"
      ]
     },
     "execution_count": 3,
     "metadata": {},
     "output_type": "execute_result"
    }
   ],
   "source": [
    "modelseed.get_modelseed_model_stats('226186.12')"
   ]
  },
  {
   "cell_type": "markdown",
   "metadata": {},
   "source": [
    "Get the details of the ModelSEED gap fill solutions with `get_modelseed_gapfill_solutions()`. There can be multiple gap fill solutions for a model and the returned list is sorted from newest to oldest."
   ]
  },
  {
   "cell_type": "code",
   "execution_count": 4,
   "metadata": {
    "collapsed": false
   },
   "outputs": [],
   "source": [
    "gf_solutions = modelseed.get_modelseed_gapfill_solutions('226186.12')"
   ]
  },
  {
   "cell_type": "markdown",
   "metadata": {
    "collapsed": true
   },
   "source": [
    "Get the number of reactions in a gap fill solution by checking the length of the `reactions` key in a solution."
   ]
  },
  {
   "cell_type": "code",
   "execution_count": 5,
   "metadata": {
    "collapsed": false
   },
   "outputs": [
    {
     "data": {
      "text/plain": [
       "97"
      ]
     },
     "execution_count": 5,
     "metadata": {},
     "output_type": "execute_result"
    }
   ],
   "source": [
    "len(gf_solutions[0]['reactions'])"
   ]
  },
  {
   "cell_type": "markdown",
   "metadata": {},
   "source": [
    "The `reactions` key is a dictionary keyed by reaction ID with details on the reactions added to the model."
   ]
  },
  {
   "cell_type": "code",
   "execution_count": 6,
   "metadata": {
    "collapsed": false
   },
   "outputs": [
    {
     "data": {
      "text/plain": [
       "{u'compartment': u'c0',\n",
       " u'direction': u'<',\n",
       " u'reaction': u'~/fbamodel/template/reactions/id/rxn00086_c'}"
      ]
     },
     "execution_count": 6,
     "metadata": {},
     "output_type": "execute_result"
    }
   ],
   "source": [
    "gf_solutions[0]['reactions']['rxn00086_c0']"
   ]
  },
  {
   "cell_type": "markdown",
   "metadata": {},
   "source": [
    "Get the details of a ModelSEED flux balance analysis solution with `get_modelseed_fba_solutions()`. There can be multiple fba solutions for a model and the returned list is sorted from newest to oldest."
   ]
  },
  {
   "cell_type": "code",
   "execution_count": 7,
   "metadata": {
    "collapsed": false
   },
   "outputs": [],
   "source": [
    "fba_solutions = modelseed.get_modelseed_fba_solutions('226186.12')"
   ]
  },
  {
   "cell_type": "markdown",
   "metadata": {},
   "source": [
    "In an fba solution, the `exchanges` key is a dictionary keyed by metabolite ID of the metabolites that can be exchanged with the boundary. Metabolites with a positive flux are consumed and metabolites with a negative flux are produced."
   ]
  },
  {
   "cell_type": "code",
   "execution_count": 8,
   "metadata": {
    "collapsed": false
   },
   "outputs": [
    {
     "data": {
      "text/plain": [
       "{'lower_bound': -1000, 'upper_bound': 100, 'x': -830.615}"
      ]
     },
     "execution_count": 8,
     "metadata": {},
     "output_type": "execute_result"
    }
   ],
   "source": [
    "fba_solutions[0]['exchanges']['cpd00001_e0']"
   ]
  },
  {
   "cell_type": "markdown",
   "metadata": {},
   "source": [
    "The `reactions` key is a dictionary keyed by reaction ID with details on the bounds and flux for every reaction in model."
   ]
  },
  {
   "cell_type": "code",
   "execution_count": 9,
   "metadata": {
    "collapsed": false
   },
   "outputs": [
    {
     "data": {
      "text/plain": [
       "{'lower_bound': -1000, 'upper_bound': 0, 'x': -0.1547}"
      ]
     },
     "execution_count": 9,
     "metadata": {},
     "output_type": "execute_result"
    }
   ],
   "source": [
    "fba_solutions[0]['reactions']['rxn00086_c0']"
   ]
  },
  {
   "cell_type": "markdown",
   "metadata": {},
   "source": [
    "If you no longer need a ModelSEED model, delete it from your ModelSEED workspace with `delete_modelseed_model()`."
   ]
  },
  {
   "cell_type": "code",
   "execution_count": 10,
   "metadata": {
    "collapsed": false
   },
   "outputs": [],
   "source": [
    "modelseed.delete_modelseed_model('226186.12')"
   ]
  }
 ],
 "metadata": {
  "kernelspec": {
   "display_name": "modelseed Python 27",
   "language": "python",
   "name": "modelseed python 27"
  },
  "language_info": {
   "codemirror_mode": {
    "name": "ipython",
    "version": 2
   },
   "file_extension": ".py",
   "mimetype": "text/x-python",
   "name": "python",
   "nbconvert_exporter": "python",
   "pygments_lexer": "ipython2",
   "version": "2.7.11"
  }
 },
 "nbformat": 4,
 "nbformat_minor": 2
}
