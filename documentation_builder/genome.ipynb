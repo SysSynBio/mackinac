{
 "cells": [
  {
   "cell_type": "markdown",
   "metadata": {},
   "source": [
    "## Working with PATRIC genomes\n",
    "\n",
    "ModelSEED for cobrapy provides functions for working with PATRIC genomes."
   ]
  },
  {
   "cell_type": "code",
   "execution_count": 1,
   "metadata": {
    "collapsed": true
   },
   "outputs": [],
   "source": [
    "import modelseed"
   ]
  },
  {
   "cell_type": "markdown",
   "metadata": {},
   "source": [
    "Get summary information for a PATRIC genome with `get_genome_summary()`. Note that information available in the summary can be different for different genomes depending on the source of the genome."
   ]
  },
  {
   "cell_type": "code",
   "execution_count": 2,
   "metadata": {
    "collapsed": false
   },
   "outputs": [
    {
     "data": {
      "text/plain": [
       "{u'_version_': 1552608979212828700,\n",
       " u'assembly_accession': u'GCA_000011065.1',\n",
       " u'bioproject_accession': u'PRJNA399',\n",
       " u'biosample_accession': u'SAMN02604314',\n",
       " u'brc1_cds': 0,\n",
       " u'cell_shape': u'Rod',\n",
       " u'chromosomes': 1,\n",
       " u'class': u'Bacteroidia',\n",
       " u'comments': [u'Bacteroides thetaiotaomicron strain VPI-5482. This is the type strain for this organism and was isolated from the feces of a healthy adult.'],\n",
       " u'common_name': u'Bacteroides_thetaiotaomicron_VPI-5482',\n",
       " u'completion_date': u'2003-03-29T00:00:00Z',\n",
       " u'contigs': 0,\n",
       " u'date_inserted': u'2014-12-08T22:10:24.729Z',\n",
       " u'date_modified': u'2015-03-16T03:17:09.594Z',\n",
       " u'disease': [u'Peritonitis'],\n",
       " u'document_type': u'genome',\n",
       " u'family': u'Bacteroidaceae',\n",
       " u'gc_content': 42.9,\n",
       " u'genbank_accessions': u'AE015928,AY171301',\n",
       " u'genome_id': u'226186.12',\n",
       " u'genome_length': 6293399,\n",
       " u'genome_name': u'Bacteroides thetaiotaomicron VPI-5482',\n",
       " u'genome_status': u'Complete',\n",
       " u'genus': u'Bacteroides',\n",
       " u'gram_stain': u'-',\n",
       " u'habitat': u'Host-associated',\n",
       " u'isolation_comments': u'isolated from the feces of a healthy adult',\n",
       " u'isolation_source': u'the feces of a healthy adult',\n",
       " u'kingdom': u'Bacteria',\n",
       " u'ncbi_project_id': u'399',\n",
       " u'optimal_temperature': u'-',\n",
       " u'order': u'Bacteroidales',\n",
       " u'organism_name': u'Bacteroides thetaiotaomicron VPI-5482',\n",
       " u'owner': u'PATRIC',\n",
       " u'oxygen_requirement': u'Anaerobic',\n",
       " u'p2_genome_id': 70966,\n",
       " u'patric_cds': 4872,\n",
       " u'phylum': u'Bacteroidetes',\n",
       " u'plasmids': 1,\n",
       " u'public': True,\n",
       " u'publication': u'12663928,19321416',\n",
       " u'reference_genome': u'Reference',\n",
       " u'refseq_accessions': u'NC_004663,NC_004703',\n",
       " u'refseq_cds': 4816,\n",
       " u'refseq_project_id': u'62913',\n",
       " u'sequences': 2,\n",
       " u'sequencing_centers': u'Genome Sequencing Center (GSC) at Washington University (WashU) School of Medicine',\n",
       " u'sequencing_status': u'complete',\n",
       " u'species': u'Bacteroides thetaiotaomicron',\n",
       " u'strain': u'VPI-5482',\n",
       " u'taxon_id': 226186,\n",
       " u'taxon_lineage_ids': [u'131567',\n",
       "  u'2',\n",
       "  u'1783270',\n",
       "  u'68336',\n",
       "  u'976',\n",
       "  u'200643',\n",
       "  u'171549',\n",
       "  u'815',\n",
       "  u'816',\n",
       "  u'818',\n",
       "  u'226186'],\n",
       " u'taxon_lineage_names': [u'cellular organisms',\n",
       "  u'Bacteria',\n",
       "  u'FCB group',\n",
       "  u'Bacteroidetes/Chlorobi group',\n",
       "  u'Bacteroidetes',\n",
       "  u'Bacteroidia',\n",
       "  u'Bacteroidales',\n",
       "  u'Bacteroidaceae',\n",
       "  u'Bacteroides',\n",
       "  u'Bacteroides thetaiotaomicron',\n",
       "  u'Bacteroides thetaiotaomicron VPI-5482'],\n",
       " u'temperature_range': u'Mesophilic',\n",
       " u'type_strain': u'Yes'}"
      ]
     },
     "execution_count": 2,
     "metadata": {},
     "output_type": "execute_result"
    }
   ],
   "source": [
    "modelseed.get_genome_summary('226186.12')"
   ]
  },
  {
   "cell_type": "markdown",
   "metadata": {},
   "source": [
    "Get the features for an annotated genome with `get_genome_features()`. Both PATRIC and RefSeq annotations are available."
   ]
  },
  {
   "cell_type": "code",
   "execution_count": 3,
   "metadata": {
    "collapsed": false
   },
   "outputs": [
    {
     "data": {
      "text/plain": [
       "4965"
      ]
     },
     "execution_count": 3,
     "metadata": {},
     "output_type": "execute_result"
    }
   ],
   "source": [
    "features = modelseed.get_genome_features('226186.12', annotation='PATRIC')\n",
    "len(features)"
   ]
  },
  {
   "cell_type": "markdown",
   "metadata": {},
   "source": [
    "The returned list has detailed information about each feature including the type and DNA sequence. If the feature is a coding sequence, the returned data also includes the amino acid sequence."
   ]
  },
  {
   "cell_type": "code",
   "execution_count": 4,
   "metadata": {
    "collapsed": false
   },
   "outputs": [
    {
     "data": {
      "text/plain": [
       "{u'aa_length': 695,\n",
       " u'aa_sequence': u'MMIRKTLTILAVSCMMYSCGTKTESNPFFTEFQTEYGVPSFDKIKLEHYEPAFLKGIEEQNQNIQAIIASPEVPTFDNTIVALDSSAPILDRVSAIFFNMTDAETTDELTELSIKMAPVLSEHEDNISLNQELFKRVNVVYQQKDSMNLTTEQKRLLDKTYKGFVRSGANLDAEKQARLREINKELSTLGITFSNNILNENNAFQLFVDKKEDLAGLPEWFCQSAAEEAKAAGQPGKWLFTLHNASRLPFLQYAENRPLREKMYKAYINRGNNNDKNDNKETIRKIVSLRLEKARLLGFNNYANFVLDETMSKNDSNVMSLLNNLWSYALPKAKAEAAELQQLMDKEGKGEKLEAWDWWYYTEKLRKEKYNLSEEDTKPYFKLENVREGAFAVANKLYGITLNKLEGIPTYHPDVEVFEVKDADGSQLGIFYVDYFPRSGKSGGAWMSNYREQQGATRPLVCNVCSFTKPVGDTPSLLTMDEVETLFHEFGHALHGLLTKCEYKGTSGTNVVRDFVELPSQINEHWATEPEVLKMYAKHYQTGEVIPDEIIEKILKQKTFNQGFMTTELLAAAILDMNLHMITDVKNLDMLAFEKEAMDKLGLIPEIAPRYRVTYFNHIIGGYAAGYYSYLWANVLDNDAFEAFKEHGIFDKNTADLFRYNVLEKGDSEDPMILYKNFRGAEPSLEPLLKNRGMK',\n",
       " u'aa_sequence_md5': u'5e357f79ce4c35c27824cc81d38127c6',\n",
       " u'accession': u'NC_004663',\n",
       " u'alt_locus_tag': u'VBIBacThe70966_2881',\n",
       " u'annotation': u'PATRIC',\n",
       " u'date_inserted': u'2014-10-21T02:19:49.692Z',\n",
       " u'date_modified': u'2014-10-27T18:24:47.095Z',\n",
       " u'ec': [u'3.4.15.5|Peptidyl-dipeptidase Dcp'],\n",
       " u'end': 3534203,\n",
       " u'feature_id': u'PATRIC.226186.12.NC_004663.CDS.3532116.3534203.fwd',\n",
       " u'feature_type': u'CDS',\n",
       " u'figfam_id': u'FIG00004220',\n",
       " u'gene_id': 1071931,\n",
       " u'genome_id': u'226186.12',\n",
       " u'genome_name': u'Bacteroides thetaiotaomicron VPI-5482',\n",
       " u'gi': 29348243,\n",
       " u'location': u'3532116..3534203',\n",
       " u'na_length': 2088,\n",
       " u'na_sequence': u'atgatgattagaaaaactttaaccattttagcagtaagttgtatgatgtactcctgtggaacaaaaacagaaagcaaccctttcttcactgaatttcaaacagagtatggtgttccttccttcgataaaatcaaactggaacattacgaacccgcctttctgaaaggtattgaagagcagaatcagaatatccaagccattatcgcaagcccggaagtgcctactttcgacaatacgattgtagctttggacagcagcgcacccattctggaccgtgtaagcgccattttcttcaatatgacggatgcggaaacaaccgatgaactgaccgagctctctatcaaaatggcaccggtcctttccgagcacgaagataacatctccctgaatcaggagcttttcaaacgtgtaaacgttgtatatcaacagaaagattccatgaatctgaccacggaacagaaacgtctgctggacaaaacttacaaaggatttgtccgttcaggtgctaatctggatgcagagaaacaggcacgtctgcgtgaaatcaacaaagaactttccactctcggcatcacattcagcaataatatactgaatgaaaacaatgctttccagcttttcgtagacaagaaagaagatttagccggattgcccgaatggttctgccaaagcgcagccgaagaagccaaagctgccggacaaccggggaaatggctgttcaccctgcacaacgccagccgccttccgttcctgcaatacgctgagaaccgccctctccgtgagaaaatgtacaaagcatacatcaaccgcggcaataacaatgacaagaatgacaacaaagaaacgatccgcaagatcgtctccctccgcctggaaaaagcaaggctattgggcttcaacaactacgccaacttcgtactggatgagacaatgtcaaagaatgacagcaacgtaatgagtctgctgaacaacctttggagctatgccctcccgaaagcgaaagccgaagccgcagaacttcaacagttaatggacaaagaaggcaaaggagagaaactggaagcctgggactggtggtactacacagaaaaactccgcaaagagaaatacaacctctccgaagaagacaccaaaccttacttcaaactggagaatgtacgtgaaggagctttcgcagtcgccaacaaactatatggtatcactctgaacaaactggaaggtatcccgacttatcatccggatgtagaagtcttcgaagtgaaagacgctgacggctcccaactgggcatattctatgtagactatttcccgcgttcaggaaaaagcggtggcgcatggatgagcaattaccgcgaacagcagggagcaacccgccccttggtatgcaacgtatgcagtttcaccaaaccggtcggcgacaccccttctctgctgactatggacgaagtagaaactctgttccacgaattcgggcacgctctgcatggcttactgacaaagtgcgaatacaaagggacttccggcaccaatgtcgtacgcgattttgttgaacttccttctcagatcaacgaacattgggctaccgaaccggaagtgctgaaaatgtatgccaaacactatcagacaggagaagtaatccccgatgaaatcatcgaaaagattctgaaacagaaaacgttcaaccaaggattcatgaccaccgagttactggctgccgccatcctcgacatgaaccttcacatgataacagatgtaaagaatctggatatgcttgctttcgaaaaagaagccatggacaagctcggcctgatccccgaaattgccccccgctaccgcgtcacttacttcaatcatatcattggcggatacgctgccggatactacagttacctttgggcgaatgtacttgacaatgatgcctttgaagccttcaaagaacatggaatctttgataaaaacactgccgacctcttccgctacaacgtattggaaaagggagacagcgaagatccgatgatactttataagaatttccgcggtgcagaaccaagcctggagccgttactgaaaaacagaggaatgaaataa',\n",
       " u'owner': u'PATRIC',\n",
       " u'p2_feature_id': 21060633,\n",
       " u'patric_id': u'fig|226186.12.peg.2881',\n",
       " u'pgfam_id': u'PGF_00423604',\n",
       " u'plfam_id': u'PLF_816_00003556',\n",
       " u'pos_group': u'NC_004663:3534203:+',\n",
       " u'product': u'Dipeptidyl carboxypeptidase Dcp (EC 3.4.15.5)',\n",
       " u'protein_id': u'NP_811746.1',\n",
       " u'public': True,\n",
       " u'refseq_locus_tag': u'BT_2834',\n",
       " u'segments': [u'3532116..3534203'],\n",
       " u'sequence_id': u'NC_004663',\n",
       " u'start': 3532116,\n",
       " u'strand': u'+',\n",
       " u'taxon_id': 226186,\n",
       " u'uniprotkb_accession': [u'Q8A3X0']}"
      ]
     },
     "execution_count": 4,
     "metadata": {},
     "output_type": "execute_result"
    }
   ],
   "source": [
    "features[100]"
   ]
  }
 ],
 "metadata": {
  "kernelspec": {
   "display_name": "modelseed Python 27",
   "language": "python",
   "name": "modelseed python 27"
  },
  "language_info": {
   "codemirror_mode": {
    "name": "ipython",
    "version": 2
   },
   "file_extension": ".py",
   "mimetype": "text/x-python",
   "name": "python",
   "nbconvert_exporter": "python",
   "pygments_lexer": "ipython2",
   "version": "2.7.11"
  }
 },
 "nbformat": 4,
 "nbformat_minor": 2
}
