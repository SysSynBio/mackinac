{
 "cells": [
  {
   "cell_type": "markdown",
   "metadata": {
    "deletable": true,
    "editable": true
   },
   "source": [
    "## Model analysis\n",
    "\n",
    "Mackinac enables you to seamlessly work with ModelSEED models in COBRApy.\n",
    "\n",
    "This notebook shows how to work with two models for Escherichia coli str. K-12 substr. MG1655. The [iJO1366 model](http://bigg.ucsd.edu/models/iJO1366) is a manually curated model that is available from BiGG. You need to download the SBML file to your computer before running this notebook. PATRIC has the [genome 511145.183](https://www.patricbrc.org/view/Genome/511145.183) that can be used to automatically reconstruct a model. Make sure you have obtained a PATRIC authentication token (see the [modelseed notebook](modelseed.ipynb)) before running this notebook.\n",
    "\n",
    "First, use the ModelSEED web service to reconstruct and gap fill a model for the 511145.183 genome. Note that it takes a few minutes for the ModelSEED web service to reconstruct and gap fill the model."
   ]
  },
  {
   "cell_type": "code",
   "execution_count": 1,
   "metadata": {
    "collapsed": false,
    "deletable": true,
    "editable": true
   },
   "outputs": [
    {
     "data": {
      "text/plain": [
       "{'fba_count': 0,\n",
       " 'gapfilled_reactions': 44,\n",
       " 'gene_associated_reactions': 1565,\n",
       " 'genome_ref': u'/mmundy@patricbrc.org/modelseed/511145.183/genome',\n",
       " 'id': u'511145.183',\n",
       " 'integrated_gapfills': 1,\n",
       " 'name': u'Escherichia coli str. K-12 substr. MG1655',\n",
       " 'num_biomass_compounds': 85,\n",
       " 'num_biomasses': 1,\n",
       " 'num_compartments': 2,\n",
       " 'num_compounds': 1755,\n",
       " 'num_genes': 1045,\n",
       " 'num_reactions': 1609,\n",
       " 'ref': u'/mmundy@patricbrc.org/modelseed/511145.183',\n",
       " 'rundate': u'2017-03-15T20:25:03',\n",
       " 'source': u'PATRIC',\n",
       " 'source_id': u'511145.183',\n",
       " 'template_ref': u'/chenry/public/modelsupport/templates/GramNegative.modeltemplate',\n",
       " 'type': u'GenomeScale',\n",
       " 'unintegrated_gapfills': 0}"
      ]
     },
     "execution_count": 1,
     "metadata": {},
     "output_type": "execute_result"
    }
   ],
   "source": [
    "import mackinac\n",
    "mackinac.modelseed.ms_client.url = 'http://p3c.theseed.org/dev1/services/ProbModelSEED'\n",
    "mackinac.reconstruct_modelseed_model('511145.183')\n",
    "mackinac.gapfill_modelseed_model('511145.183')"
   ]
  },
  {
   "cell_type": "markdown",
   "metadata": {
    "deletable": true,
    "editable": true
   },
   "source": [
    "Second, create a COBRA model from the ModelSEED model."
   ]
  },
  {
   "cell_type": "code",
   "execution_count": 2,
   "metadata": {
    "collapsed": false,
    "deletable": true,
    "editable": true
   },
   "outputs": [],
   "source": [
    "ms_model = mackinac.create_cobra_model_from_modelseed_model('511145.183')"
   ]
  },
  {
   "cell_type": "markdown",
   "metadata": {
    "deletable": true,
    "editable": true
   },
   "source": [
    "Now you can analyze the ModelSEED model using the functions in COBRApy. You can optimize the model to check for growth on a complete medium."
   ]
  },
  {
   "cell_type": "code",
   "execution_count": 3,
   "metadata": {
    "collapsed": false,
    "deletable": true,
    "editable": true
   },
   "outputs": [
    {
     "data": {
      "text/plain": [
       "<Solution 369.21 at 0x10e0b9310>"
      ]
     },
     "execution_count": 3,
     "metadata": {},
     "output_type": "execute_result"
    }
   ],
   "source": [
    "ms_model.optimize()"
   ]
  },
  {
   "cell_type": "markdown",
   "metadata": {
    "deletable": true,
    "editable": true
   },
   "source": [
    "And get a summary of the optimization to see the metabolites consumed and produced by the organism."
   ]
  },
  {
   "cell_type": "code",
   "execution_count": 4,
   "metadata": {
    "collapsed": false,
    "deletable": true,
    "editable": true
   },
   "outputs": [
    {
     "name": "stdout",
     "output_type": "stream",
     "text": [
      "IN FLUXES            OUT FLUXES           OBJECTIVES\n",
      "-------------------  -------------------  ------------\n",
      "cpd00007_e    1e+03  cpd00009_e    1e+03  bio1  369\n",
      "cpd00024_e    1e+03  cpd00011_e    1e+03\n",
      "cpd00054_e    1e+03  cpd00013_e    1e+03\n",
      "cpd00080_e    1e+03  cpd00027_e    1e+03\n",
      "cpd00082_e    1e+03  cpd00035_e    1e+03\n",
      "cpd00106_e    1e+03  cpd00036_e    1e+03\n",
      "cpd00130_e    1e+03  cpd00041_e    1e+03\n",
      "cpd00132_e    1e+03  cpd00047_e    1e+03\n",
      "cpd00179_e    1e+03  cpd00079_e    1e+03\n",
      "cpd00314_e    1e+03  cpd00092_e    1e+03\n",
      "cpd00438_e    1e+03  cpd00100_e    1e+03\n",
      "cpd00573_e    1e+03  cpd00138_e    1e+03\n",
      "cpd00653_e    1e+03  cpd00154_e    1e+03\n",
      "cpd00654_e    1e+03  cpd00159_e    1e+03\n",
      "cpd00794_e    1e+03  cpd00208_e    1e+03\n",
      "cpd01912_e  958      cpd00246_e    1e+03\n",
      "cpd00118_e  909      cpd00281_e    1e+03\n",
      "cpd00367_e  796      cpd00396_e    1e+03\n",
      "cpd00108_e  761      cpd00412_e    1e+03\n",
      "cpd03279_e  689      cpd00222_e  942\n",
      "cpd00235_e  541      cpd00139_e  918\n",
      "cpd00276_e  526      cpd00161_e  849\n",
      "cpd00588_e  441      cpd00122_e  848\n",
      "cpd17041_c  369      cpd03198_e  761\n",
      "cpd17042_c  369      cpd00277_e  689\n",
      "cpd17043_c  369      cpd00033_e  624\n",
      "cpd00117_e  346      cpd00023_e  448\n",
      "cpd00249_e  274      cpd11416_c  369\n",
      "cpd00107_e  170      cpd00067_e  236\n",
      "cpd00156_e  130      cpd00012_e  101\n",
      "cpd00039_e  115\n",
      "cpd00051_e   91.1\n",
      "cpd00322_e   89.3\n",
      "cpd00129_e   68.1\n",
      "cpd00311_e   61.7\n",
      "cpd00066_e   57.1\n",
      "cpd03847_e   55.4\n",
      "cpd00182_e   53.4\n",
      "cpd01914_e   48.3\n",
      "cpd00069_e   44.6\n",
      "cpd00210_e   31.5\n",
      "cpd01080_e   31.5\n",
      "cpd11584_e   29.3\n",
      "cpd00065_e   17.4\n",
      "cpd00184_e    5.82\n",
      "cpd00028_e    2.29\n",
      "cpd00355_e    2.29\n",
      "cpd00644_e    2.29\n",
      "cpd00030_e    1.14\n",
      "cpd00034_e    1.14\n",
      "cpd00048_e    1.14\n",
      "cpd00058_e    1.14\n",
      "cpd00063_e    1.14\n",
      "cpd00099_e    1.14\n",
      "cpd00149_e    1.14\n",
      "cpd00205_e    1.14\n",
      "cpd00254_e    1.14\n",
      "cpd00264_e    1.14\n",
      "cpd00305_e    1.14\n",
      "cpd10515_e    1.14\n",
      "cpd10516_e    1.14\n"
     ]
    }
   ],
   "source": [
    "ms_model.summary()"
   ]
  },
  {
   "cell_type": "markdown",
   "metadata": {
    "deletable": true,
    "editable": true
   },
   "source": [
    "For comparison, you can load the iJO1366 model from a SBML file. In the cell below, change the input parameter to the path to the SBML file you downloaded from BiGG."
   ]
  },
  {
   "cell_type": "code",
   "execution_count": 5,
   "metadata": {
    "collapsed": false,
    "deletable": true,
    "editable": true
   },
   "outputs": [],
   "source": [
    "from cobra.io import read_sbml_model\n",
    "jo_model = read_sbml_model('iJO1366.xml')"
   ]
  },
  {
   "cell_type": "markdown",
   "metadata": {
    "deletable": true,
    "editable": true
   },
   "source": [
    "You can check the number of reactions and metabolites in the model."
   ]
  },
  {
   "cell_type": "code",
   "execution_count": 6,
   "metadata": {
    "collapsed": false,
    "deletable": true,
    "editable": true
   },
   "outputs": [
    {
     "data": {
      "text/plain": [
       "2583"
      ]
     },
     "execution_count": 6,
     "metadata": {},
     "output_type": "execute_result"
    }
   ],
   "source": [
    "len(jo_model.reactions)"
   ]
  },
  {
   "cell_type": "code",
   "execution_count": 7,
   "metadata": {
    "collapsed": false,
    "deletable": true,
    "editable": true
   },
   "outputs": [
    {
     "data": {
      "text/plain": [
       "1805"
      ]
     },
     "execution_count": 7,
     "metadata": {},
     "output_type": "execute_result"
    }
   ],
   "source": [
    "len(jo_model.metabolites)"
   ]
  },
  {
   "cell_type": "markdown",
   "metadata": {
    "deletable": true,
    "editable": true
   },
   "source": [
    "You can optimize the model to check for growth on the medium defined in the model."
   ]
  },
  {
   "cell_type": "code",
   "execution_count": 8,
   "metadata": {
    "collapsed": false,
    "deletable": true,
    "editable": true
   },
   "outputs": [
    {
     "data": {
      "text/plain": [
       "<Solution 0.98 at 0x10ee810d0>"
      ]
     },
     "execution_count": 8,
     "metadata": {},
     "output_type": "execute_result"
    }
   ],
   "source": [
    "jo_model.optimize()"
   ]
  },
  {
   "cell_type": "markdown",
   "metadata": {
    "deletable": true,
    "editable": true
   },
   "source": [
    "And get a summary of the optimization."
   ]
  },
  {
   "cell_type": "code",
   "execution_count": 9,
   "metadata": {
    "collapsed": false,
    "deletable": true,
    "editable": true
   },
   "outputs": [
    {
     "name": "stdout",
     "output_type": "stream",
     "text": [
      "IN FLUXES             OUT FLUXES           OBJECTIVES\n",
      "--------------------  -------------------  ----------------------\n",
      "o2_e       17.6       h2o_e     45.6       BIOMASS_Ec_i...  0.982\n",
      "nh4_e      10.6       co2_e     19.7\n",
      "glc__D_e   10         h_e        9.03\n",
      "pi_e        0.948     mththf_c   0.00044\n",
      "so4_e       0.248     5drib_c    0.000221\n",
      "k_e         0.192     4crsol_c   0.000219\n",
      "fe2_e       0.0158    amob_c     2e-06\n",
      "mg2_e       0.00852   meoh_e     2e-06\n",
      "ca2_e       0.00511\n",
      "cl_e        0.00511\n",
      "cu2_e       0.000697\n",
      "mn2_e       0.000679\n",
      "zn2_e       0.000335\n",
      "ni2_e       0.000317\n",
      "mobd_e      0.000127\n",
      "cobalt2_e   2.5e-05\n"
     ]
    }
   ],
   "source": [
    "jo_model.summary()"
   ]
  }
 ],
 "metadata": {
  "kernelspec": {
   "display_name": "Mackinac Python 27",
   "language": "python",
   "name": "mackinac python 27"
  },
  "language_info": {
   "codemirror_mode": {
    "name": "ipython",
    "version": 2
   },
   "file_extension": ".py",
   "mimetype": "text/x-python",
   "name": "python",
   "nbconvert_exporter": "python",
   "pygments_lexer": "ipython2",
   "version": "2.7.11"
  }
 },
 "nbformat": 4,
 "nbformat_minor": 2
}
